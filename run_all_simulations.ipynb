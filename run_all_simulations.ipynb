{
 "cells": [
  {
   "cell_type": "markdown",
   "metadata": {},
   "source": [
    "# Setup "
   ]
  },
  {
   "cell_type": "markdown",
   "metadata": {},
   "source": [
    "### Import libraries"
   ]
  },
  {
   "cell_type": "code",
   "execution_count": 12,
   "metadata": {},
   "outputs": [],
   "source": [
    "import yaml \n",
    "from pathlib import Path\n",
    "import os\n",
    "path = Path(\"C:/Users/HP/Desktop/UNOS data/codes/simulation-waitline-unos\").resolve()  # Get the absolute path\n",
    "os.chdir(path)\n",
    "import prediction as pred \n",
    "from data import *\n",
    "from simulation import * \n",
    "import copy"
   ]
  },
  {
   "cell_type": "markdown",
   "metadata": {},
   "source": [
    "Load data from UNOS and dictionaries to map ethnicities and blood type compatibility"
   ]
  },
  {
   "cell_type": "code",
   "execution_count": 13,
   "metadata": {},
   "outputs": [],
   "source": [
    "df_base = load_data()   \n",
    "yaml_file_path = \"C:/Users/HP/Desktop/UNOS data/codes/simulation-waitline-unos/mapping_data.yaml\"\n",
    "with open(yaml_file_path, \"r\") as file:\n",
    "    loaded_data = yaml.safe_load(file)\n",
    "ethcat_mapping = loaded_data[\"ethcat_mapping\"]\n",
    "blood_type_compatibility = loaded_data[\"blood_type_compatibility\"]"
   ]
  },
  {
   "cell_type": "markdown",
   "metadata": {},
   "source": [
    "Get proportions by gender from UNOS sample"
   ]
  },
  {
   "cell_type": "code",
   "execution_count": 14,
   "metadata": {},
   "outputs": [
    {
     "data": {
      "text/html": [
       "<div>\n",
       "<style scoped>\n",
       "    .dataframe tbody tr th:only-of-type {\n",
       "        vertical-align: middle;\n",
       "    }\n",
       "\n",
       "    .dataframe tbody tr th {\n",
       "        vertical-align: top;\n",
       "    }\n",
       "\n",
       "    .dataframe thead th {\n",
       "        text-align: right;\n",
       "    }\n",
       "</style>\n",
       "<table border=\"1\" class=\"dataframe\">\n",
       "  <thead>\n",
       "    <tr style=\"text-align: right;\">\n",
       "      <th></th>\n",
       "      <th>gender</th>\n",
       "      <th>sample_proportion</th>\n",
       "    </tr>\n",
       "  </thead>\n",
       "  <tbody>\n",
       "    <tr>\n",
       "      <th>0</th>\n",
       "      <td>M</td>\n",
       "      <td>0.64827</td>\n",
       "    </tr>\n",
       "    <tr>\n",
       "      <th>1</th>\n",
       "      <td>F</td>\n",
       "      <td>0.35173</td>\n",
       "    </tr>\n",
       "  </tbody>\n",
       "</table>\n",
       "</div>"
      ],
      "text/plain": [
       "  gender  sample_proportion\n",
       "0      M            0.64827\n",
       "1      F            0.35173"
      ]
     },
     "execution_count": 14,
     "metadata": {},
     "output_type": "execute_result"
    }
   ],
   "source": [
    "real_gender_df = df_base.GENDER.value_counts(normalize=True).reset_index()\n",
    "real_gender_df.columns = ['gender', 'sample_proportion']\n",
    "real_gender_df"
   ]
  },
  {
   "cell_type": "markdown",
   "metadata": {},
   "source": [
    "Get proportions by ethnicity from UNOS sample"
   ]
  },
  {
   "cell_type": "code",
   "execution_count": 15,
   "metadata": {},
   "outputs": [
    {
     "data": {
      "text/html": [
       "<div>\n",
       "<style scoped>\n",
       "    .dataframe tbody tr th:only-of-type {\n",
       "        vertical-align: middle;\n",
       "    }\n",
       "\n",
       "    .dataframe tbody tr th {\n",
       "        vertical-align: top;\n",
       "    }\n",
       "\n",
       "    .dataframe thead th {\n",
       "        text-align: right;\n",
       "    }\n",
       "</style>\n",
       "<table border=\"1\" class=\"dataframe\">\n",
       "  <thead>\n",
       "    <tr style=\"text-align: right;\">\n",
       "      <th></th>\n",
       "      <th>ethcat</th>\n",
       "      <th>sample_proportion</th>\n",
       "    </tr>\n",
       "  </thead>\n",
       "  <tbody>\n",
       "    <tr>\n",
       "      <th>0</th>\n",
       "      <td>White, Non-Hispanic</td>\n",
       "      <td>0.439416</td>\n",
       "    </tr>\n",
       "    <tr>\n",
       "      <th>1</th>\n",
       "      <td>Black, Non-Hispanic</td>\n",
       "      <td>0.325258</td>\n",
       "    </tr>\n",
       "    <tr>\n",
       "      <th>2</th>\n",
       "      <td>Hispanic/Latino</td>\n",
       "      <td>0.159551</td>\n",
       "    </tr>\n",
       "    <tr>\n",
       "      <th>3</th>\n",
       "      <td>Asian, Non-Hispanic</td>\n",
       "      <td>0.053213</td>\n",
       "    </tr>\n",
       "    <tr>\n",
       "      <th>4</th>\n",
       "      <td>Amer Ind/Alaska Native, Non-Hispanic</td>\n",
       "      <td>0.013618</td>\n",
       "    </tr>\n",
       "    <tr>\n",
       "      <th>5</th>\n",
       "      <td>Multiracial, Non-Hispanic</td>\n",
       "      <td>0.004764</td>\n",
       "    </tr>\n",
       "    <tr>\n",
       "      <th>6</th>\n",
       "      <td>Native Hawaiian/Other Pacific Islander, Non-Hi...</td>\n",
       "      <td>0.004180</td>\n",
       "    </tr>\n",
       "  </tbody>\n",
       "</table>\n",
       "</div>"
      ],
      "text/plain": [
       "                                              ethcat  sample_proportion\n",
       "0                                White, Non-Hispanic           0.439416\n",
       "1                                Black, Non-Hispanic           0.325258\n",
       "2                                    Hispanic/Latino           0.159551\n",
       "3                                Asian, Non-Hispanic           0.053213\n",
       "4               Amer Ind/Alaska Native, Non-Hispanic           0.013618\n",
       "5                          Multiracial, Non-Hispanic           0.004764\n",
       "6  Native Hawaiian/Other Pacific Islander, Non-Hi...           0.004180"
      ]
     },
     "execution_count": 15,
     "metadata": {},
     "output_type": "execute_result"
    }
   ],
   "source": [
    "real_ethcat_df = df_base.ETHCAT.value_counts(normalize=True).reset_index()\n",
    "real_ethcat_df.ETHCAT = real_ethcat_df.ETHCAT.map(ethcat_mapping)\n",
    "real_ethcat_df.columns = ['ethcat', 'sample_proportion']\n",
    "real_ethcat_df"
   ]
  },
  {
   "cell_type": "markdown",
   "metadata": {},
   "source": [
    "Load predictors and create events"
   ]
  },
  {
   "cell_type": "code",
   "execution_count": 16,
   "metadata": {},
   "outputs": [
    {
     "name": "stderr",
     "output_type": "stream",
     "text": [
      "<>:1: SyntaxWarning: invalid escape sequence '\\d'\n",
      "<>:2: SyntaxWarning: invalid escape sequence '\\c'\n",
      "<>:1: SyntaxWarning: invalid escape sequence '\\d'\n",
      "<>:2: SyntaxWarning: invalid escape sequence '\\c'\n",
      "C:\\Users\\HP\\AppData\\Local\\Temp\\ipykernel_12896\\179456071.py:1: SyntaxWarning: invalid escape sequence '\\d'\n",
      "  decision_tree = pred.SurvivalPredictionModel(model_path='models\\decision_tree_0912.pkl')\n",
      "C:\\Users\\HP\\AppData\\Local\\Temp\\ipykernel_12896\\179456071.py:2: SyntaxWarning: invalid escape sequence '\\c'\n",
      "  cox_prop = pred.SurvivalPredictionModel(model_path='models\\coxprop_0912.pkl')\n"
     ]
    },
    {
     "name": "stdout",
     "output_type": "stream",
     "text": [
      "models\\decision_tree_0912.pkl\n",
      "ok\n",
      "Model loaded successfully from models\\decision_tree_0912.pkl.\n",
      "models\\coxprop_0912.pkl\n",
      "ok\n",
      "Model loaded successfully from models\\coxprop_0912.pkl.\n",
      "models\\forest_0912.pkl\n",
      "ok\n",
      "Model loaded successfully from models\\forest_0912.pkl.\n"
     ]
    }
   ],
   "source": [
    "decision_tree = pred.SurvivalPredictionModel(model_path='models\\decision_tree_0912.pkl')\n",
    "cox_prop = pred.SurvivalPredictionModel(model_path='models\\coxprop_0912.pkl')\n",
    "random_forest = pred.SurvivalPredictionModel(model_path=r'models\\forest_0912.pkl')\n",
    "\n",
    "replicates = 30\n",
    "events_per_replication =create_list_of_events(n_events = 10000, replications=replicates)\n",
    "\n",
    "events_per_replication_p1 = copy.deepcopy(events_per_replication)\n",
    "events_per_replication_p2 = copy.deepcopy(events_per_replication)\n",
    "events_per_replication_p3 = copy.deepcopy(events_per_replication)"
   ]
  },
  {
   "cell_type": "markdown",
   "metadata": {},
   "source": [
    "# Survival Decision tree"
   ]
  },
  {
   "cell_type": "markdown",
   "metadata": {},
   "source": [
    "## Policy 1"
   ]
  },
  {
   "cell_type": "code",
   "execution_count": 17,
   "metadata": {},
   "outputs": [
    {
     "name": "stdout",
     "output_type": "stream",
     "text": [
      "Replicate # 0\n"
     ]
    },
    {
     "name": "stderr",
     "output_type": "stream",
     "text": [
      "Progress replication 0: 100%|█████████▉| 10950.697406058636/10957.5 [04:34<00:00, 20.83time unit/s] c:\\Users\\HP\\miniconda3\\Lib\\site-packages\\tqdm\\std.py:524: TqdmWarning: clamping frac to range [0, 1]\n",
      "  full_bar = Bar(frac,\n",
      "Progress replication 0: 100%|██████████| 10957.930089747902/10957.5 [04:34<00:00, 39.93time unit/s]\n"
     ]
    },
    {
     "name": "stdout",
     "output_type": "stream",
     "text": [
      "Replicate # 1\n"
     ]
    },
    {
     "name": "stderr",
     "output_type": "stream",
     "text": [
      "Progress replication 1: 10959.58529122366time unit [04:37, 39.52time unit/s]                        \n"
     ]
    },
    {
     "name": "stdout",
     "output_type": "stream",
     "text": [
      "Replicate # 2\n"
     ]
    },
    {
     "name": "stderr",
     "output_type": "stream",
     "text": [
      "Progress replication 2: 10958.307244594895time unit [03:03, 59.63time unit/s]                        \n"
     ]
    },
    {
     "name": "stdout",
     "output_type": "stream",
     "text": [
      "Replicate # 3\n"
     ]
    },
    {
     "name": "stderr",
     "output_type": "stream",
     "text": [
      "Progress replication 3: 10958.000551300192time unit [02:39, 68.80time unit/s]                       \n"
     ]
    },
    {
     "name": "stdout",
     "output_type": "stream",
     "text": [
      "Replicate # 4\n"
     ]
    },
    {
     "name": "stderr",
     "output_type": "stream",
     "text": [
      "Progress replication 4: 10958.871215956993time unit [02:32, 71.99time unit/s]                       \n"
     ]
    },
    {
     "name": "stdout",
     "output_type": "stream",
     "text": [
      "Replicate # 5\n"
     ]
    },
    {
     "name": "stderr",
     "output_type": "stream",
     "text": [
      "Progress replication 5: 100%|█████████▉| 10946.93955501798/10957.5 [02:34<00:00, 77.01time unit/s]  c:\\Users\\HP\\miniconda3\\Lib\\site-packages\\tqdm\\std.py:524: TqdmWarning: clamping frac to range [0, 1]\n",
      "  full_bar = Bar(frac,\n",
      "Progress replication 5: 100%|██████████| 10957.961155556466/10957.5 [02:35<00:00, 66.84time unit/s]c:\\Users\\HP\\miniconda3\\Lib\\site-packages\\tqdm\\std.py:524: TqdmWarning: clamping frac to range [0, 1]\n",
      "  full_bar = Bar(frac,\n",
      "Progress replication 5: 100%|██████████| 10957.961155556466/10957.5 [02:35<00:00, 70.52time unit/s]\n"
     ]
    },
    {
     "name": "stdout",
     "output_type": "stream",
     "text": [
      "Replicate # 6\n"
     ]
    },
    {
     "name": "stderr",
     "output_type": "stream",
     "text": [
      "Progress replication 6: 10958.3227591223time unit [02:31, 72.34time unit/s]                         \n"
     ]
    },
    {
     "name": "stdout",
     "output_type": "stream",
     "text": [
      "Replicate # 7\n"
     ]
    },
    {
     "name": "stderr",
     "output_type": "stream",
     "text": [
      "Progress replication 7: 10968.025722266875time unit [02:26, 74.84time unit/s]                       \n"
     ]
    },
    {
     "name": "stdout",
     "output_type": "stream",
     "text": [
      "Replicate # 8\n"
     ]
    },
    {
     "name": "stderr",
     "output_type": "stream",
     "text": [
      "Progress replication 8: 10959.350736797218time unit [02:50, 64.10time unit/s]                       \n"
     ]
    },
    {
     "name": "stdout",
     "output_type": "stream",
     "text": [
      "Replicate # 9\n"
     ]
    },
    {
     "name": "stderr",
     "output_type": "stream",
     "text": [
      "Progress replication 9: 10958.2574054889time unit [02:28, 73.89time unit/s]                         \n"
     ]
    },
    {
     "name": "stdout",
     "output_type": "stream",
     "text": [
      "Replicate # 10\n"
     ]
    },
    {
     "name": "stderr",
     "output_type": "stream",
     "text": [
      "Progress replication 10: 10960.33893078066time unit [02:41, 67.74time unit/s]                        \n"
     ]
    },
    {
     "name": "stdout",
     "output_type": "stream",
     "text": [
      "Replicate # 11\n"
     ]
    },
    {
     "name": "stderr",
     "output_type": "stream",
     "text": [
      "Progress replication 11: 10960.31727951648time unit [02:30, 72.89time unit/s]                        \n"
     ]
    },
    {
     "name": "stdout",
     "output_type": "stream",
     "text": [
      "Replicate # 12\n"
     ]
    },
    {
     "name": "stderr",
     "output_type": "stream",
     "text": [
      "Progress replication 12: 10958.26097997763time unit [02:45, 66.41time unit/s]                        \n"
     ]
    },
    {
     "name": "stdout",
     "output_type": "stream",
     "text": [
      "Replicate # 13\n"
     ]
    },
    {
     "name": "stderr",
     "output_type": "stream",
     "text": [
      "Progress replication 13: 100%|█████████▉| 10933.4294943533/10957.5 [02:38<00:00, 101.93time unit/s]  c:\\Users\\HP\\miniconda3\\Lib\\site-packages\\tqdm\\std.py:524: TqdmWarning: clamping frac to range [0, 1]\n",
      "  full_bar = Bar(frac,\n",
      "Progress replication 13: 100%|██████████| 10957.98809585193/10957.5 [02:38<00:00, 122.15time unit/s]c:\\Users\\HP\\miniconda3\\Lib\\site-packages\\tqdm\\std.py:524: TqdmWarning: clamping frac to range [0, 1]\n",
      "  full_bar = Bar(frac,\n",
      "Progress replication 13: 100%|██████████| 10957.98809585193/10957.5 [02:38<00:00, 68.95time unit/s] \n"
     ]
    },
    {
     "name": "stdout",
     "output_type": "stream",
     "text": [
      "Replicate # 14\n"
     ]
    },
    {
     "name": "stderr",
     "output_type": "stream",
     "text": [
      "Progress replication 14: 100%|█████████▉| 10951.600901619746/10957.5 [02:29<00:00, 60.29time unit/s] c:\\Users\\HP\\miniconda3\\Lib\\site-packages\\tqdm\\std.py:524: TqdmWarning: clamping frac to range [0, 1]\n",
      "  full_bar = Bar(frac,\n",
      "Progress replication 14: 100%|██████████| 10957.748463686283/10957.5 [02:30<00:00, 73.01time unit/s]\n"
     ]
    },
    {
     "name": "stdout",
     "output_type": "stream",
     "text": [
      "Replicate # 15\n"
     ]
    },
    {
     "name": "stderr",
     "output_type": "stream",
     "text": [
      "Progress replication 15: 10959.262648204814time unit [02:37, 69.72time unit/s]                       \n"
     ]
    },
    {
     "name": "stdout",
     "output_type": "stream",
     "text": [
      "Replicate # 16\n"
     ]
    },
    {
     "name": "stderr",
     "output_type": "stream",
     "text": [
      "Progress replication 16: 10958.105364057108time unit [02:35, 70.34time unit/s]                       \n"
     ]
    },
    {
     "name": "stdout",
     "output_type": "stream",
     "text": [
      "Replicate # 17\n"
     ]
    },
    {
     "name": "stderr",
     "output_type": "stream",
     "text": [
      "Progress replication 17: 10959.647230038352time unit [02:35, 70.49time unit/s]                       \n"
     ]
    },
    {
     "name": "stdout",
     "output_type": "stream",
     "text": [
      "Replicate # 18\n"
     ]
    },
    {
     "name": "stderr",
     "output_type": "stream",
     "text": [
      "Progress replication 18: 10959.164278071128time unit [02:34, 70.91time unit/s]                       \n"
     ]
    },
    {
     "name": "stdout",
     "output_type": "stream",
     "text": [
      "Replicate # 19\n"
     ]
    },
    {
     "name": "stderr",
     "output_type": "stream",
     "text": [
      "Progress replication 19: 10962.261528954496time unit [02:39, 68.78time unit/s]                       \n"
     ]
    },
    {
     "name": "stdout",
     "output_type": "stream",
     "text": [
      "Replicate # 20\n"
     ]
    },
    {
     "name": "stderr",
     "output_type": "stream",
     "text": [
      "Progress replication 20: 10958.962203160321time unit [02:36, 70.23time unit/s]                       \n"
     ]
    },
    {
     "name": "stdout",
     "output_type": "stream",
     "text": [
      "Replicate # 21\n"
     ]
    },
    {
     "name": "stderr",
     "output_type": "stream",
     "text": [
      "Progress replication 21: 10962.761632806696time unit [02:40, 68.20time unit/s]                       \n"
     ]
    },
    {
     "name": "stdout",
     "output_type": "stream",
     "text": [
      "Replicate # 22\n"
     ]
    },
    {
     "name": "stderr",
     "output_type": "stream",
     "text": [
      "Progress replication 22: 10958.446864286709time unit [02:38, 68.98time unit/s]                       \n"
     ]
    },
    {
     "name": "stdout",
     "output_type": "stream",
     "text": [
      "Replicate # 23\n"
     ]
    },
    {
     "name": "stderr",
     "output_type": "stream",
     "text": [
      "Progress replication 23: 10959.111239714632time unit [02:41, 68.01time unit/s]                       \n"
     ]
    },
    {
     "name": "stdout",
     "output_type": "stream",
     "text": [
      "Replicate # 24\n"
     ]
    },
    {
     "name": "stderr",
     "output_type": "stream",
     "text": [
      "Progress replication 24: 10959.01811074683time unit [02:40, 68.44time unit/s]                        \n"
     ]
    },
    {
     "name": "stdout",
     "output_type": "stream",
     "text": [
      "Replicate # 25\n"
     ]
    },
    {
     "name": "stderr",
     "output_type": "stream",
     "text": [
      "Progress replication 25: 10968.40136298261time unit [02:34, 70.85time unit/s]                        \n"
     ]
    },
    {
     "name": "stdout",
     "output_type": "stream",
     "text": [
      "Replicate # 26\n"
     ]
    },
    {
     "name": "stderr",
     "output_type": "stream",
     "text": [
      "Progress replication 26: 10958.075603299905time unit [02:25, 75.09time unit/s]                       \n"
     ]
    },
    {
     "name": "stdout",
     "output_type": "stream",
     "text": [
      "Replicate # 27\n"
     ]
    },
    {
     "name": "stderr",
     "output_type": "stream",
     "text": [
      "Progress replication 27: 100%|█████████▉| 10946.694620869013/10957.5 [02:30<00:00, 74.11time unit/s] c:\\Users\\HP\\miniconda3\\Lib\\site-packages\\tqdm\\std.py:524: TqdmWarning: clamping frac to range [0, 1]\n",
      "  full_bar = Bar(frac,\n",
      "Progress replication 27: 100%|██████████| 10957.93757988498/10957.5 [02:31<00:00, 72.53time unit/s] \n"
     ]
    },
    {
     "name": "stdout",
     "output_type": "stream",
     "text": [
      "Replicate # 28\n"
     ]
    },
    {
     "name": "stderr",
     "output_type": "stream",
     "text": [
      "Progress replication 28: 10960.109510269562time unit [02:42, 67.53time unit/s]                       \n"
     ]
    },
    {
     "name": "stdout",
     "output_type": "stream",
     "text": [
      "Replicate # 29\n"
     ]
    },
    {
     "name": "stderr",
     "output_type": "stream",
     "text": [
      "Progress replication 29: 100%|█████████▉| 10947.601265317831/10957.5 [02:31<00:00, 93.39time unit/s] c:\\Users\\HP\\miniconda3\\Lib\\site-packages\\tqdm\\std.py:524: TqdmWarning: clamping frac to range [0, 1]\n",
      "  full_bar = Bar(frac,\n",
      "Progress replication 29: 100%|██████████| 10957.746279322779/10957.5 [02:31<00:00, 72.12time unit/s]\n"
     ]
    }
   ],
   "source": [
    "average_waiting_times, number_of_matches_list, results_p1_no, results_p1_ll, results_p1_fl = run_simulation(events_per_replication_p1,  replicates, decision_tree, policy='p1', verbose=False)"
   ]
  },
  {
   "cell_type": "markdown",
   "metadata": {},
   "source": [
    "### recipients who receive a kidney"
   ]
  },
  {
   "cell_type": "code",
   "execution_count": 18,
   "metadata": {},
   "outputs": [],
   "source": [
    "df_waiting_time, df_gender = get_summary_tables(results_p1_no, ethcat_mapping, real_ethcat_df, real_gender_df)"
   ]
  },
  {
   "cell_type": "code",
   "execution_count": 19,
   "metadata": {},
   "outputs": [
    {
     "data": {
      "text/html": [
       "<div>\n",
       "<style scoped>\n",
       "    .dataframe tbody tr th:only-of-type {\n",
       "        vertical-align: middle;\n",
       "    }\n",
       "\n",
       "    .dataframe tbody tr th {\n",
       "        vertical-align: top;\n",
       "    }\n",
       "\n",
       "    .dataframe thead th {\n",
       "        text-align: right;\n",
       "    }\n",
       "</style>\n",
       "<table border=\"1\" class=\"dataframe\">\n",
       "  <thead>\n",
       "    <tr style=\"text-align: right;\">\n",
       "      <th></th>\n",
       "      <th>ethcat</th>\n",
       "      <th>wt_mean</th>\n",
       "      <th>wt_std</th>\n",
       "      <th>count_mean</th>\n",
       "      <th>count_std</th>\n",
       "      <th>st_mean</th>\n",
       "      <th>st_std</th>\n",
       "      <th>prop_simu</th>\n",
       "      <th>sample_proportion</th>\n",
       "    </tr>\n",
       "  </thead>\n",
       "  <tbody>\n",
       "    <tr>\n",
       "      <th>0</th>\n",
       "      <td>Amer Ind/Alaska Native, Non-Hispanic</td>\n",
       "      <td>1068.002</td>\n",
       "      <td>122.070</td>\n",
       "      <td>12.233</td>\n",
       "      <td>2.515</td>\n",
       "      <td>2844.595</td>\n",
       "      <td>94.264</td>\n",
       "      <td>0.011</td>\n",
       "      <td>0.014</td>\n",
       "    </tr>\n",
       "    <tr>\n",
       "      <th>1</th>\n",
       "      <td>Asian, Non-Hispanic</td>\n",
       "      <td>1195.703</td>\n",
       "      <td>116.648</td>\n",
       "      <td>53.800</td>\n",
       "      <td>5.561</td>\n",
       "      <td>2843.090</td>\n",
       "      <td>36.325</td>\n",
       "      <td>0.047</td>\n",
       "      <td>0.053</td>\n",
       "    </tr>\n",
       "    <tr>\n",
       "      <th>2</th>\n",
       "      <td>Black, Non-Hispanic</td>\n",
       "      <td>1169.059</td>\n",
       "      <td>103.649</td>\n",
       "      <td>361.467</td>\n",
       "      <td>16.598</td>\n",
       "      <td>2849.699</td>\n",
       "      <td>14.211</td>\n",
       "      <td>0.315</td>\n",
       "      <td>0.325</td>\n",
       "    </tr>\n",
       "    <tr>\n",
       "      <th>3</th>\n",
       "      <td>Hispanic/Latino</td>\n",
       "      <td>1093.074</td>\n",
       "      <td>100.777</td>\n",
       "      <td>198.300</td>\n",
       "      <td>11.908</td>\n",
       "      <td>2843.358</td>\n",
       "      <td>21.833</td>\n",
       "      <td>0.173</td>\n",
       "      <td>0.160</td>\n",
       "    </tr>\n",
       "    <tr>\n",
       "      <th>4</th>\n",
       "      <td>Multiracial, Non-Hispanic</td>\n",
       "      <td>1326.847</td>\n",
       "      <td>185.721</td>\n",
       "      <td>7.933</td>\n",
       "      <td>2.212</td>\n",
       "      <td>2887.827</td>\n",
       "      <td>104.390</td>\n",
       "      <td>0.007</td>\n",
       "      <td>0.005</td>\n",
       "    </tr>\n",
       "    <tr>\n",
       "      <th>5</th>\n",
       "      <td>Native Hawaiian/Other Pacific Islander, Non-Hi...</td>\n",
       "      <td>1137.492</td>\n",
       "      <td>144.676</td>\n",
       "      <td>4.100</td>\n",
       "      <td>1.539</td>\n",
       "      <td>2861.860</td>\n",
       "      <td>153.011</td>\n",
       "      <td>0.004</td>\n",
       "      <td>0.004</td>\n",
       "    </tr>\n",
       "    <tr>\n",
       "      <th>6</th>\n",
       "      <td>White, Non-Hispanic</td>\n",
       "      <td>1173.514</td>\n",
       "      <td>100.101</td>\n",
       "      <td>511.033</td>\n",
       "      <td>23.018</td>\n",
       "      <td>2848.006</td>\n",
       "      <td>12.254</td>\n",
       "      <td>0.445</td>\n",
       "      <td>0.439</td>\n",
       "    </tr>\n",
       "  </tbody>\n",
       "</table>\n",
       "</div>"
      ],
      "text/plain": [
       "                                              ethcat   wt_mean   wt_std  \\\n",
       "0               Amer Ind/Alaska Native, Non-Hispanic  1068.002  122.070   \n",
       "1                                Asian, Non-Hispanic  1195.703  116.648   \n",
       "2                                Black, Non-Hispanic  1169.059  103.649   \n",
       "3                                    Hispanic/Latino  1093.074  100.777   \n",
       "4                          Multiracial, Non-Hispanic  1326.847  185.721   \n",
       "5  Native Hawaiian/Other Pacific Islander, Non-Hi...  1137.492  144.676   \n",
       "6                                White, Non-Hispanic  1173.514  100.101   \n",
       "\n",
       "   count_mean  count_std   st_mean   st_std  prop_simu  sample_proportion  \n",
       "0      12.233      2.515  2844.595   94.264      0.011              0.014  \n",
       "1      53.800      5.561  2843.090   36.325      0.047              0.053  \n",
       "2     361.467     16.598  2849.699   14.211      0.315              0.325  \n",
       "3     198.300     11.908  2843.358   21.833      0.173              0.160  \n",
       "4       7.933      2.212  2887.827  104.390      0.007              0.005  \n",
       "5       4.100      1.539  2861.860  153.011      0.004              0.004  \n",
       "6     511.033     23.018  2848.006   12.254      0.445              0.439  "
      ]
     },
     "execution_count": 19,
     "metadata": {},
     "output_type": "execute_result"
    }
   ],
   "source": [
    "\n",
    "df_waiting_time "
   ]
  },
  {
   "cell_type": "code",
   "execution_count": 20,
   "metadata": {},
   "outputs": [
    {
     "data": {
      "text/html": [
       "<div>\n",
       "<style scoped>\n",
       "    .dataframe tbody tr th:only-of-type {\n",
       "        vertical-align: middle;\n",
       "    }\n",
       "\n",
       "    .dataframe tbody tr th {\n",
       "        vertical-align: top;\n",
       "    }\n",
       "\n",
       "    .dataframe thead th {\n",
       "        text-align: right;\n",
       "    }\n",
       "</style>\n",
       "<table border=\"1\" class=\"dataframe\">\n",
       "  <thead>\n",
       "    <tr style=\"text-align: right;\">\n",
       "      <th></th>\n",
       "      <th>gender</th>\n",
       "      <th>wt_mean</th>\n",
       "      <th>wt_std</th>\n",
       "      <th>count_mean</th>\n",
       "      <th>count_std</th>\n",
       "      <th>st_mean</th>\n",
       "      <th>st_std</th>\n",
       "      <th>prop_sim</th>\n",
       "      <th>sample_proportion</th>\n",
       "    </tr>\n",
       "  </thead>\n",
       "  <tbody>\n",
       "    <tr>\n",
       "      <th>0</th>\n",
       "      <td>F</td>\n",
       "      <td>1161.240</td>\n",
       "      <td>99.493</td>\n",
       "      <td>411.767</td>\n",
       "      <td>21.379</td>\n",
       "      <td>2849.574</td>\n",
       "      <td>14.598</td>\n",
       "      <td>0.358</td>\n",
       "      <td>0.352</td>\n",
       "    </tr>\n",
       "    <tr>\n",
       "      <th>1</th>\n",
       "      <td>M</td>\n",
       "      <td>1157.749</td>\n",
       "      <td>101.716</td>\n",
       "      <td>737.100</td>\n",
       "      <td>29.961</td>\n",
       "      <td>2846.771</td>\n",
       "      <td>7.985</td>\n",
       "      <td>0.642</td>\n",
       "      <td>0.648</td>\n",
       "    </tr>\n",
       "  </tbody>\n",
       "</table>\n",
       "</div>"
      ],
      "text/plain": [
       "  gender   wt_mean   wt_std  count_mean  count_std   st_mean  st_std  \\\n",
       "0      F  1161.240   99.493     411.767     21.379  2849.574  14.598   \n",
       "1      M  1157.749  101.716     737.100     29.961  2846.771   7.985   \n",
       "\n",
       "   prop_sim  sample_proportion  \n",
       "0     0.358              0.352  \n",
       "1     0.642              0.648  "
      ]
     },
     "execution_count": 20,
     "metadata": {},
     "output_type": "execute_result"
    }
   ],
   "source": [
    "\n",
    "df_gender.round(3)"
   ]
  },
  {
   "cell_type": "markdown",
   "metadata": {},
   "source": [
    "### patients who leave the waitlist"
   ]
  },
  {
   "cell_type": "code",
   "execution_count": 21,
   "metadata": {},
   "outputs": [],
   "source": [
    "df_waiting_time, df_gender = get_summary_tables(results_p1_ll, ethcat_mapping, real_ethcat_df, real_gender_df)"
   ]
  },
  {
   "cell_type": "code",
   "execution_count": 22,
   "metadata": {},
   "outputs": [
    {
     "data": {
      "text/html": [
       "<div>\n",
       "<style scoped>\n",
       "    .dataframe tbody tr th:only-of-type {\n",
       "        vertical-align: middle;\n",
       "    }\n",
       "\n",
       "    .dataframe tbody tr th {\n",
       "        vertical-align: top;\n",
       "    }\n",
       "\n",
       "    .dataframe thead th {\n",
       "        text-align: right;\n",
       "    }\n",
       "</style>\n",
       "<table border=\"1\" class=\"dataframe\">\n",
       "  <thead>\n",
       "    <tr style=\"text-align: right;\">\n",
       "      <th></th>\n",
       "      <th>ethcat</th>\n",
       "      <th>wt_mean</th>\n",
       "      <th>wt_std</th>\n",
       "      <th>count_mean</th>\n",
       "      <th>count_std</th>\n",
       "      <th>st_mean</th>\n",
       "      <th>st_std</th>\n",
       "      <th>prop_simu</th>\n",
       "      <th>sample_proportion</th>\n",
       "    </tr>\n",
       "  </thead>\n",
       "  <tbody>\n",
       "    <tr>\n",
       "      <th>0</th>\n",
       "      <td>Amer Ind/Alaska Native, Non-Hispanic</td>\n",
       "      <td>663.385</td>\n",
       "      <td>148.812</td>\n",
       "      <td>5.200</td>\n",
       "      <td>1.518</td>\n",
       "      <td>0.0</td>\n",
       "      <td>0.0</td>\n",
       "      <td>0.011</td>\n",
       "      <td>0.014</td>\n",
       "    </tr>\n",
       "    <tr>\n",
       "      <th>1</th>\n",
       "      <td>Asian, Non-Hispanic</td>\n",
       "      <td>689.972</td>\n",
       "      <td>109.829</td>\n",
       "      <td>19.233</td>\n",
       "      <td>3.830</td>\n",
       "      <td>0.0</td>\n",
       "      <td>0.0</td>\n",
       "      <td>0.042</td>\n",
       "      <td>0.053</td>\n",
       "    </tr>\n",
       "    <tr>\n",
       "      <th>2</th>\n",
       "      <td>Black, Non-Hispanic</td>\n",
       "      <td>607.373</td>\n",
       "      <td>57.981</td>\n",
       "      <td>159.500</td>\n",
       "      <td>15.948</td>\n",
       "      <td>0.0</td>\n",
       "      <td>0.0</td>\n",
       "      <td>0.350</td>\n",
       "      <td>0.325</td>\n",
       "    </tr>\n",
       "    <tr>\n",
       "      <th>3</th>\n",
       "      <td>Hispanic/Latino</td>\n",
       "      <td>604.919</td>\n",
       "      <td>60.782</td>\n",
       "      <td>73.467</td>\n",
       "      <td>7.080</td>\n",
       "      <td>0.0</td>\n",
       "      <td>0.0</td>\n",
       "      <td>0.161</td>\n",
       "      <td>0.160</td>\n",
       "    </tr>\n",
       "    <tr>\n",
       "      <th>4</th>\n",
       "      <td>Multiracial, Non-Hispanic</td>\n",
       "      <td>544.843</td>\n",
       "      <td>259.076</td>\n",
       "      <td>2.750</td>\n",
       "      <td>1.143</td>\n",
       "      <td>0.0</td>\n",
       "      <td>0.0</td>\n",
       "      <td>0.006</td>\n",
       "      <td>0.005</td>\n",
       "    </tr>\n",
       "    <tr>\n",
       "      <th>5</th>\n",
       "      <td>Native Hawaiian/Other Pacific Islander, Non-Hi...</td>\n",
       "      <td>560.458</td>\n",
       "      <td>441.031</td>\n",
       "      <td>1.200</td>\n",
       "      <td>0.410</td>\n",
       "      <td>0.0</td>\n",
       "      <td>0.0</td>\n",
       "      <td>0.003</td>\n",
       "      <td>0.004</td>\n",
       "    </tr>\n",
       "    <tr>\n",
       "      <th>6</th>\n",
       "      <td>White, Non-Hispanic</td>\n",
       "      <td>624.404</td>\n",
       "      <td>55.718</td>\n",
       "      <td>194.300</td>\n",
       "      <td>15.121</td>\n",
       "      <td>0.0</td>\n",
       "      <td>0.0</td>\n",
       "      <td>0.426</td>\n",
       "      <td>0.439</td>\n",
       "    </tr>\n",
       "  </tbody>\n",
       "</table>\n",
       "</div>"
      ],
      "text/plain": [
       "                                              ethcat  wt_mean   wt_std  \\\n",
       "0               Amer Ind/Alaska Native, Non-Hispanic  663.385  148.812   \n",
       "1                                Asian, Non-Hispanic  689.972  109.829   \n",
       "2                                Black, Non-Hispanic  607.373   57.981   \n",
       "3                                    Hispanic/Latino  604.919   60.782   \n",
       "4                          Multiracial, Non-Hispanic  544.843  259.076   \n",
       "5  Native Hawaiian/Other Pacific Islander, Non-Hi...  560.458  441.031   \n",
       "6                                White, Non-Hispanic  624.404   55.718   \n",
       "\n",
       "   count_mean  count_std  st_mean  st_std  prop_simu  sample_proportion  \n",
       "0       5.200      1.518      0.0     0.0      0.011              0.014  \n",
       "1      19.233      3.830      0.0     0.0      0.042              0.053  \n",
       "2     159.500     15.948      0.0     0.0      0.350              0.325  \n",
       "3      73.467      7.080      0.0     0.0      0.161              0.160  \n",
       "4       2.750      1.143      0.0     0.0      0.006              0.005  \n",
       "5       1.200      0.410      0.0     0.0      0.003              0.004  \n",
       "6     194.300     15.121      0.0     0.0      0.426              0.439  "
      ]
     },
     "execution_count": 22,
     "metadata": {},
     "output_type": "execute_result"
    }
   ],
   "source": [
    "df_waiting_time"
   ]
  },
  {
   "cell_type": "code",
   "execution_count": 23,
   "metadata": {},
   "outputs": [
    {
     "data": {
      "text/html": [
       "<div>\n",
       "<style scoped>\n",
       "    .dataframe tbody tr th:only-of-type {\n",
       "        vertical-align: middle;\n",
       "    }\n",
       "\n",
       "    .dataframe tbody tr th {\n",
       "        vertical-align: top;\n",
       "    }\n",
       "\n",
       "    .dataframe thead th {\n",
       "        text-align: right;\n",
       "    }\n",
       "</style>\n",
       "<table border=\"1\" class=\"dataframe\">\n",
       "  <thead>\n",
       "    <tr style=\"text-align: right;\">\n",
       "      <th></th>\n",
       "      <th>gender</th>\n",
       "      <th>wt_mean</th>\n",
       "      <th>wt_std</th>\n",
       "      <th>count_mean</th>\n",
       "      <th>count_std</th>\n",
       "      <th>st_mean</th>\n",
       "      <th>st_std</th>\n",
       "      <th>prop_sim</th>\n",
       "      <th>sample_proportion</th>\n",
       "    </tr>\n",
       "  </thead>\n",
       "  <tbody>\n",
       "    <tr>\n",
       "      <th>0</th>\n",
       "      <td>F</td>\n",
       "      <td>574.221205</td>\n",
       "      <td>59.583815</td>\n",
       "      <td>163.566667</td>\n",
       "      <td>15.285069</td>\n",
       "      <td>0.0</td>\n",
       "      <td>0.0</td>\n",
       "      <td>0.359435</td>\n",
       "      <td>0.35173</td>\n",
       "    </tr>\n",
       "    <tr>\n",
       "      <th>1</th>\n",
       "      <td>M</td>\n",
       "      <td>643.389054</td>\n",
       "      <td>54.267474</td>\n",
       "      <td>291.500000</td>\n",
       "      <td>21.873855</td>\n",
       "      <td>0.0</td>\n",
       "      <td>0.0</td>\n",
       "      <td>0.640565</td>\n",
       "      <td>0.64827</td>\n",
       "    </tr>\n",
       "  </tbody>\n",
       "</table>\n",
       "</div>"
      ],
      "text/plain": [
       "  gender     wt_mean     wt_std  count_mean  count_std  st_mean  st_std  \\\n",
       "0      F  574.221205  59.583815  163.566667  15.285069      0.0     0.0   \n",
       "1      M  643.389054  54.267474  291.500000  21.873855      0.0     0.0   \n",
       "\n",
       "   prop_sim  sample_proportion  \n",
       "0  0.359435            0.35173  \n",
       "1  0.640565            0.64827  "
      ]
     },
     "execution_count": 23,
     "metadata": {},
     "output_type": "execute_result"
    }
   ],
   "source": [
    "df_gender"
   ]
  },
  {
   "cell_type": "markdown",
   "metadata": {},
   "source": [
    "### patients who stay in final list"
   ]
  },
  {
   "cell_type": "code",
   "execution_count": 24,
   "metadata": {},
   "outputs": [],
   "source": [
    "df_waiting_time, df_gender = get_summary_tables(results_p1_fl, ethcat_mapping, real_ethcat_df, real_gender_df)"
   ]
  },
  {
   "cell_type": "code",
   "execution_count": 25,
   "metadata": {},
   "outputs": [
    {
     "data": {
      "text/html": [
       "<div>\n",
       "<style scoped>\n",
       "    .dataframe tbody tr th:only-of-type {\n",
       "        vertical-align: middle;\n",
       "    }\n",
       "\n",
       "    .dataframe tbody tr th {\n",
       "        vertical-align: top;\n",
       "    }\n",
       "\n",
       "    .dataframe thead th {\n",
       "        text-align: right;\n",
       "    }\n",
       "</style>\n",
       "<table border=\"1\" class=\"dataframe\">\n",
       "  <thead>\n",
       "    <tr style=\"text-align: right;\">\n",
       "      <th></th>\n",
       "      <th>ethcat</th>\n",
       "      <th>wt_mean</th>\n",
       "      <th>wt_std</th>\n",
       "      <th>count_mean</th>\n",
       "      <th>count_std</th>\n",
       "      <th>st_mean</th>\n",
       "      <th>st_std</th>\n",
       "      <th>prop_simu</th>\n",
       "      <th>sample_proportion</th>\n",
       "    </tr>\n",
       "  </thead>\n",
       "  <tbody>\n",
       "    <tr>\n",
       "      <th>0</th>\n",
       "      <td>Amer Ind/Alaska Native, Non-Hispanic</td>\n",
       "      <td>393.943</td>\n",
       "      <td>142.717</td>\n",
       "      <td>3.034</td>\n",
       "      <td>1.426</td>\n",
       "      <td>0.0</td>\n",
       "      <td>0.0</td>\n",
       "      <td>0.016</td>\n",
       "      <td>0.014</td>\n",
       "    </tr>\n",
       "    <tr>\n",
       "      <th>1</th>\n",
       "      <td>Asian, Non-Hispanic</td>\n",
       "      <td>521.464</td>\n",
       "      <td>138.233</td>\n",
       "      <td>10.533</td>\n",
       "      <td>2.738</td>\n",
       "      <td>0.0</td>\n",
       "      <td>0.0</td>\n",
       "      <td>0.056</td>\n",
       "      <td>0.053</td>\n",
       "    </tr>\n",
       "    <tr>\n",
       "      <th>2</th>\n",
       "      <td>Black, Non-Hispanic</td>\n",
       "      <td>704.921</td>\n",
       "      <td>107.786</td>\n",
       "      <td>65.433</td>\n",
       "      <td>9.442</td>\n",
       "      <td>0.0</td>\n",
       "      <td>0.0</td>\n",
       "      <td>0.345</td>\n",
       "      <td>0.325</td>\n",
       "    </tr>\n",
       "    <tr>\n",
       "      <th>3</th>\n",
       "      <td>Hispanic/Latino</td>\n",
       "      <td>525.434</td>\n",
       "      <td>86.075</td>\n",
       "      <td>32.633</td>\n",
       "      <td>6.178</td>\n",
       "      <td>0.0</td>\n",
       "      <td>0.0</td>\n",
       "      <td>0.172</td>\n",
       "      <td>0.160</td>\n",
       "    </tr>\n",
       "    <tr>\n",
       "      <th>4</th>\n",
       "      <td>Multiracial, Non-Hispanic</td>\n",
       "      <td>416.266</td>\n",
       "      <td>193.261</td>\n",
       "      <td>1.368</td>\n",
       "      <td>0.597</td>\n",
       "      <td>0.0</td>\n",
       "      <td>0.0</td>\n",
       "      <td>0.007</td>\n",
       "      <td>0.005</td>\n",
       "    </tr>\n",
       "    <tr>\n",
       "      <th>5</th>\n",
       "      <td>Native Hawaiian/Other Pacific Islander, Non-Hi...</td>\n",
       "      <td>667.584</td>\n",
       "      <td>180.876</td>\n",
       "      <td>1.000</td>\n",
       "      <td>0.000</td>\n",
       "      <td>0.0</td>\n",
       "      <td>0.0</td>\n",
       "      <td>0.005</td>\n",
       "      <td>0.004</td>\n",
       "    </tr>\n",
       "    <tr>\n",
       "      <th>6</th>\n",
       "      <td>White, Non-Hispanic</td>\n",
       "      <td>671.041</td>\n",
       "      <td>90.365</td>\n",
       "      <td>75.533</td>\n",
       "      <td>10.068</td>\n",
       "      <td>0.0</td>\n",
       "      <td>0.0</td>\n",
       "      <td>0.399</td>\n",
       "      <td>0.439</td>\n",
       "    </tr>\n",
       "  </tbody>\n",
       "</table>\n",
       "</div>"
      ],
      "text/plain": [
       "                                              ethcat  wt_mean   wt_std  \\\n",
       "0               Amer Ind/Alaska Native, Non-Hispanic  393.943  142.717   \n",
       "1                                Asian, Non-Hispanic  521.464  138.233   \n",
       "2                                Black, Non-Hispanic  704.921  107.786   \n",
       "3                                    Hispanic/Latino  525.434   86.075   \n",
       "4                          Multiracial, Non-Hispanic  416.266  193.261   \n",
       "5  Native Hawaiian/Other Pacific Islander, Non-Hi...  667.584  180.876   \n",
       "6                                White, Non-Hispanic  671.041   90.365   \n",
       "\n",
       "   count_mean  count_std  st_mean  st_std  prop_simu  sample_proportion  \n",
       "0       3.034      1.426      0.0     0.0      0.016              0.014  \n",
       "1      10.533      2.738      0.0     0.0      0.056              0.053  \n",
       "2      65.433      9.442      0.0     0.0      0.345              0.325  \n",
       "3      32.633      6.178      0.0     0.0      0.172              0.160  \n",
       "4       1.368      0.597      0.0     0.0      0.007              0.005  \n",
       "5       1.000      0.000      0.0     0.0      0.005              0.004  \n",
       "6      75.533     10.068      0.0     0.0      0.399              0.439  "
      ]
     },
     "execution_count": 25,
     "metadata": {},
     "output_type": "execute_result"
    }
   ],
   "source": [
    "df_waiting_time"
   ]
  },
  {
   "cell_type": "code",
   "execution_count": 26,
   "metadata": {},
   "outputs": [
    {
     "data": {
      "text/html": [
       "<div>\n",
       "<style scoped>\n",
       "    .dataframe tbody tr th:only-of-type {\n",
       "        vertical-align: middle;\n",
       "    }\n",
       "\n",
       "    .dataframe tbody tr th {\n",
       "        vertical-align: top;\n",
       "    }\n",
       "\n",
       "    .dataframe thead th {\n",
       "        text-align: right;\n",
       "    }\n",
       "</style>\n",
       "<table border=\"1\" class=\"dataframe\">\n",
       "  <thead>\n",
       "    <tr style=\"text-align: right;\">\n",
       "      <th></th>\n",
       "      <th>gender</th>\n",
       "      <th>wt_mean</th>\n",
       "      <th>wt_std</th>\n",
       "      <th>count_mean</th>\n",
       "      <th>count_std</th>\n",
       "      <th>st_mean</th>\n",
       "      <th>st_std</th>\n",
       "      <th>prop_sim</th>\n",
       "      <th>sample_proportion</th>\n",
       "    </tr>\n",
       "  </thead>\n",
       "  <tbody>\n",
       "    <tr>\n",
       "      <th>0</th>\n",
       "      <td>F</td>\n",
       "      <td>638.783828</td>\n",
       "      <td>82.430348</td>\n",
       "      <td>63.033333</td>\n",
       "      <td>10.060107</td>\n",
       "      <td>0.0</td>\n",
       "      <td>0.0</td>\n",
       "      <td>0.334276</td>\n",
       "      <td>0.35173</td>\n",
       "    </tr>\n",
       "    <tr>\n",
       "      <th>1</th>\n",
       "      <td>M</td>\n",
       "      <td>647.169081</td>\n",
       "      <td>86.909351</td>\n",
       "      <td>125.533333</td>\n",
       "      <td>15.381882</td>\n",
       "      <td>0.0</td>\n",
       "      <td>0.0</td>\n",
       "      <td>0.665724</td>\n",
       "      <td>0.64827</td>\n",
       "    </tr>\n",
       "  </tbody>\n",
       "</table>\n",
       "</div>"
      ],
      "text/plain": [
       "  gender     wt_mean     wt_std  count_mean  count_std  st_mean  st_std  \\\n",
       "0      F  638.783828  82.430348   63.033333  10.060107      0.0     0.0   \n",
       "1      M  647.169081  86.909351  125.533333  15.381882      0.0     0.0   \n",
       "\n",
       "   prop_sim  sample_proportion  \n",
       "0  0.334276            0.35173  \n",
       "1  0.665724            0.64827  "
      ]
     },
     "execution_count": 26,
     "metadata": {},
     "output_type": "execute_result"
    }
   ],
   "source": [
    "df_gender"
   ]
  },
  {
   "cell_type": "markdown",
   "metadata": {},
   "source": [
    "## Policy 2"
   ]
  },
  {
   "cell_type": "code",
   "execution_count": 27,
   "metadata": {},
   "outputs": [
    {
     "name": "stdout",
     "output_type": "stream",
     "text": [
      "Replicate # 0\n"
     ]
    },
    {
     "name": "stderr",
     "output_type": "stream",
     "text": [
      "Progress replication 0: 100%|█████████▉| 10954.378989683615/10957.5 [00:59<00:00, 131.25time unit/s]c:\\Users\\HP\\miniconda3\\Lib\\site-packages\\tqdm\\std.py:524: TqdmWarning: clamping frac to range [0, 1]\n",
      "  full_bar = Bar(frac,\n",
      "Progress replication 0: 100%|██████████| 10957.930089747902/10957.5 [00:59<00:00, 183.55time unit/s]\n"
     ]
    },
    {
     "name": "stdout",
     "output_type": "stream",
     "text": [
      "Replicate # 1\n"
     ]
    },
    {
     "name": "stderr",
     "output_type": "stream",
     "text": [
      "Progress replication 1: 10959.58529122366time unit [00:56, 192.74time unit/s]                       \n"
     ]
    },
    {
     "name": "stdout",
     "output_type": "stream",
     "text": [
      "Replicate # 2\n"
     ]
    },
    {
     "name": "stderr",
     "output_type": "stream",
     "text": [
      "Progress replication 2: 10958.307244594895time unit [00:57, 189.06time unit/s]                      \n"
     ]
    },
    {
     "name": "stdout",
     "output_type": "stream",
     "text": [
      "Replicate # 3\n"
     ]
    },
    {
     "name": "stderr",
     "output_type": "stream",
     "text": [
      "Progress replication 3: 10958.000551300192time unit [01:01, 179.30time unit/s]                      \n"
     ]
    },
    {
     "name": "stdout",
     "output_type": "stream",
     "text": [
      "Replicate # 4\n"
     ]
    },
    {
     "name": "stderr",
     "output_type": "stream",
     "text": [
      "Progress replication 4: 10958.871215956993time unit [00:56, 193.37time unit/s]                      \n"
     ]
    },
    {
     "name": "stdout",
     "output_type": "stream",
     "text": [
      "Replicate # 5\n"
     ]
    },
    {
     "name": "stderr",
     "output_type": "stream",
     "text": [
      "Progress replication 5: 100%|█████████▉| 10946.93955501798/10957.5 [00:57<00:00, 166.90time unit/s] c:\\Users\\HP\\miniconda3\\Lib\\site-packages\\tqdm\\std.py:524: TqdmWarning: clamping frac to range [0, 1]\n",
      "  full_bar = Bar(frac,\n",
      "Progress replication 5: 100%|██████████| 10957.961155556466/10957.5 [00:57<00:00, 189.17time unit/s]\n"
     ]
    },
    {
     "name": "stdout",
     "output_type": "stream",
     "text": [
      "Replicate # 6\n"
     ]
    },
    {
     "name": "stderr",
     "output_type": "stream",
     "text": [
      "Progress replication 6: 10958.3227591223time unit [00:57, 192.03time unit/s]                        \n"
     ]
    },
    {
     "name": "stdout",
     "output_type": "stream",
     "text": [
      "Replicate # 7\n"
     ]
    },
    {
     "name": "stderr",
     "output_type": "stream",
     "text": [
      "Progress replication 7: 10968.025722266875time unit [00:56, 194.01time unit/s]                      \n"
     ]
    },
    {
     "name": "stdout",
     "output_type": "stream",
     "text": [
      "Replicate # 8\n"
     ]
    },
    {
     "name": "stderr",
     "output_type": "stream",
     "text": [
      "Progress replication 8: 10959.350736797218time unit [00:59, 185.51time unit/s]                      \n"
     ]
    },
    {
     "name": "stdout",
     "output_type": "stream",
     "text": [
      "Replicate # 9\n"
     ]
    },
    {
     "name": "stderr",
     "output_type": "stream",
     "text": [
      "Progress replication 9: 10958.2574054889time unit [00:57, 189.75time unit/s]                        \n"
     ]
    },
    {
     "name": "stdout",
     "output_type": "stream",
     "text": [
      "Replicate # 10\n"
     ]
    },
    {
     "name": "stderr",
     "output_type": "stream",
     "text": [
      "Progress replication 10: 10960.33893078066time unit [00:58, 187.00time unit/s]                       \n"
     ]
    },
    {
     "name": "stdout",
     "output_type": "stream",
     "text": [
      "Replicate # 11\n"
     ]
    },
    {
     "name": "stderr",
     "output_type": "stream",
     "text": [
      "Progress replication 11: 10960.31727951648time unit [00:56, 192.81time unit/s]                       \n"
     ]
    },
    {
     "name": "stdout",
     "output_type": "stream",
     "text": [
      "Replicate # 12\n"
     ]
    },
    {
     "name": "stderr",
     "output_type": "stream",
     "text": [
      "Progress replication 12: 10958.26097997763time unit [00:57, 192.20time unit/s]                       \n"
     ]
    },
    {
     "name": "stdout",
     "output_type": "stream",
     "text": [
      "Replicate # 13\n"
     ]
    },
    {
     "name": "stderr",
     "output_type": "stream",
     "text": [
      "Progress replication 13: 100%|█████████▉| 10941.67697589951/10957.5 [00:56<00:00, 199.38time unit/s] c:\\Users\\HP\\miniconda3\\Lib\\site-packages\\tqdm\\std.py:524: TqdmWarning: clamping frac to range [0, 1]\n",
      "  full_bar = Bar(frac,\n",
      "Progress replication 13: 100%|██████████| 10957.98809585193/10957.5 [00:56<00:00, 194.96time unit/s]\n"
     ]
    },
    {
     "name": "stdout",
     "output_type": "stream",
     "text": [
      "Replicate # 14\n"
     ]
    },
    {
     "name": "stderr",
     "output_type": "stream",
     "text": [
      "Progress replication 14: 100%|█████████▉| 10951.600901619746/10957.5 [00:56<00:00, 166.77time unit/s]c:\\Users\\HP\\miniconda3\\Lib\\site-packages\\tqdm\\std.py:524: TqdmWarning: clamping frac to range [0, 1]\n",
      "  full_bar = Bar(frac,\n",
      "Progress replication 14: 100%|██████████| 10957.748463686283/10957.5 [00:56<00:00, 192.36time unit/s]\n"
     ]
    },
    {
     "name": "stdout",
     "output_type": "stream",
     "text": [
      "Replicate # 15\n"
     ]
    },
    {
     "name": "stderr",
     "output_type": "stream",
     "text": [
      "Progress replication 15: 10959.262648204814time unit [00:56, 192.39time unit/s]                      \n"
     ]
    },
    {
     "name": "stdout",
     "output_type": "stream",
     "text": [
      "Replicate # 16\n"
     ]
    },
    {
     "name": "stderr",
     "output_type": "stream",
     "text": [
      "Progress replication 16: 10958.105364057108time unit [00:58, 187.58time unit/s]                      \n"
     ]
    },
    {
     "name": "stdout",
     "output_type": "stream",
     "text": [
      "Replicate # 17\n"
     ]
    },
    {
     "name": "stderr",
     "output_type": "stream",
     "text": [
      "Progress replication 17: 10959.647230038352time unit [00:58, 188.73time unit/s]                      \n"
     ]
    },
    {
     "name": "stdout",
     "output_type": "stream",
     "text": [
      "Replicate # 18\n"
     ]
    },
    {
     "name": "stderr",
     "output_type": "stream",
     "text": [
      "Progress replication 18: 10959.164278071128time unit [00:57, 189.57time unit/s]                      \n"
     ]
    },
    {
     "name": "stdout",
     "output_type": "stream",
     "text": [
      "Replicate # 19\n"
     ]
    },
    {
     "name": "stderr",
     "output_type": "stream",
     "text": [
      "Progress replication 19: 10962.261528954496time unit [00:58, 188.27time unit/s]                      \n"
     ]
    },
    {
     "name": "stdout",
     "output_type": "stream",
     "text": [
      "Replicate # 20\n"
     ]
    },
    {
     "name": "stderr",
     "output_type": "stream",
     "text": [
      "Progress replication 20: 10958.962203160321time unit [00:57, 189.65time unit/s]                      \n"
     ]
    },
    {
     "name": "stdout",
     "output_type": "stream",
     "text": [
      "Replicate # 21\n"
     ]
    },
    {
     "name": "stderr",
     "output_type": "stream",
     "text": [
      "Progress replication 21: 10962.761632806696time unit [00:56, 192.72time unit/s]                      \n"
     ]
    },
    {
     "name": "stdout",
     "output_type": "stream",
     "text": [
      "Replicate # 22\n"
     ]
    },
    {
     "name": "stderr",
     "output_type": "stream",
     "text": [
      "Progress replication 22: 10958.446864286709time unit [00:55, 198.53time unit/s]                      \n"
     ]
    },
    {
     "name": "stdout",
     "output_type": "stream",
     "text": [
      "Replicate # 23\n"
     ]
    },
    {
     "name": "stderr",
     "output_type": "stream",
     "text": [
      "Progress replication 23: 10959.111239714632time unit [00:58, 187.54time unit/s]                      \n"
     ]
    },
    {
     "name": "stdout",
     "output_type": "stream",
     "text": [
      "Replicate # 24\n"
     ]
    },
    {
     "name": "stderr",
     "output_type": "stream",
     "text": [
      "Progress replication 24: 10959.01811074683time unit [00:58, 187.82time unit/s]                       \n"
     ]
    },
    {
     "name": "stdout",
     "output_type": "stream",
     "text": [
      "Replicate # 25\n"
     ]
    },
    {
     "name": "stderr",
     "output_type": "stream",
     "text": [
      "Progress replication 25: 10968.40136298261time unit [00:57, 192.07time unit/s]                       \n"
     ]
    },
    {
     "name": "stdout",
     "output_type": "stream",
     "text": [
      "Replicate # 26\n"
     ]
    },
    {
     "name": "stderr",
     "output_type": "stream",
     "text": [
      "Progress replication 26: 10958.075603299905time unit [00:57, 189.59time unit/s]                      \n"
     ]
    },
    {
     "name": "stdout",
     "output_type": "stream",
     "text": [
      "Replicate # 27\n"
     ]
    },
    {
     "name": "stderr",
     "output_type": "stream",
     "text": [
      "Progress replication 27: 100%|█████████▉| 10951.08041385546/10957.5 [00:56<00:00, 192.39time unit/s] c:\\Users\\HP\\miniconda3\\Lib\\site-packages\\tqdm\\std.py:524: TqdmWarning: clamping frac to range [0, 1]\n",
      "  full_bar = Bar(frac,\n",
      "Progress replication 27: 100%|██████████| 10957.93757988498/10957.5 [00:56<00:00, 193.05time unit/s]\n"
     ]
    },
    {
     "name": "stdout",
     "output_type": "stream",
     "text": [
      "Replicate # 28\n"
     ]
    },
    {
     "name": "stderr",
     "output_type": "stream",
     "text": [
      "Progress replication 28: 10960.109510269562time unit [00:57, 191.97time unit/s]                      \n"
     ]
    },
    {
     "name": "stdout",
     "output_type": "stream",
     "text": [
      "Replicate # 29\n"
     ]
    },
    {
     "name": "stderr",
     "output_type": "stream",
     "text": [
      "Progress replication 29: 100%|█████████▉| 10957.494151887293/10957.5 [00:56<00:00, 182.07time unit/s]c:\\Users\\HP\\miniconda3\\Lib\\site-packages\\tqdm\\std.py:524: TqdmWarning: clamping frac to range [0, 1]\n",
      "  full_bar = Bar(frac,\n",
      "Progress replication 29: 100%|██████████| 10957.746279322779/10957.5 [00:56<00:00, 192.30time unit/s]\n"
     ]
    }
   ],
   "source": [
    "average_waiting_times, number_of_matches_list, results_p2_no, results_p2_ll, results_p2_fl = run_simulation(events_per_replication_p2,  replicates, decision_tree, policy='p2', verbose=False)"
   ]
  },
  {
   "cell_type": "markdown",
   "metadata": {},
   "source": [
    "### recipients who receive a kidney"
   ]
  },
  {
   "cell_type": "code",
   "execution_count": 28,
   "metadata": {},
   "outputs": [],
   "source": [
    "df_waiting_time, df_gender = get_summary_tables(results_p2_no, ethcat_mapping, real_ethcat_df, real_gender_df)"
   ]
  },
  {
   "cell_type": "code",
   "execution_count": 29,
   "metadata": {},
   "outputs": [
    {
     "data": {
      "text/html": [
       "<div>\n",
       "<style scoped>\n",
       "    .dataframe tbody tr th:only-of-type {\n",
       "        vertical-align: middle;\n",
       "    }\n",
       "\n",
       "    .dataframe tbody tr th {\n",
       "        vertical-align: top;\n",
       "    }\n",
       "\n",
       "    .dataframe thead th {\n",
       "        text-align: right;\n",
       "    }\n",
       "</style>\n",
       "<table border=\"1\" class=\"dataframe\">\n",
       "  <thead>\n",
       "    <tr style=\"text-align: right;\">\n",
       "      <th></th>\n",
       "      <th>ethcat</th>\n",
       "      <th>wt_mean</th>\n",
       "      <th>wt_std</th>\n",
       "      <th>count_mean</th>\n",
       "      <th>count_std</th>\n",
       "      <th>st_mean</th>\n",
       "      <th>st_std</th>\n",
       "      <th>prop_simu</th>\n",
       "      <th>sample_proportion</th>\n",
       "    </tr>\n",
       "  </thead>\n",
       "  <tbody>\n",
       "    <tr>\n",
       "      <th>0</th>\n",
       "      <td>Amer Ind/Alaska Native, Non-Hispanic</td>\n",
       "      <td>1068.002</td>\n",
       "      <td>122.070</td>\n",
       "      <td>12.233</td>\n",
       "      <td>2.515</td>\n",
       "      <td>2844.595</td>\n",
       "      <td>94.264</td>\n",
       "      <td>0.011</td>\n",
       "      <td>0.014</td>\n",
       "    </tr>\n",
       "    <tr>\n",
       "      <th>1</th>\n",
       "      <td>Asian, Non-Hispanic</td>\n",
       "      <td>1195.703</td>\n",
       "      <td>116.648</td>\n",
       "      <td>53.800</td>\n",
       "      <td>5.561</td>\n",
       "      <td>2843.090</td>\n",
       "      <td>36.325</td>\n",
       "      <td>0.047</td>\n",
       "      <td>0.053</td>\n",
       "    </tr>\n",
       "    <tr>\n",
       "      <th>2</th>\n",
       "      <td>Black, Non-Hispanic</td>\n",
       "      <td>1169.059</td>\n",
       "      <td>103.649</td>\n",
       "      <td>361.467</td>\n",
       "      <td>16.598</td>\n",
       "      <td>2849.699</td>\n",
       "      <td>14.211</td>\n",
       "      <td>0.315</td>\n",
       "      <td>0.325</td>\n",
       "    </tr>\n",
       "    <tr>\n",
       "      <th>3</th>\n",
       "      <td>Hispanic/Latino</td>\n",
       "      <td>1093.074</td>\n",
       "      <td>100.777</td>\n",
       "      <td>198.300</td>\n",
       "      <td>11.908</td>\n",
       "      <td>2843.358</td>\n",
       "      <td>21.833</td>\n",
       "      <td>0.173</td>\n",
       "      <td>0.160</td>\n",
       "    </tr>\n",
       "    <tr>\n",
       "      <th>4</th>\n",
       "      <td>Multiracial, Non-Hispanic</td>\n",
       "      <td>1326.847</td>\n",
       "      <td>185.721</td>\n",
       "      <td>7.933</td>\n",
       "      <td>2.212</td>\n",
       "      <td>2887.827</td>\n",
       "      <td>104.390</td>\n",
       "      <td>0.007</td>\n",
       "      <td>0.005</td>\n",
       "    </tr>\n",
       "    <tr>\n",
       "      <th>5</th>\n",
       "      <td>Native Hawaiian/Other Pacific Islander, Non-Hi...</td>\n",
       "      <td>1137.492</td>\n",
       "      <td>144.676</td>\n",
       "      <td>4.100</td>\n",
       "      <td>1.539</td>\n",
       "      <td>2861.860</td>\n",
       "      <td>153.011</td>\n",
       "      <td>0.004</td>\n",
       "      <td>0.004</td>\n",
       "    </tr>\n",
       "    <tr>\n",
       "      <th>6</th>\n",
       "      <td>White, Non-Hispanic</td>\n",
       "      <td>1173.514</td>\n",
       "      <td>100.101</td>\n",
       "      <td>511.033</td>\n",
       "      <td>23.018</td>\n",
       "      <td>2848.006</td>\n",
       "      <td>12.254</td>\n",
       "      <td>0.445</td>\n",
       "      <td>0.439</td>\n",
       "    </tr>\n",
       "  </tbody>\n",
       "</table>\n",
       "</div>"
      ],
      "text/plain": [
       "                                              ethcat   wt_mean   wt_std  \\\n",
       "0               Amer Ind/Alaska Native, Non-Hispanic  1068.002  122.070   \n",
       "1                                Asian, Non-Hispanic  1195.703  116.648   \n",
       "2                                Black, Non-Hispanic  1169.059  103.649   \n",
       "3                                    Hispanic/Latino  1093.074  100.777   \n",
       "4                          Multiracial, Non-Hispanic  1326.847  185.721   \n",
       "5  Native Hawaiian/Other Pacific Islander, Non-Hi...  1137.492  144.676   \n",
       "6                                White, Non-Hispanic  1173.514  100.101   \n",
       "\n",
       "   count_mean  count_std   st_mean   st_std  prop_simu  sample_proportion  \n",
       "0      12.233      2.515  2844.595   94.264      0.011              0.014  \n",
       "1      53.800      5.561  2843.090   36.325      0.047              0.053  \n",
       "2     361.467     16.598  2849.699   14.211      0.315              0.325  \n",
       "3     198.300     11.908  2843.358   21.833      0.173              0.160  \n",
       "4       7.933      2.212  2887.827  104.390      0.007              0.005  \n",
       "5       4.100      1.539  2861.860  153.011      0.004              0.004  \n",
       "6     511.033     23.018  2848.006   12.254      0.445              0.439  "
      ]
     },
     "execution_count": 29,
     "metadata": {},
     "output_type": "execute_result"
    }
   ],
   "source": [
    "df_waiting_time "
   ]
  },
  {
   "cell_type": "code",
   "execution_count": 30,
   "metadata": {},
   "outputs": [
    {
     "data": {
      "text/html": [
       "<div>\n",
       "<style scoped>\n",
       "    .dataframe tbody tr th:only-of-type {\n",
       "        vertical-align: middle;\n",
       "    }\n",
       "\n",
       "    .dataframe tbody tr th {\n",
       "        vertical-align: top;\n",
       "    }\n",
       "\n",
       "    .dataframe thead th {\n",
       "        text-align: right;\n",
       "    }\n",
       "</style>\n",
       "<table border=\"1\" class=\"dataframe\">\n",
       "  <thead>\n",
       "    <tr style=\"text-align: right;\">\n",
       "      <th></th>\n",
       "      <th>gender</th>\n",
       "      <th>wt_mean</th>\n",
       "      <th>wt_std</th>\n",
       "      <th>count_mean</th>\n",
       "      <th>count_std</th>\n",
       "      <th>st_mean</th>\n",
       "      <th>st_std</th>\n",
       "      <th>prop_sim</th>\n",
       "      <th>sample_proportion</th>\n",
       "    </tr>\n",
       "  </thead>\n",
       "  <tbody>\n",
       "    <tr>\n",
       "      <th>0</th>\n",
       "      <td>F</td>\n",
       "      <td>1161.240</td>\n",
       "      <td>99.493</td>\n",
       "      <td>411.767</td>\n",
       "      <td>21.379</td>\n",
       "      <td>2849.574</td>\n",
       "      <td>14.598</td>\n",
       "      <td>0.358</td>\n",
       "      <td>0.352</td>\n",
       "    </tr>\n",
       "    <tr>\n",
       "      <th>1</th>\n",
       "      <td>M</td>\n",
       "      <td>1157.749</td>\n",
       "      <td>101.716</td>\n",
       "      <td>737.100</td>\n",
       "      <td>29.961</td>\n",
       "      <td>2846.771</td>\n",
       "      <td>7.985</td>\n",
       "      <td>0.642</td>\n",
       "      <td>0.648</td>\n",
       "    </tr>\n",
       "  </tbody>\n",
       "</table>\n",
       "</div>"
      ],
      "text/plain": [
       "  gender   wt_mean   wt_std  count_mean  count_std   st_mean  st_std  \\\n",
       "0      F  1161.240   99.493     411.767     21.379  2849.574  14.598   \n",
       "1      M  1157.749  101.716     737.100     29.961  2846.771   7.985   \n",
       "\n",
       "   prop_sim  sample_proportion  \n",
       "0     0.358              0.352  \n",
       "1     0.642              0.648  "
      ]
     },
     "execution_count": 30,
     "metadata": {},
     "output_type": "execute_result"
    }
   ],
   "source": [
    "df_gender.round(3)"
   ]
  },
  {
   "cell_type": "markdown",
   "metadata": {},
   "source": [
    "### patients who leave the waitlist"
   ]
  },
  {
   "cell_type": "code",
   "execution_count": 31,
   "metadata": {},
   "outputs": [],
   "source": [
    "df_waiting_time, df_gender = get_summary_tables(results_p2_ll, ethcat_mapping, real_ethcat_df, real_gender_df)"
   ]
  },
  {
   "cell_type": "code",
   "execution_count": 32,
   "metadata": {},
   "outputs": [
    {
     "data": {
      "text/html": [
       "<div>\n",
       "<style scoped>\n",
       "    .dataframe tbody tr th:only-of-type {\n",
       "        vertical-align: middle;\n",
       "    }\n",
       "\n",
       "    .dataframe tbody tr th {\n",
       "        vertical-align: top;\n",
       "    }\n",
       "\n",
       "    .dataframe thead th {\n",
       "        text-align: right;\n",
       "    }\n",
       "</style>\n",
       "<table border=\"1\" class=\"dataframe\">\n",
       "  <thead>\n",
       "    <tr style=\"text-align: right;\">\n",
       "      <th></th>\n",
       "      <th>ethcat</th>\n",
       "      <th>wt_mean</th>\n",
       "      <th>wt_std</th>\n",
       "      <th>count_mean</th>\n",
       "      <th>count_std</th>\n",
       "      <th>st_mean</th>\n",
       "      <th>st_std</th>\n",
       "      <th>prop_simu</th>\n",
       "      <th>sample_proportion</th>\n",
       "    </tr>\n",
       "  </thead>\n",
       "  <tbody>\n",
       "    <tr>\n",
       "      <th>0</th>\n",
       "      <td>Amer Ind/Alaska Native, Non-Hispanic</td>\n",
       "      <td>663.385</td>\n",
       "      <td>148.812</td>\n",
       "      <td>5.200</td>\n",
       "      <td>1.518</td>\n",
       "      <td>0.0</td>\n",
       "      <td>0.0</td>\n",
       "      <td>0.011</td>\n",
       "      <td>0.014</td>\n",
       "    </tr>\n",
       "    <tr>\n",
       "      <th>1</th>\n",
       "      <td>Asian, Non-Hispanic</td>\n",
       "      <td>689.972</td>\n",
       "      <td>109.829</td>\n",
       "      <td>19.233</td>\n",
       "      <td>3.830</td>\n",
       "      <td>0.0</td>\n",
       "      <td>0.0</td>\n",
       "      <td>0.042</td>\n",
       "      <td>0.053</td>\n",
       "    </tr>\n",
       "    <tr>\n",
       "      <th>2</th>\n",
       "      <td>Black, Non-Hispanic</td>\n",
       "      <td>607.373</td>\n",
       "      <td>57.981</td>\n",
       "      <td>159.500</td>\n",
       "      <td>15.948</td>\n",
       "      <td>0.0</td>\n",
       "      <td>0.0</td>\n",
       "      <td>0.350</td>\n",
       "      <td>0.325</td>\n",
       "    </tr>\n",
       "    <tr>\n",
       "      <th>3</th>\n",
       "      <td>Hispanic/Latino</td>\n",
       "      <td>604.919</td>\n",
       "      <td>60.782</td>\n",
       "      <td>73.467</td>\n",
       "      <td>7.080</td>\n",
       "      <td>0.0</td>\n",
       "      <td>0.0</td>\n",
       "      <td>0.161</td>\n",
       "      <td>0.160</td>\n",
       "    </tr>\n",
       "    <tr>\n",
       "      <th>4</th>\n",
       "      <td>Multiracial, Non-Hispanic</td>\n",
       "      <td>544.843</td>\n",
       "      <td>259.076</td>\n",
       "      <td>2.750</td>\n",
       "      <td>1.143</td>\n",
       "      <td>0.0</td>\n",
       "      <td>0.0</td>\n",
       "      <td>0.006</td>\n",
       "      <td>0.005</td>\n",
       "    </tr>\n",
       "    <tr>\n",
       "      <th>5</th>\n",
       "      <td>Native Hawaiian/Other Pacific Islander, Non-Hi...</td>\n",
       "      <td>560.458</td>\n",
       "      <td>441.031</td>\n",
       "      <td>1.200</td>\n",
       "      <td>0.410</td>\n",
       "      <td>0.0</td>\n",
       "      <td>0.0</td>\n",
       "      <td>0.003</td>\n",
       "      <td>0.004</td>\n",
       "    </tr>\n",
       "    <tr>\n",
       "      <th>6</th>\n",
       "      <td>White, Non-Hispanic</td>\n",
       "      <td>624.404</td>\n",
       "      <td>55.718</td>\n",
       "      <td>194.300</td>\n",
       "      <td>15.121</td>\n",
       "      <td>0.0</td>\n",
       "      <td>0.0</td>\n",
       "      <td>0.426</td>\n",
       "      <td>0.439</td>\n",
       "    </tr>\n",
       "  </tbody>\n",
       "</table>\n",
       "</div>"
      ],
      "text/plain": [
       "                                              ethcat  wt_mean   wt_std  \\\n",
       "0               Amer Ind/Alaska Native, Non-Hispanic  663.385  148.812   \n",
       "1                                Asian, Non-Hispanic  689.972  109.829   \n",
       "2                                Black, Non-Hispanic  607.373   57.981   \n",
       "3                                    Hispanic/Latino  604.919   60.782   \n",
       "4                          Multiracial, Non-Hispanic  544.843  259.076   \n",
       "5  Native Hawaiian/Other Pacific Islander, Non-Hi...  560.458  441.031   \n",
       "6                                White, Non-Hispanic  624.404   55.718   \n",
       "\n",
       "   count_mean  count_std  st_mean  st_std  prop_simu  sample_proportion  \n",
       "0       5.200      1.518      0.0     0.0      0.011              0.014  \n",
       "1      19.233      3.830      0.0     0.0      0.042              0.053  \n",
       "2     159.500     15.948      0.0     0.0      0.350              0.325  \n",
       "3      73.467      7.080      0.0     0.0      0.161              0.160  \n",
       "4       2.750      1.143      0.0     0.0      0.006              0.005  \n",
       "5       1.200      0.410      0.0     0.0      0.003              0.004  \n",
       "6     194.300     15.121      0.0     0.0      0.426              0.439  "
      ]
     },
     "execution_count": 32,
     "metadata": {},
     "output_type": "execute_result"
    }
   ],
   "source": [
    "df_waiting_time "
   ]
  },
  {
   "cell_type": "code",
   "execution_count": 33,
   "metadata": {},
   "outputs": [
    {
     "data": {
      "text/html": [
       "<div>\n",
       "<style scoped>\n",
       "    .dataframe tbody tr th:only-of-type {\n",
       "        vertical-align: middle;\n",
       "    }\n",
       "\n",
       "    .dataframe tbody tr th {\n",
       "        vertical-align: top;\n",
       "    }\n",
       "\n",
       "    .dataframe thead th {\n",
       "        text-align: right;\n",
       "    }\n",
       "</style>\n",
       "<table border=\"1\" class=\"dataframe\">\n",
       "  <thead>\n",
       "    <tr style=\"text-align: right;\">\n",
       "      <th></th>\n",
       "      <th>gender</th>\n",
       "      <th>wt_mean</th>\n",
       "      <th>wt_std</th>\n",
       "      <th>count_mean</th>\n",
       "      <th>count_std</th>\n",
       "      <th>st_mean</th>\n",
       "      <th>st_std</th>\n",
       "      <th>prop_sim</th>\n",
       "      <th>sample_proportion</th>\n",
       "    </tr>\n",
       "  </thead>\n",
       "  <tbody>\n",
       "    <tr>\n",
       "      <th>0</th>\n",
       "      <td>F</td>\n",
       "      <td>574.221205</td>\n",
       "      <td>59.583815</td>\n",
       "      <td>163.566667</td>\n",
       "      <td>15.285069</td>\n",
       "      <td>0.0</td>\n",
       "      <td>0.0</td>\n",
       "      <td>0.359435</td>\n",
       "      <td>0.35173</td>\n",
       "    </tr>\n",
       "    <tr>\n",
       "      <th>1</th>\n",
       "      <td>M</td>\n",
       "      <td>643.389054</td>\n",
       "      <td>54.267474</td>\n",
       "      <td>291.500000</td>\n",
       "      <td>21.873855</td>\n",
       "      <td>0.0</td>\n",
       "      <td>0.0</td>\n",
       "      <td>0.640565</td>\n",
       "      <td>0.64827</td>\n",
       "    </tr>\n",
       "  </tbody>\n",
       "</table>\n",
       "</div>"
      ],
      "text/plain": [
       "  gender     wt_mean     wt_std  count_mean  count_std  st_mean  st_std  \\\n",
       "0      F  574.221205  59.583815  163.566667  15.285069      0.0     0.0   \n",
       "1      M  643.389054  54.267474  291.500000  21.873855      0.0     0.0   \n",
       "\n",
       "   prop_sim  sample_proportion  \n",
       "0  0.359435            0.35173  \n",
       "1  0.640565            0.64827  "
      ]
     },
     "execution_count": 33,
     "metadata": {},
     "output_type": "execute_result"
    }
   ],
   "source": [
    "df_gender"
   ]
  },
  {
   "cell_type": "markdown",
   "metadata": {},
   "source": [
    "### patients who stay in final list"
   ]
  },
  {
   "cell_type": "code",
   "execution_count": 34,
   "metadata": {},
   "outputs": [],
   "source": [
    "df_waiting_time, df_gender = get_summary_tables(results_p2_fl, ethcat_mapping, real_ethcat_df, real_gender_df)"
   ]
  },
  {
   "cell_type": "code",
   "execution_count": 35,
   "metadata": {},
   "outputs": [
    {
     "data": {
      "text/html": [
       "<div>\n",
       "<style scoped>\n",
       "    .dataframe tbody tr th:only-of-type {\n",
       "        vertical-align: middle;\n",
       "    }\n",
       "\n",
       "    .dataframe tbody tr th {\n",
       "        vertical-align: top;\n",
       "    }\n",
       "\n",
       "    .dataframe thead th {\n",
       "        text-align: right;\n",
       "    }\n",
       "</style>\n",
       "<table border=\"1\" class=\"dataframe\">\n",
       "  <thead>\n",
       "    <tr style=\"text-align: right;\">\n",
       "      <th></th>\n",
       "      <th>ethcat</th>\n",
       "      <th>wt_mean</th>\n",
       "      <th>wt_std</th>\n",
       "      <th>count_mean</th>\n",
       "      <th>count_std</th>\n",
       "      <th>st_mean</th>\n",
       "      <th>st_std</th>\n",
       "      <th>prop_simu</th>\n",
       "      <th>sample_proportion</th>\n",
       "    </tr>\n",
       "  </thead>\n",
       "  <tbody>\n",
       "    <tr>\n",
       "      <th>0</th>\n",
       "      <td>Amer Ind/Alaska Native, Non-Hispanic</td>\n",
       "      <td>393.943</td>\n",
       "      <td>142.717</td>\n",
       "      <td>3.034</td>\n",
       "      <td>1.426</td>\n",
       "      <td>0.0</td>\n",
       "      <td>0.0</td>\n",
       "      <td>0.016</td>\n",
       "      <td>0.014</td>\n",
       "    </tr>\n",
       "    <tr>\n",
       "      <th>1</th>\n",
       "      <td>Asian, Non-Hispanic</td>\n",
       "      <td>521.464</td>\n",
       "      <td>138.233</td>\n",
       "      <td>10.533</td>\n",
       "      <td>2.738</td>\n",
       "      <td>0.0</td>\n",
       "      <td>0.0</td>\n",
       "      <td>0.056</td>\n",
       "      <td>0.053</td>\n",
       "    </tr>\n",
       "    <tr>\n",
       "      <th>2</th>\n",
       "      <td>Black, Non-Hispanic</td>\n",
       "      <td>704.921</td>\n",
       "      <td>107.786</td>\n",
       "      <td>65.433</td>\n",
       "      <td>9.442</td>\n",
       "      <td>0.0</td>\n",
       "      <td>0.0</td>\n",
       "      <td>0.345</td>\n",
       "      <td>0.325</td>\n",
       "    </tr>\n",
       "    <tr>\n",
       "      <th>3</th>\n",
       "      <td>Hispanic/Latino</td>\n",
       "      <td>525.434</td>\n",
       "      <td>86.075</td>\n",
       "      <td>32.633</td>\n",
       "      <td>6.178</td>\n",
       "      <td>0.0</td>\n",
       "      <td>0.0</td>\n",
       "      <td>0.172</td>\n",
       "      <td>0.160</td>\n",
       "    </tr>\n",
       "    <tr>\n",
       "      <th>4</th>\n",
       "      <td>Multiracial, Non-Hispanic</td>\n",
       "      <td>416.266</td>\n",
       "      <td>193.261</td>\n",
       "      <td>1.368</td>\n",
       "      <td>0.597</td>\n",
       "      <td>0.0</td>\n",
       "      <td>0.0</td>\n",
       "      <td>0.007</td>\n",
       "      <td>0.005</td>\n",
       "    </tr>\n",
       "    <tr>\n",
       "      <th>5</th>\n",
       "      <td>Native Hawaiian/Other Pacific Islander, Non-Hi...</td>\n",
       "      <td>667.584</td>\n",
       "      <td>180.876</td>\n",
       "      <td>1.000</td>\n",
       "      <td>0.000</td>\n",
       "      <td>0.0</td>\n",
       "      <td>0.0</td>\n",
       "      <td>0.005</td>\n",
       "      <td>0.004</td>\n",
       "    </tr>\n",
       "    <tr>\n",
       "      <th>6</th>\n",
       "      <td>White, Non-Hispanic</td>\n",
       "      <td>671.041</td>\n",
       "      <td>90.365</td>\n",
       "      <td>75.533</td>\n",
       "      <td>10.068</td>\n",
       "      <td>0.0</td>\n",
       "      <td>0.0</td>\n",
       "      <td>0.399</td>\n",
       "      <td>0.439</td>\n",
       "    </tr>\n",
       "  </tbody>\n",
       "</table>\n",
       "</div>"
      ],
      "text/plain": [
       "                                              ethcat  wt_mean   wt_std  \\\n",
       "0               Amer Ind/Alaska Native, Non-Hispanic  393.943  142.717   \n",
       "1                                Asian, Non-Hispanic  521.464  138.233   \n",
       "2                                Black, Non-Hispanic  704.921  107.786   \n",
       "3                                    Hispanic/Latino  525.434   86.075   \n",
       "4                          Multiracial, Non-Hispanic  416.266  193.261   \n",
       "5  Native Hawaiian/Other Pacific Islander, Non-Hi...  667.584  180.876   \n",
       "6                                White, Non-Hispanic  671.041   90.365   \n",
       "\n",
       "   count_mean  count_std  st_mean  st_std  prop_simu  sample_proportion  \n",
       "0       3.034      1.426      0.0     0.0      0.016              0.014  \n",
       "1      10.533      2.738      0.0     0.0      0.056              0.053  \n",
       "2      65.433      9.442      0.0     0.0      0.345              0.325  \n",
       "3      32.633      6.178      0.0     0.0      0.172              0.160  \n",
       "4       1.368      0.597      0.0     0.0      0.007              0.005  \n",
       "5       1.000      0.000      0.0     0.0      0.005              0.004  \n",
       "6      75.533     10.068      0.0     0.0      0.399              0.439  "
      ]
     },
     "execution_count": 35,
     "metadata": {},
     "output_type": "execute_result"
    }
   ],
   "source": [
    "df_waiting_time"
   ]
  },
  {
   "cell_type": "code",
   "execution_count": 36,
   "metadata": {},
   "outputs": [
    {
     "data": {
      "text/html": [
       "<div>\n",
       "<style scoped>\n",
       "    .dataframe tbody tr th:only-of-type {\n",
       "        vertical-align: middle;\n",
       "    }\n",
       "\n",
       "    .dataframe tbody tr th {\n",
       "        vertical-align: top;\n",
       "    }\n",
       "\n",
       "    .dataframe thead th {\n",
       "        text-align: right;\n",
       "    }\n",
       "</style>\n",
       "<table border=\"1\" class=\"dataframe\">\n",
       "  <thead>\n",
       "    <tr style=\"text-align: right;\">\n",
       "      <th></th>\n",
       "      <th>gender</th>\n",
       "      <th>wt_mean</th>\n",
       "      <th>wt_std</th>\n",
       "      <th>count_mean</th>\n",
       "      <th>count_std</th>\n",
       "      <th>st_mean</th>\n",
       "      <th>st_std</th>\n",
       "      <th>prop_sim</th>\n",
       "      <th>sample_proportion</th>\n",
       "    </tr>\n",
       "  </thead>\n",
       "  <tbody>\n",
       "    <tr>\n",
       "      <th>0</th>\n",
       "      <td>F</td>\n",
       "      <td>638.783828</td>\n",
       "      <td>82.430348</td>\n",
       "      <td>63.033333</td>\n",
       "      <td>10.060107</td>\n",
       "      <td>0.0</td>\n",
       "      <td>0.0</td>\n",
       "      <td>0.334276</td>\n",
       "      <td>0.35173</td>\n",
       "    </tr>\n",
       "    <tr>\n",
       "      <th>1</th>\n",
       "      <td>M</td>\n",
       "      <td>647.169081</td>\n",
       "      <td>86.909351</td>\n",
       "      <td>125.533333</td>\n",
       "      <td>15.381882</td>\n",
       "      <td>0.0</td>\n",
       "      <td>0.0</td>\n",
       "      <td>0.665724</td>\n",
       "      <td>0.64827</td>\n",
       "    </tr>\n",
       "  </tbody>\n",
       "</table>\n",
       "</div>"
      ],
      "text/plain": [
       "  gender     wt_mean     wt_std  count_mean  count_std  st_mean  st_std  \\\n",
       "0      F  638.783828  82.430348   63.033333  10.060107      0.0     0.0   \n",
       "1      M  647.169081  86.909351  125.533333  15.381882      0.0     0.0   \n",
       "\n",
       "   prop_sim  sample_proportion  \n",
       "0  0.334276            0.35173  \n",
       "1  0.665724            0.64827  "
      ]
     },
     "execution_count": 36,
     "metadata": {},
     "output_type": "execute_result"
    }
   ],
   "source": [
    "df_gender"
   ]
  },
  {
   "cell_type": "markdown",
   "metadata": {},
   "source": [
    "## Policy 3"
   ]
  },
  {
   "cell_type": "code",
   "execution_count": 37,
   "metadata": {},
   "outputs": [
    {
     "name": "stdout",
     "output_type": "stream",
     "text": [
      "Replicate # 0\n"
     ]
    },
    {
     "name": "stderr",
     "output_type": "stream",
     "text": [
      "Progress replication 0: 100%|█████████▉| 10950.800427387581/10957.5 [11:55<00:00,  8.31time unit/s]c:\\Users\\HP\\miniconda3\\Lib\\site-packages\\tqdm\\std.py:524: TqdmWarning: clamping frac to range [0, 1]\n",
      "  full_bar = Bar(frac,\n",
      "Progress replication 0: 100%|██████████| 10957.711067042681/10957.5 [11:56<00:00, 15.30time unit/s]\n"
     ]
    },
    {
     "name": "stdout",
     "output_type": "stream",
     "text": [
      "Replicate # 1\n"
     ]
    },
    {
     "name": "stderr",
     "output_type": "stream",
     "text": [
      "Progress replication 1: 10959.702949630646time unit [11:38, 15.69time unit/s]                      \n"
     ]
    },
    {
     "name": "stdout",
     "output_type": "stream",
     "text": [
      "Replicate # 2\n"
     ]
    },
    {
     "name": "stderr",
     "output_type": "stream",
     "text": [
      "Progress replication 2: 10962.955577456014time unit [12:31, 14.59time unit/s]                        \n"
     ]
    },
    {
     "name": "stdout",
     "output_type": "stream",
     "text": [
      "Replicate # 3\n"
     ]
    },
    {
     "name": "stderr",
     "output_type": "stream",
     "text": [
      "Progress replication 3: 10962.63247155293time unit [12:18, 14.85time unit/s]                       \n"
     ]
    },
    {
     "name": "stdout",
     "output_type": "stream",
     "text": [
      "Replicate # 4\n"
     ]
    },
    {
     "name": "stderr",
     "output_type": "stream",
     "text": [
      "Progress replication 4: 10960.16904545727time unit [12:07, 15.06time unit/s]                       \n"
     ]
    },
    {
     "name": "stdout",
     "output_type": "stream",
     "text": [
      "Replicate # 5\n"
     ]
    },
    {
     "name": "stderr",
     "output_type": "stream",
     "text": [
      "Progress replication 5: 10958.689881254695time unit [12:23, 14.73time unit/s]                      \n"
     ]
    },
    {
     "name": "stdout",
     "output_type": "stream",
     "text": [
      "Replicate # 6\n"
     ]
    },
    {
     "name": "stderr",
     "output_type": "stream",
     "text": [
      "Progress replication 6: 10961.547017617753time unit [11:58, 15.26time unit/s]                      \n"
     ]
    },
    {
     "name": "stdout",
     "output_type": "stream",
     "text": [
      "Replicate # 7\n"
     ]
    },
    {
     "name": "stderr",
     "output_type": "stream",
     "text": [
      "Progress replication 7: 10958.024050084674time unit [11:50, 15.42time unit/s]                       \n"
     ]
    },
    {
     "name": "stdout",
     "output_type": "stream",
     "text": [
      "Replicate # 8\n"
     ]
    },
    {
     "name": "stderr",
     "output_type": "stream",
     "text": [
      "Progress replication 8: 10961.946540865682time unit [13:43, 13.31time unit/s]                      \n"
     ]
    },
    {
     "name": "stdout",
     "output_type": "stream",
     "text": [
      "Replicate # 9\n"
     ]
    },
    {
     "name": "stderr",
     "output_type": "stream",
     "text": [
      "Progress replication 9: 100%|█████████▉| 10956.098369466381/10957.5 [11:50<00:00, 15.14time unit/s]  c:\\Users\\HP\\miniconda3\\Lib\\site-packages\\tqdm\\std.py:524: TqdmWarning: clamping frac to range [0, 1]\n",
      "  full_bar = Bar(frac,\n",
      "Progress replication 9: 100%|██████████| 10957.845465179345/10957.5 [11:51<00:00, 15.41time unit/s]\n"
     ]
    },
    {
     "name": "stdout",
     "output_type": "stream",
     "text": [
      "Replicate # 10\n"
     ]
    },
    {
     "name": "stderr",
     "output_type": "stream",
     "text": [
      "Progress replication 10: 10959.106786535767time unit [12:57, 14.09time unit/s]                       \n"
     ]
    },
    {
     "name": "stdout",
     "output_type": "stream",
     "text": [
      "Replicate # 11\n"
     ]
    },
    {
     "name": "stderr",
     "output_type": "stream",
     "text": [
      "Progress replication 11: 10960.056150061071time unit [12:25, 14.70time unit/s]                      \n"
     ]
    },
    {
     "name": "stdout",
     "output_type": "stream",
     "text": [
      "Replicate # 12\n"
     ]
    },
    {
     "name": "stderr",
     "output_type": "stream",
     "text": [
      "Progress replication 12: 10958.035122619885time unit [13:21, 13.67time unit/s]                      \n"
     ]
    },
    {
     "name": "stdout",
     "output_type": "stream",
     "text": [
      "Replicate # 13\n"
     ]
    },
    {
     "name": "stderr",
     "output_type": "stream",
     "text": [
      "Progress replication 13: 10960.537796369561time unit [13:25, 13.61time unit/s]                       \n"
     ]
    },
    {
     "name": "stdout",
     "output_type": "stream",
     "text": [
      "Replicate # 14\n"
     ]
    },
    {
     "name": "stderr",
     "output_type": "stream",
     "text": [
      "Progress replication 14: 10958.65500155715time unit [11:53, 15.37time unit/s]                        \n"
     ]
    },
    {
     "name": "stdout",
     "output_type": "stream",
     "text": [
      "Replicate # 15\n"
     ]
    },
    {
     "name": "stderr",
     "output_type": "stream",
     "text": [
      "Progress replication 15: 100%|█████████▉| 10952.70204566253/10957.5 [12:48<00:00, 28.27time unit/s]   c:\\Users\\HP\\miniconda3\\Lib\\site-packages\\tqdm\\std.py:524: TqdmWarning: clamping frac to range [0, 1]\n",
      "  full_bar = Bar(frac,\n",
      "Progress replication 15: 100%|██████████| 10957.987619782196/10957.5 [12:48<00:00, 14.26time unit/s]\n"
     ]
    },
    {
     "name": "stdout",
     "output_type": "stream",
     "text": [
      "Replicate # 16\n"
     ]
    },
    {
     "name": "stderr",
     "output_type": "stream",
     "text": [
      "Progress replication 16: 100%|█████████▉| 10957.25607369523/10957.5 [12:29<00:00, 20.76time unit/s] c:\\Users\\HP\\miniconda3\\Lib\\site-packages\\tqdm\\std.py:524: TqdmWarning: clamping frac to range [0, 1]\n",
      "  full_bar = Bar(frac,\n",
      "Progress replication 16: 100%|██████████| 10957.9533834818/10957.5 [12:29<00:00, 14.62time unit/s] \n"
     ]
    },
    {
     "name": "stdout",
     "output_type": "stream",
     "text": [
      "Replicate # 17\n"
     ]
    },
    {
     "name": "stderr",
     "output_type": "stream",
     "text": [
      "Progress replication 17: 10958.047727793366time unit [12:23, 14.73time unit/s]                        \n"
     ]
    },
    {
     "name": "stdout",
     "output_type": "stream",
     "text": [
      "Replicate # 18\n"
     ]
    },
    {
     "name": "stderr",
     "output_type": "stream",
     "text": [
      "Progress replication 18: 10959.447287099652time unit [12:38, 14.45time unit/s]                        \n"
     ]
    },
    {
     "name": "stdout",
     "output_type": "stream",
     "text": [
      "Replicate # 19\n"
     ]
    },
    {
     "name": "stderr",
     "output_type": "stream",
     "text": [
      "Progress replication 19: 100%|█████████▉| 10955.597125448132/10957.5 [12:55<00:00,  9.90time unit/s]c:\\Users\\HP\\miniconda3\\Lib\\site-packages\\tqdm\\std.py:524: TqdmWarning: clamping frac to range [0, 1]\n",
      "  full_bar = Bar(frac,\n",
      "Progress replication 19: 100%|██████████| 10957.878296898298/10957.5 [12:55<00:00,  9.86time unit/s]c:\\Users\\HP\\miniconda3\\Lib\\site-packages\\tqdm\\std.py:524: TqdmWarning: clamping frac to range [0, 1]\n",
      "  full_bar = Bar(frac,\n",
      "Progress replication 19: 100%|██████████| 10957.878296898298/10957.5 [12:55<00:00, 14.12time unit/s]\n"
     ]
    },
    {
     "name": "stdout",
     "output_type": "stream",
     "text": [
      "Replicate # 20\n"
     ]
    },
    {
     "name": "stderr",
     "output_type": "stream",
     "text": [
      "Progress replication 20: 10958.109194537503time unit [12:59, 14.05time unit/s]                      \n"
     ]
    },
    {
     "name": "stdout",
     "output_type": "stream",
     "text": [
      "Replicate # 21\n"
     ]
    },
    {
     "name": "stderr",
     "output_type": "stream",
     "text": [
      "Progress replication 21: 10962.868031400923time unit [13:27, 13.58time unit/s]                        \n"
     ]
    },
    {
     "name": "stdout",
     "output_type": "stream",
     "text": [
      "Replicate # 22\n"
     ]
    },
    {
     "name": "stderr",
     "output_type": "stream",
     "text": [
      "Progress replication 22: 10962.238633584904time unit [13:32, 13.49time unit/s]                        \n"
     ]
    },
    {
     "name": "stdout",
     "output_type": "stream",
     "text": [
      "Replicate # 23\n"
     ]
    },
    {
     "name": "stderr",
     "output_type": "stream",
     "text": [
      "Progress replication 23: 10958.492225152078time unit [13:02, 14.01time unit/s]                        \n"
     ]
    },
    {
     "name": "stdout",
     "output_type": "stream",
     "text": [
      "Replicate # 24\n"
     ]
    },
    {
     "name": "stderr",
     "output_type": "stream",
     "text": [
      "Progress replication 24: 10958.699897942068time unit [13:05, 13.95time unit/s]                      \n"
     ]
    },
    {
     "name": "stdout",
     "output_type": "stream",
     "text": [
      "Replicate # 25\n"
     ]
    },
    {
     "name": "stderr",
     "output_type": "stream",
     "text": [
      "Progress replication 25: 10960.657386017141time unit [12:39, 14.44time unit/s]                      \n"
     ]
    },
    {
     "name": "stdout",
     "output_type": "stream",
     "text": [
      "Replicate # 26\n"
     ]
    },
    {
     "name": "stderr",
     "output_type": "stream",
     "text": [
      "Progress replication 26: 10958.580040659512time unit [11:29, 15.90time unit/s]                        \n"
     ]
    },
    {
     "name": "stdout",
     "output_type": "stream",
     "text": [
      "Replicate # 27\n"
     ]
    },
    {
     "name": "stderr",
     "output_type": "stream",
     "text": [
      "Progress replication 27: 10959.58163529194time unit [12:01, 15.18time unit/s]                         \n"
     ]
    },
    {
     "name": "stdout",
     "output_type": "stream",
     "text": [
      "Replicate # 28\n"
     ]
    },
    {
     "name": "stderr",
     "output_type": "stream",
     "text": [
      "Progress replication 28: 10958.595441988029time unit [13:53, 13.15time unit/s]                       \n"
     ]
    },
    {
     "name": "stdout",
     "output_type": "stream",
     "text": [
      "Replicate # 29\n"
     ]
    },
    {
     "name": "stderr",
     "output_type": "stream",
     "text": [
      "Progress replication 29: 10960.175816440631time unit [12:30, 14.60time unit/s]                      \n"
     ]
    }
   ],
   "source": [
    "average_waiting_times, number_of_matches_list, results_p3_no, results_p3_ll, results_p3_fl = run_simulation(events_per_replication_p3,  replicates, random_forest, policy='p3', verbose=False)"
   ]
  },
  {
   "cell_type": "markdown",
   "metadata": {},
   "source": [
    "### recipients who receive a kidney"
   ]
  },
  {
   "cell_type": "code",
   "execution_count": 38,
   "metadata": {},
   "outputs": [],
   "source": [
    "df_waiting_time, df_gender = get_summary_tables(results_p3_no, ethcat_mapping, real_ethcat_df, real_gender_df)"
   ]
  },
  {
   "cell_type": "code",
   "execution_count": 39,
   "metadata": {},
   "outputs": [
    {
     "data": {
      "text/html": [
       "<div>\n",
       "<style scoped>\n",
       "    .dataframe tbody tr th:only-of-type {\n",
       "        vertical-align: middle;\n",
       "    }\n",
       "\n",
       "    .dataframe tbody tr th {\n",
       "        vertical-align: top;\n",
       "    }\n",
       "\n",
       "    .dataframe thead th {\n",
       "        text-align: right;\n",
       "    }\n",
       "</style>\n",
       "<table border=\"1\" class=\"dataframe\">\n",
       "  <thead>\n",
       "    <tr style=\"text-align: right;\">\n",
       "      <th></th>\n",
       "      <th>ethcat</th>\n",
       "      <th>wt_mean</th>\n",
       "      <th>wt_std</th>\n",
       "      <th>count_mean</th>\n",
       "      <th>count_std</th>\n",
       "      <th>st_mean</th>\n",
       "      <th>st_std</th>\n",
       "      <th>prop_simu</th>\n",
       "      <th>sample_proportion</th>\n",
       "    </tr>\n",
       "  </thead>\n",
       "  <tbody>\n",
       "    <tr>\n",
       "      <th>0</th>\n",
       "      <td>Amer Ind/Alaska Native, Non-Hispanic</td>\n",
       "      <td>1055.793</td>\n",
       "      <td>122.438</td>\n",
       "      <td>12.267</td>\n",
       "      <td>2.766</td>\n",
       "      <td>2949.840</td>\n",
       "      <td>45.435</td>\n",
       "      <td>0.011</td>\n",
       "      <td>0.014</td>\n",
       "    </tr>\n",
       "    <tr>\n",
       "      <th>1</th>\n",
       "      <td>Asian, Non-Hispanic</td>\n",
       "      <td>1194.990</td>\n",
       "      <td>115.409</td>\n",
       "      <td>54.467</td>\n",
       "      <td>5.794</td>\n",
       "      <td>2958.469</td>\n",
       "      <td>18.139</td>\n",
       "      <td>0.047</td>\n",
       "      <td>0.053</td>\n",
       "    </tr>\n",
       "    <tr>\n",
       "      <th>2</th>\n",
       "      <td>Black, Non-Hispanic</td>\n",
       "      <td>1167.837</td>\n",
       "      <td>103.524</td>\n",
       "      <td>361.500</td>\n",
       "      <td>16.311</td>\n",
       "      <td>2967.335</td>\n",
       "      <td>8.537</td>\n",
       "      <td>0.314</td>\n",
       "      <td>0.325</td>\n",
       "    </tr>\n",
       "    <tr>\n",
       "      <th>3</th>\n",
       "      <td>Hispanic/Latino</td>\n",
       "      <td>1090.339</td>\n",
       "      <td>100.682</td>\n",
       "      <td>198.400</td>\n",
       "      <td>11.935</td>\n",
       "      <td>2965.686</td>\n",
       "      <td>11.190</td>\n",
       "      <td>0.172</td>\n",
       "      <td>0.160</td>\n",
       "    </tr>\n",
       "    <tr>\n",
       "      <th>4</th>\n",
       "      <td>Multiracial, Non-Hispanic</td>\n",
       "      <td>1305.154</td>\n",
       "      <td>187.999</td>\n",
       "      <td>7.867</td>\n",
       "      <td>2.177</td>\n",
       "      <td>2968.692</td>\n",
       "      <td>58.789</td>\n",
       "      <td>0.007</td>\n",
       "      <td>0.005</td>\n",
       "    </tr>\n",
       "    <tr>\n",
       "      <th>5</th>\n",
       "      <td>Native Hawaiian/Other Pacific Islander, Non-Hi...</td>\n",
       "      <td>1159.476</td>\n",
       "      <td>158.815</td>\n",
       "      <td>4.233</td>\n",
       "      <td>1.591</td>\n",
       "      <td>2945.487</td>\n",
       "      <td>91.191</td>\n",
       "      <td>0.004</td>\n",
       "      <td>0.004</td>\n",
       "    </tr>\n",
       "    <tr>\n",
       "      <th>6</th>\n",
       "      <td>White, Non-Hispanic</td>\n",
       "      <td>1151.970</td>\n",
       "      <td>98.198</td>\n",
       "      <td>512.500</td>\n",
       "      <td>24.428</td>\n",
       "      <td>2968.203</td>\n",
       "      <td>6.194</td>\n",
       "      <td>0.445</td>\n",
       "      <td>0.439</td>\n",
       "    </tr>\n",
       "  </tbody>\n",
       "</table>\n",
       "</div>"
      ],
      "text/plain": [
       "                                              ethcat   wt_mean   wt_std  \\\n",
       "0               Amer Ind/Alaska Native, Non-Hispanic  1055.793  122.438   \n",
       "1                                Asian, Non-Hispanic  1194.990  115.409   \n",
       "2                                Black, Non-Hispanic  1167.837  103.524   \n",
       "3                                    Hispanic/Latino  1090.339  100.682   \n",
       "4                          Multiracial, Non-Hispanic  1305.154  187.999   \n",
       "5  Native Hawaiian/Other Pacific Islander, Non-Hi...  1159.476  158.815   \n",
       "6                                White, Non-Hispanic  1151.970   98.198   \n",
       "\n",
       "   count_mean  count_std   st_mean  st_std  prop_simu  sample_proportion  \n",
       "0      12.267      2.766  2949.840  45.435      0.011              0.014  \n",
       "1      54.467      5.794  2958.469  18.139      0.047              0.053  \n",
       "2     361.500     16.311  2967.335   8.537      0.314              0.325  \n",
       "3     198.400     11.935  2965.686  11.190      0.172              0.160  \n",
       "4       7.867      2.177  2968.692  58.789      0.007              0.005  \n",
       "5       4.233      1.591  2945.487  91.191      0.004              0.004  \n",
       "6     512.500     24.428  2968.203   6.194      0.445              0.439  "
      ]
     },
     "execution_count": 39,
     "metadata": {},
     "output_type": "execute_result"
    }
   ],
   "source": [
    "df_waiting_time "
   ]
  },
  {
   "cell_type": "code",
   "execution_count": 40,
   "metadata": {},
   "outputs": [
    {
     "data": {
      "text/html": [
       "<div>\n",
       "<style scoped>\n",
       "    .dataframe tbody tr th:only-of-type {\n",
       "        vertical-align: middle;\n",
       "    }\n",
       "\n",
       "    .dataframe tbody tr th {\n",
       "        vertical-align: top;\n",
       "    }\n",
       "\n",
       "    .dataframe thead th {\n",
       "        text-align: right;\n",
       "    }\n",
       "</style>\n",
       "<table border=\"1\" class=\"dataframe\">\n",
       "  <thead>\n",
       "    <tr style=\"text-align: right;\">\n",
       "      <th></th>\n",
       "      <th>gender</th>\n",
       "      <th>wt_mean</th>\n",
       "      <th>wt_std</th>\n",
       "      <th>count_mean</th>\n",
       "      <th>count_std</th>\n",
       "      <th>st_mean</th>\n",
       "      <th>st_std</th>\n",
       "      <th>prop_sim</th>\n",
       "      <th>sample_proportion</th>\n",
       "    </tr>\n",
       "  </thead>\n",
       "  <tbody>\n",
       "    <tr>\n",
       "      <th>0</th>\n",
       "      <td>F</td>\n",
       "      <td>1151.235</td>\n",
       "      <td>98.369</td>\n",
       "      <td>412.533</td>\n",
       "      <td>22.107</td>\n",
       "      <td>2968.704</td>\n",
       "      <td>7.878</td>\n",
       "      <td>0.358</td>\n",
       "      <td>0.352</td>\n",
       "    </tr>\n",
       "    <tr>\n",
       "      <th>1</th>\n",
       "      <td>M</td>\n",
       "      <td>1146.847</td>\n",
       "      <td>100.310</td>\n",
       "      <td>738.700</td>\n",
       "      <td>30.669</td>\n",
       "      <td>2965.713</td>\n",
       "      <td>4.136</td>\n",
       "      <td>0.642</td>\n",
       "      <td>0.648</td>\n",
       "    </tr>\n",
       "  </tbody>\n",
       "</table>\n",
       "</div>"
      ],
      "text/plain": [
       "  gender   wt_mean   wt_std  count_mean  count_std   st_mean  st_std  \\\n",
       "0      F  1151.235   98.369     412.533     22.107  2968.704   7.878   \n",
       "1      M  1146.847  100.310     738.700     30.669  2965.713   4.136   \n",
       "\n",
       "   prop_sim  sample_proportion  \n",
       "0     0.358              0.352  \n",
       "1     0.642              0.648  "
      ]
     },
     "execution_count": 40,
     "metadata": {},
     "output_type": "execute_result"
    }
   ],
   "source": [
    "df_gender.round(3)"
   ]
  },
  {
   "cell_type": "markdown",
   "metadata": {},
   "source": [
    "### patients who leave the waitlist"
   ]
  },
  {
   "cell_type": "code",
   "execution_count": 41,
   "metadata": {},
   "outputs": [],
   "source": [
    "df_waiting_time, df_gender = get_summary_tables(results_p3_ll, ethcat_mapping, real_ethcat_df, real_gender_df)"
   ]
  },
  {
   "cell_type": "code",
   "execution_count": 42,
   "metadata": {},
   "outputs": [
    {
     "data": {
      "text/html": [
       "<div>\n",
       "<style scoped>\n",
       "    .dataframe tbody tr th:only-of-type {\n",
       "        vertical-align: middle;\n",
       "    }\n",
       "\n",
       "    .dataframe tbody tr th {\n",
       "        vertical-align: top;\n",
       "    }\n",
       "\n",
       "    .dataframe thead th {\n",
       "        text-align: right;\n",
       "    }\n",
       "</style>\n",
       "<table border=\"1\" class=\"dataframe\">\n",
       "  <thead>\n",
       "    <tr style=\"text-align: right;\">\n",
       "      <th></th>\n",
       "      <th>ethcat</th>\n",
       "      <th>wt_mean</th>\n",
       "      <th>wt_std</th>\n",
       "      <th>count_mean</th>\n",
       "      <th>count_std</th>\n",
       "      <th>st_mean</th>\n",
       "      <th>st_std</th>\n",
       "      <th>prop_simu</th>\n",
       "      <th>sample_proportion</th>\n",
       "    </tr>\n",
       "  </thead>\n",
       "  <tbody>\n",
       "    <tr>\n",
       "      <th>0</th>\n",
       "      <td>Amer Ind/Alaska Native, Non-Hispanic</td>\n",
       "      <td>676.759</td>\n",
       "      <td>116.601</td>\n",
       "      <td>5.133</td>\n",
       "      <td>1.634</td>\n",
       "      <td>0.0</td>\n",
       "      <td>0.0</td>\n",
       "      <td>0.011</td>\n",
       "      <td>0.014</td>\n",
       "    </tr>\n",
       "    <tr>\n",
       "      <th>1</th>\n",
       "      <td>Asian, Non-Hispanic</td>\n",
       "      <td>690.537</td>\n",
       "      <td>111.982</td>\n",
       "      <td>18.933</td>\n",
       "      <td>3.300</td>\n",
       "      <td>0.0</td>\n",
       "      <td>0.0</td>\n",
       "      <td>0.042</td>\n",
       "      <td>0.053</td>\n",
       "    </tr>\n",
       "    <tr>\n",
       "      <th>2</th>\n",
       "      <td>Black, Non-Hispanic</td>\n",
       "      <td>604.929</td>\n",
       "      <td>56.936</td>\n",
       "      <td>159.467</td>\n",
       "      <td>15.772</td>\n",
       "      <td>0.0</td>\n",
       "      <td>0.0</td>\n",
       "      <td>0.351</td>\n",
       "      <td>0.325</td>\n",
       "    </tr>\n",
       "    <tr>\n",
       "      <th>3</th>\n",
       "      <td>Hispanic/Latino</td>\n",
       "      <td>602.083</td>\n",
       "      <td>62.942</td>\n",
       "      <td>73.267</td>\n",
       "      <td>6.938</td>\n",
       "      <td>0.0</td>\n",
       "      <td>0.0</td>\n",
       "      <td>0.161</td>\n",
       "      <td>0.160</td>\n",
       "    </tr>\n",
       "    <tr>\n",
       "      <th>4</th>\n",
       "      <td>Multiracial, Non-Hispanic</td>\n",
       "      <td>580.978</td>\n",
       "      <td>245.870</td>\n",
       "      <td>2.857</td>\n",
       "      <td>1.145</td>\n",
       "      <td>0.0</td>\n",
       "      <td>0.0</td>\n",
       "      <td>0.006</td>\n",
       "      <td>0.005</td>\n",
       "    </tr>\n",
       "    <tr>\n",
       "      <th>5</th>\n",
       "      <td>Native Hawaiian/Other Pacific Islander, Non-Hi...</td>\n",
       "      <td>560.458</td>\n",
       "      <td>441.031</td>\n",
       "      <td>1.200</td>\n",
       "      <td>0.410</td>\n",
       "      <td>0.0</td>\n",
       "      <td>0.0</td>\n",
       "      <td>0.003</td>\n",
       "      <td>0.004</td>\n",
       "    </tr>\n",
       "    <tr>\n",
       "      <th>6</th>\n",
       "      <td>White, Non-Hispanic</td>\n",
       "      <td>621.995</td>\n",
       "      <td>53.350</td>\n",
       "      <td>193.033</td>\n",
       "      <td>14.696</td>\n",
       "      <td>0.0</td>\n",
       "      <td>0.0</td>\n",
       "      <td>0.425</td>\n",
       "      <td>0.439</td>\n",
       "    </tr>\n",
       "  </tbody>\n",
       "</table>\n",
       "</div>"
      ],
      "text/plain": [
       "                                              ethcat  wt_mean   wt_std  \\\n",
       "0               Amer Ind/Alaska Native, Non-Hispanic  676.759  116.601   \n",
       "1                                Asian, Non-Hispanic  690.537  111.982   \n",
       "2                                Black, Non-Hispanic  604.929   56.936   \n",
       "3                                    Hispanic/Latino  602.083   62.942   \n",
       "4                          Multiracial, Non-Hispanic  580.978  245.870   \n",
       "5  Native Hawaiian/Other Pacific Islander, Non-Hi...  560.458  441.031   \n",
       "6                                White, Non-Hispanic  621.995   53.350   \n",
       "\n",
       "   count_mean  count_std  st_mean  st_std  prop_simu  sample_proportion  \n",
       "0       5.133      1.634      0.0     0.0      0.011              0.014  \n",
       "1      18.933      3.300      0.0     0.0      0.042              0.053  \n",
       "2     159.467     15.772      0.0     0.0      0.351              0.325  \n",
       "3      73.267      6.938      0.0     0.0      0.161              0.160  \n",
       "4       2.857      1.145      0.0     0.0      0.006              0.005  \n",
       "5       1.200      0.410      0.0     0.0      0.003              0.004  \n",
       "6     193.033     14.696      0.0     0.0      0.425              0.439  "
      ]
     },
     "execution_count": 42,
     "metadata": {},
     "output_type": "execute_result"
    }
   ],
   "source": [
    "df_waiting_time"
   ]
  },
  {
   "cell_type": "code",
   "execution_count": 43,
   "metadata": {},
   "outputs": [
    {
     "data": {
      "text/html": [
       "<div>\n",
       "<style scoped>\n",
       "    .dataframe tbody tr th:only-of-type {\n",
       "        vertical-align: middle;\n",
       "    }\n",
       "\n",
       "    .dataframe tbody tr th {\n",
       "        vertical-align: top;\n",
       "    }\n",
       "\n",
       "    .dataframe thead th {\n",
       "        text-align: right;\n",
       "    }\n",
       "</style>\n",
       "<table border=\"1\" class=\"dataframe\">\n",
       "  <thead>\n",
       "    <tr style=\"text-align: right;\">\n",
       "      <th></th>\n",
       "      <th>gender</th>\n",
       "      <th>wt_mean</th>\n",
       "      <th>wt_std</th>\n",
       "      <th>count_mean</th>\n",
       "      <th>count_std</th>\n",
       "      <th>st_mean</th>\n",
       "      <th>st_std</th>\n",
       "      <th>prop_sim</th>\n",
       "      <th>sample_proportion</th>\n",
       "    </tr>\n",
       "  </thead>\n",
       "  <tbody>\n",
       "    <tr>\n",
       "      <th>0</th>\n",
       "      <td>F</td>\n",
       "      <td>569.667829</td>\n",
       "      <td>58.522252</td>\n",
       "      <td>163.033333</td>\n",
       "      <td>15.376837</td>\n",
       "      <td>0.0</td>\n",
       "      <td>0.0</td>\n",
       "      <td>0.359659</td>\n",
       "      <td>0.35173</td>\n",
       "    </tr>\n",
       "    <tr>\n",
       "      <th>1</th>\n",
       "      <td>M</td>\n",
       "      <td>641.957365</td>\n",
       "      <td>54.842833</td>\n",
       "      <td>290.266667</td>\n",
       "      <td>20.905260</td>\n",
       "      <td>0.0</td>\n",
       "      <td>0.0</td>\n",
       "      <td>0.640341</td>\n",
       "      <td>0.64827</td>\n",
       "    </tr>\n",
       "  </tbody>\n",
       "</table>\n",
       "</div>"
      ],
      "text/plain": [
       "  gender     wt_mean     wt_std  count_mean  count_std  st_mean  st_std  \\\n",
       "0      F  569.667829  58.522252  163.033333  15.376837      0.0     0.0   \n",
       "1      M  641.957365  54.842833  290.266667  20.905260      0.0     0.0   \n",
       "\n",
       "   prop_sim  sample_proportion  \n",
       "0  0.359659            0.35173  \n",
       "1  0.640341            0.64827  "
      ]
     },
     "execution_count": 43,
     "metadata": {},
     "output_type": "execute_result"
    }
   ],
   "source": [
    "df_gender"
   ]
  },
  {
   "cell_type": "markdown",
   "metadata": {},
   "source": [
    "### patients who stay in final list"
   ]
  },
  {
   "cell_type": "code",
   "execution_count": 44,
   "metadata": {},
   "outputs": [],
   "source": [
    "df_waiting_time, df_gender = get_summary_tables(results_p3_fl, ethcat_mapping, real_ethcat_df, real_gender_df)"
   ]
  },
  {
   "cell_type": "code",
   "execution_count": 45,
   "metadata": {},
   "outputs": [
    {
     "data": {
      "text/html": [
       "<div>\n",
       "<style scoped>\n",
       "    .dataframe tbody tr th:only-of-type {\n",
       "        vertical-align: middle;\n",
       "    }\n",
       "\n",
       "    .dataframe tbody tr th {\n",
       "        vertical-align: top;\n",
       "    }\n",
       "\n",
       "    .dataframe thead th {\n",
       "        text-align: right;\n",
       "    }\n",
       "</style>\n",
       "<table border=\"1\" class=\"dataframe\">\n",
       "  <thead>\n",
       "    <tr style=\"text-align: right;\">\n",
       "      <th></th>\n",
       "      <th>ethcat</th>\n",
       "      <th>wt_mean</th>\n",
       "      <th>wt_std</th>\n",
       "      <th>count_mean</th>\n",
       "      <th>count_std</th>\n",
       "      <th>st_mean</th>\n",
       "      <th>st_std</th>\n",
       "      <th>prop_simu</th>\n",
       "      <th>sample_proportion</th>\n",
       "    </tr>\n",
       "  </thead>\n",
       "  <tbody>\n",
       "    <tr>\n",
       "      <th>0</th>\n",
       "      <td>Amer Ind/Alaska Native, Non-Hispanic</td>\n",
       "      <td>334.898</td>\n",
       "      <td>144.091</td>\n",
       "      <td>3.069</td>\n",
       "      <td>1.223</td>\n",
       "      <td>0.0</td>\n",
       "      <td>0.0</td>\n",
       "      <td>0.016</td>\n",
       "      <td>0.014</td>\n",
       "    </tr>\n",
       "    <tr>\n",
       "      <th>1</th>\n",
       "      <td>Asian, Non-Hispanic</td>\n",
       "      <td>510.793</td>\n",
       "      <td>104.273</td>\n",
       "      <td>10.667</td>\n",
       "      <td>2.695</td>\n",
       "      <td>0.0</td>\n",
       "      <td>0.0</td>\n",
       "      <td>0.057</td>\n",
       "      <td>0.053</td>\n",
       "    </tr>\n",
       "    <tr>\n",
       "      <th>2</th>\n",
       "      <td>Black, Non-Hispanic</td>\n",
       "      <td>707.847</td>\n",
       "      <td>115.162</td>\n",
       "      <td>65.467</td>\n",
       "      <td>9.198</td>\n",
       "      <td>0.0</td>\n",
       "      <td>0.0</td>\n",
       "      <td>0.348</td>\n",
       "      <td>0.325</td>\n",
       "    </tr>\n",
       "    <tr>\n",
       "      <th>3</th>\n",
       "      <td>Hispanic/Latino</td>\n",
       "      <td>521.132</td>\n",
       "      <td>96.250</td>\n",
       "      <td>32.633</td>\n",
       "      <td>6.573</td>\n",
       "      <td>0.0</td>\n",
       "      <td>0.0</td>\n",
       "      <td>0.173</td>\n",
       "      <td>0.160</td>\n",
       "    </tr>\n",
       "    <tr>\n",
       "      <th>4</th>\n",
       "      <td>Multiracial, Non-Hispanic</td>\n",
       "      <td>402.397</td>\n",
       "      <td>220.422</td>\n",
       "      <td>1.350</td>\n",
       "      <td>0.489</td>\n",
       "      <td>0.0</td>\n",
       "      <td>0.0</td>\n",
       "      <td>0.007</td>\n",
       "      <td>0.005</td>\n",
       "    </tr>\n",
       "    <tr>\n",
       "      <th>5</th>\n",
       "      <td>Native Hawaiian/Other Pacific Islander, Non-Hi...</td>\n",
       "      <td>634.861</td>\n",
       "      <td>209.406</td>\n",
       "      <td>1.000</td>\n",
       "      <td>0.000</td>\n",
       "      <td>0.0</td>\n",
       "      <td>0.0</td>\n",
       "      <td>0.005</td>\n",
       "      <td>0.004</td>\n",
       "    </tr>\n",
       "    <tr>\n",
       "      <th>6</th>\n",
       "      <td>White, Non-Hispanic</td>\n",
       "      <td>665.291</td>\n",
       "      <td>97.165</td>\n",
       "      <td>74.200</td>\n",
       "      <td>10.032</td>\n",
       "      <td>0.0</td>\n",
       "      <td>0.0</td>\n",
       "      <td>0.394</td>\n",
       "      <td>0.439</td>\n",
       "    </tr>\n",
       "  </tbody>\n",
       "</table>\n",
       "</div>"
      ],
      "text/plain": [
       "                                              ethcat  wt_mean   wt_std  \\\n",
       "0               Amer Ind/Alaska Native, Non-Hispanic  334.898  144.091   \n",
       "1                                Asian, Non-Hispanic  510.793  104.273   \n",
       "2                                Black, Non-Hispanic  707.847  115.162   \n",
       "3                                    Hispanic/Latino  521.132   96.250   \n",
       "4                          Multiracial, Non-Hispanic  402.397  220.422   \n",
       "5  Native Hawaiian/Other Pacific Islander, Non-Hi...  634.861  209.406   \n",
       "6                                White, Non-Hispanic  665.291   97.165   \n",
       "\n",
       "   count_mean  count_std  st_mean  st_std  prop_simu  sample_proportion  \n",
       "0       3.069      1.223      0.0     0.0      0.016              0.014  \n",
       "1      10.667      2.695      0.0     0.0      0.057              0.053  \n",
       "2      65.467      9.198      0.0     0.0      0.348              0.325  \n",
       "3      32.633      6.573      0.0     0.0      0.173              0.160  \n",
       "4       1.350      0.489      0.0     0.0      0.007              0.005  \n",
       "5       1.000      0.000      0.0     0.0      0.005              0.004  \n",
       "6      74.200     10.032      0.0     0.0      0.394              0.439  "
      ]
     },
     "execution_count": 45,
     "metadata": {},
     "output_type": "execute_result"
    }
   ],
   "source": [
    "df_waiting_time"
   ]
  },
  {
   "cell_type": "code",
   "execution_count": 46,
   "metadata": {},
   "outputs": [
    {
     "data": {
      "text/html": [
       "<div>\n",
       "<style scoped>\n",
       "    .dataframe tbody tr th:only-of-type {\n",
       "        vertical-align: middle;\n",
       "    }\n",
       "\n",
       "    .dataframe tbody tr th {\n",
       "        vertical-align: top;\n",
       "    }\n",
       "\n",
       "    .dataframe thead th {\n",
       "        text-align: right;\n",
       "    }\n",
       "</style>\n",
       "<table border=\"1\" class=\"dataframe\">\n",
       "  <thead>\n",
       "    <tr style=\"text-align: right;\">\n",
       "      <th></th>\n",
       "      <th>gender</th>\n",
       "      <th>wt_mean</th>\n",
       "      <th>wt_std</th>\n",
       "      <th>count_mean</th>\n",
       "      <th>count_std</th>\n",
       "      <th>st_mean</th>\n",
       "      <th>st_std</th>\n",
       "      <th>prop_sim</th>\n",
       "      <th>sample_proportion</th>\n",
       "    </tr>\n",
       "  </thead>\n",
       "  <tbody>\n",
       "    <tr>\n",
       "      <th>0</th>\n",
       "      <td>F</td>\n",
       "      <td>630.419632</td>\n",
       "      <td>82.051868</td>\n",
       "      <td>62.833333</td>\n",
       "      <td>8.745771</td>\n",
       "      <td>0.0</td>\n",
       "      <td>0.0</td>\n",
       "      <td>0.33529</td>\n",
       "      <td>0.35173</td>\n",
       "    </tr>\n",
       "    <tr>\n",
       "      <th>1</th>\n",
       "      <td>M</td>\n",
       "      <td>645.175808</td>\n",
       "      <td>90.967623</td>\n",
       "      <td>124.566667</td>\n",
       "      <td>16.853698</td>\n",
       "      <td>0.0</td>\n",
       "      <td>0.0</td>\n",
       "      <td>0.66471</td>\n",
       "      <td>0.64827</td>\n",
       "    </tr>\n",
       "  </tbody>\n",
       "</table>\n",
       "</div>"
      ],
      "text/plain": [
       "  gender     wt_mean     wt_std  count_mean  count_std  st_mean  st_std  \\\n",
       "0      F  630.419632  82.051868   62.833333   8.745771      0.0     0.0   \n",
       "1      M  645.175808  90.967623  124.566667  16.853698      0.0     0.0   \n",
       "\n",
       "   prop_sim  sample_proportion  \n",
       "0   0.33529            0.35173  \n",
       "1   0.66471            0.64827  "
      ]
     },
     "execution_count": 46,
     "metadata": {},
     "output_type": "execute_result"
    }
   ],
   "source": [
    "df_gender"
   ]
  },
  {
   "cell_type": "markdown",
   "metadata": {},
   "source": [
    "# Random survival forest"
   ]
  },
  {
   "cell_type": "code",
   "execution_count": 47,
   "metadata": {},
   "outputs": [],
   "source": [
    "events_per_replication_p1 = copy.deepcopy(events_per_replication)\n",
    "events_per_replication_p2 = copy.deepcopy(events_per_replication)\n",
    "events_per_replication_p3 = copy.deepcopy(events_per_replication)"
   ]
  },
  {
   "cell_type": "markdown",
   "metadata": {},
   "source": [
    "## Policy 1"
   ]
  },
  {
   "cell_type": "code",
   "execution_count": 48,
   "metadata": {},
   "outputs": [
    {
     "name": "stdout",
     "output_type": "stream",
     "text": [
      "Replicate # 0\n"
     ]
    },
    {
     "name": "stderr",
     "output_type": "stream",
     "text": [
      "Progress replication 0: 10959.363706892873time unit [06:56, 26.33time unit/s]                       \n"
     ]
    },
    {
     "name": "stdout",
     "output_type": "stream",
     "text": [
      "Replicate # 1\n"
     ]
    },
    {
     "name": "stderr",
     "output_type": "stream",
     "text": [
      "Progress replication 1: 10960.181291574796time unit [06:54, 26.45time unit/s]                      \n"
     ]
    },
    {
     "name": "stdout",
     "output_type": "stream",
     "text": [
      "Replicate # 2\n"
     ]
    },
    {
     "name": "stderr",
     "output_type": "stream",
     "text": [
      "Progress replication 2:  32%|███▏      | 3532.531971753988/10957.5 [02:44<05:46, 21.45time unit/s]   \n"
     ]
    },
    {
     "ename": "KeyboardInterrupt",
     "evalue": "",
     "output_type": "error",
     "traceback": [
      "\u001b[1;31m---------------------------------------------------------------------------\u001b[0m",
      "\u001b[1;31mKeyboardInterrupt\u001b[0m                         Traceback (most recent call last)",
      "Cell \u001b[1;32mIn[48], line 1\u001b[0m\n\u001b[1;32m----> 1\u001b[0m average_waiting_times, number_of_matches_list, results_p1_no, results_p1_ll, results_p1_fl \u001b[38;5;241m=\u001b[39m \u001b[43mrun_simulation\u001b[49m\u001b[43m(\u001b[49m\u001b[43mevents_per_replication_p1\u001b[49m\u001b[43m,\u001b[49m\u001b[43m  \u001b[49m\n\u001b[0;32m      2\u001b[0m \u001b[43m                                                                                                            \u001b[49m\u001b[43mreplicates\u001b[49m\u001b[43m,\u001b[49m\u001b[43m \u001b[49m\u001b[43mrandom_forest\u001b[49m\u001b[43m,\u001b[49m\u001b[43m \u001b[49m\n\u001b[0;32m      3\u001b[0m \u001b[43m                                                                                                            \u001b[49m\u001b[43mpolicy\u001b[49m\u001b[38;5;241;43m=\u001b[39;49m\u001b[38;5;124;43m'\u001b[39;49m\u001b[38;5;124;43mp1\u001b[39;49m\u001b[38;5;124;43m'\u001b[39;49m\u001b[43m,\u001b[49m\u001b[43m \u001b[49m\u001b[43mverbose\u001b[49m\u001b[38;5;241;43m=\u001b[39;49m\u001b[38;5;28;43;01mFalse\u001b[39;49;00m\u001b[43m)\u001b[49m\n",
      "File \u001b[1;32mc:\\Users\\HP\\Desktop\\UNOS data\\codes\\simulation-waitline-unos\\simulation.py:162\u001b[0m, in \u001b[0;36mrun_simulation\u001b[1;34m(events_per_replication, replicates, predictor, policy, T, TARGET_TIME, verbose, time_before_starting_simulation)\u001b[0m\n\u001b[0;32m    160\u001b[0m current_t \u001b[38;5;241m+\u001b[39m\u001b[38;5;241m=\u001b[39m time\n\u001b[0;32m    161\u001b[0m new_recipient \u001b[38;5;241m=\u001b[39m rec\u001b[38;5;241m.\u001b[39mRecipient(current_t) \n\u001b[1;32m--> 162\u001b[0m \u001b[43mnew_recipient\u001b[49m\u001b[38;5;241;43m.\u001b[39;49m\u001b[43mcreate_recipient\u001b[49m\u001b[43m(\u001b[49m\u001b[43mcounter\u001b[49m\u001b[43m)\u001b[49m\n\u001b[0;32m    163\u001b[0m wait_list\u001b[38;5;241m.\u001b[39mappend(new_recipient)\n\u001b[0;32m    164\u001b[0m next_in_leave_the_list\u001b[38;5;241m.\u001b[39mappend((new_recipient\u001b[38;5;241m.\u001b[39mtime_to_leave_list, new_recipient\u001b[38;5;241m.\u001b[39mreason_to_leave_list, new_recipient\u001b[38;5;241m.\u001b[39mID))\n",
      "File \u001b[1;32mc:\\Users\\HP\\Desktop\\UNOS data\\codes\\simulation-waitline-unos\\recipient.py:34\u001b[0m, in \u001b[0;36mRecipient.create_recipient\u001b[1;34m(self, seed)\u001b[0m\n\u001b[0;32m     32\u001b[0m \u001b[38;5;28;01mdef\u001b[39;00m \u001b[38;5;21mcreate_recipient\u001b[39m(\u001b[38;5;28mself\u001b[39m, seed):\n\u001b[0;32m     33\u001b[0m     np\u001b[38;5;241m.\u001b[39mrandom\u001b[38;5;241m.\u001b[39mseed(seed)\n\u001b[1;32m---> 34\u001b[0m     new_recipient \u001b[38;5;241m=\u001b[39m \u001b[43mpd\u001b[49m\u001b[38;5;241;43m.\u001b[39;49m\u001b[43mread_csv\u001b[49m\u001b[43m(\u001b[49m\u001b[38;5;124;43m'\u001b[39;49m\u001b[38;5;124;43mdata/recipients.csv\u001b[39;49m\u001b[38;5;124;43m'\u001b[39;49m\u001b[43m)\u001b[49m\u001b[38;5;241m.\u001b[39msample(\u001b[38;5;241m1\u001b[39m, random_state\u001b[38;5;241m=\u001b[39mseed)\n\u001b[0;32m     35\u001b[0m     \u001b[38;5;28mself\u001b[39m\u001b[38;5;241m.\u001b[39mpredictors \u001b[38;5;241m=\u001b[39m new_recipient[\u001b[38;5;28mself\u001b[39m\u001b[38;5;241m.\u001b[39mcolumn_names]\u001b[38;5;241m.\u001b[39mvalues[\u001b[38;5;241m0\u001b[39m]\n\u001b[0;32m     36\u001b[0m     \u001b[38;5;28mself\u001b[39m\u001b[38;5;241m.\u001b[39methcat \u001b[38;5;241m=\u001b[39m new_recipient[ \u001b[38;5;124m'\u001b[39m\u001b[38;5;124mETHCAT\u001b[39m\u001b[38;5;124m'\u001b[39m]\u001b[38;5;241m.\u001b[39mvalues[\u001b[38;5;241m0\u001b[39m]\n",
      "File \u001b[1;32mc:\\Users\\HP\\miniconda3\\Lib\\site-packages\\pandas\\io\\parsers\\readers.py:1026\u001b[0m, in \u001b[0;36mread_csv\u001b[1;34m(filepath_or_buffer, sep, delimiter, header, names, index_col, usecols, dtype, engine, converters, true_values, false_values, skipinitialspace, skiprows, skipfooter, nrows, na_values, keep_default_na, na_filter, verbose, skip_blank_lines, parse_dates, infer_datetime_format, keep_date_col, date_parser, date_format, dayfirst, cache_dates, iterator, chunksize, compression, thousands, decimal, lineterminator, quotechar, quoting, doublequote, escapechar, comment, encoding, encoding_errors, dialect, on_bad_lines, delim_whitespace, low_memory, memory_map, float_precision, storage_options, dtype_backend)\u001b[0m\n\u001b[0;32m   1013\u001b[0m kwds_defaults \u001b[38;5;241m=\u001b[39m _refine_defaults_read(\n\u001b[0;32m   1014\u001b[0m     dialect,\n\u001b[0;32m   1015\u001b[0m     delimiter,\n\u001b[1;32m   (...)\u001b[0m\n\u001b[0;32m   1022\u001b[0m     dtype_backend\u001b[38;5;241m=\u001b[39mdtype_backend,\n\u001b[0;32m   1023\u001b[0m )\n\u001b[0;32m   1024\u001b[0m kwds\u001b[38;5;241m.\u001b[39mupdate(kwds_defaults)\n\u001b[1;32m-> 1026\u001b[0m \u001b[38;5;28;01mreturn\u001b[39;00m \u001b[43m_read\u001b[49m\u001b[43m(\u001b[49m\u001b[43mfilepath_or_buffer\u001b[49m\u001b[43m,\u001b[49m\u001b[43m \u001b[49m\u001b[43mkwds\u001b[49m\u001b[43m)\u001b[49m\n",
      "File \u001b[1;32mc:\\Users\\HP\\miniconda3\\Lib\\site-packages\\pandas\\io\\parsers\\readers.py:626\u001b[0m, in \u001b[0;36m_read\u001b[1;34m(filepath_or_buffer, kwds)\u001b[0m\n\u001b[0;32m    623\u001b[0m     \u001b[38;5;28;01mreturn\u001b[39;00m parser\n\u001b[0;32m    625\u001b[0m \u001b[38;5;28;01mwith\u001b[39;00m parser:\n\u001b[1;32m--> 626\u001b[0m     \u001b[38;5;28;01mreturn\u001b[39;00m \u001b[43mparser\u001b[49m\u001b[38;5;241;43m.\u001b[39;49m\u001b[43mread\u001b[49m\u001b[43m(\u001b[49m\u001b[43mnrows\u001b[49m\u001b[43m)\u001b[49m\n",
      "File \u001b[1;32mc:\\Users\\HP\\miniconda3\\Lib\\site-packages\\pandas\\io\\parsers\\readers.py:1923\u001b[0m, in \u001b[0;36mTextFileReader.read\u001b[1;34m(self, nrows)\u001b[0m\n\u001b[0;32m   1916\u001b[0m nrows \u001b[38;5;241m=\u001b[39m validate_integer(\u001b[38;5;124m\"\u001b[39m\u001b[38;5;124mnrows\u001b[39m\u001b[38;5;124m\"\u001b[39m, nrows)\n\u001b[0;32m   1917\u001b[0m \u001b[38;5;28;01mtry\u001b[39;00m:\n\u001b[0;32m   1918\u001b[0m     \u001b[38;5;66;03m# error: \"ParserBase\" has no attribute \"read\"\u001b[39;00m\n\u001b[0;32m   1919\u001b[0m     (\n\u001b[0;32m   1920\u001b[0m         index,\n\u001b[0;32m   1921\u001b[0m         columns,\n\u001b[0;32m   1922\u001b[0m         col_dict,\n\u001b[1;32m-> 1923\u001b[0m     ) \u001b[38;5;241m=\u001b[39m \u001b[38;5;28;43mself\u001b[39;49m\u001b[38;5;241;43m.\u001b[39;49m\u001b[43m_engine\u001b[49m\u001b[38;5;241;43m.\u001b[39;49m\u001b[43mread\u001b[49m\u001b[43m(\u001b[49m\u001b[43m  \u001b[49m\u001b[38;5;66;43;03m# type: ignore[attr-defined]\u001b[39;49;00m\n\u001b[0;32m   1924\u001b[0m \u001b[43m        \u001b[49m\u001b[43mnrows\u001b[49m\n\u001b[0;32m   1925\u001b[0m \u001b[43m    \u001b[49m\u001b[43m)\u001b[49m\n\u001b[0;32m   1926\u001b[0m \u001b[38;5;28;01mexcept\u001b[39;00m \u001b[38;5;167;01mException\u001b[39;00m:\n\u001b[0;32m   1927\u001b[0m     \u001b[38;5;28mself\u001b[39m\u001b[38;5;241m.\u001b[39mclose()\n",
      "File \u001b[1;32mc:\\Users\\HP\\miniconda3\\Lib\\site-packages\\pandas\\io\\parsers\\c_parser_wrapper.py:234\u001b[0m, in \u001b[0;36mCParserWrapper.read\u001b[1;34m(self, nrows)\u001b[0m\n\u001b[0;32m    232\u001b[0m \u001b[38;5;28;01mtry\u001b[39;00m:\n\u001b[0;32m    233\u001b[0m     \u001b[38;5;28;01mif\u001b[39;00m \u001b[38;5;28mself\u001b[39m\u001b[38;5;241m.\u001b[39mlow_memory:\n\u001b[1;32m--> 234\u001b[0m         chunks \u001b[38;5;241m=\u001b[39m \u001b[38;5;28;43mself\u001b[39;49m\u001b[38;5;241;43m.\u001b[39;49m\u001b[43m_reader\u001b[49m\u001b[38;5;241;43m.\u001b[39;49m\u001b[43mread_low_memory\u001b[49m\u001b[43m(\u001b[49m\u001b[43mnrows\u001b[49m\u001b[43m)\u001b[49m\n\u001b[0;32m    235\u001b[0m         \u001b[38;5;66;03m# destructive to chunks\u001b[39;00m\n\u001b[0;32m    236\u001b[0m         data \u001b[38;5;241m=\u001b[39m _concatenate_chunks(chunks)\n",
      "File \u001b[1;32mparsers.pyx:838\u001b[0m, in \u001b[0;36mpandas._libs.parsers.TextReader.read_low_memory\u001b[1;34m()\u001b[0m\n",
      "File \u001b[1;32mparsers.pyx:905\u001b[0m, in \u001b[0;36mpandas._libs.parsers.TextReader._read_rows\u001b[1;34m()\u001b[0m\n",
      "File \u001b[1;32mparsers.pyx:874\u001b[0m, in \u001b[0;36mpandas._libs.parsers.TextReader._tokenize_rows\u001b[1;34m()\u001b[0m\n",
      "File \u001b[1;32mparsers.pyx:891\u001b[0m, in \u001b[0;36mpandas._libs.parsers.TextReader._check_tokenize_status\u001b[1;34m()\u001b[0m\n",
      "File \u001b[1;32mparsers.pyx:2053\u001b[0m, in \u001b[0;36mpandas._libs.parsers.raise_parser_error\u001b[1;34m()\u001b[0m\n",
      "File \u001b[1;32m<frozen codecs>:331\u001b[0m, in \u001b[0;36mgetstate\u001b[1;34m(self)\u001b[0m\n",
      "\u001b[1;31mKeyboardInterrupt\u001b[0m: "
     ]
    }
   ],
   "source": [
    "average_waiting_times, number_of_matches_list, results_p1_no, results_p1_ll, results_p1_fl = run_simulation(events_per_replication_p1,  \n",
    "                                                                                                            replicates, random_forest, \n",
    "                                                                                                            policy='p1', verbose=False)"
   ]
  },
  {
   "cell_type": "markdown",
   "metadata": {},
   "source": [
    "### recipients who receive a kidney"
   ]
  },
  {
   "cell_type": "code",
   "execution_count": null,
   "metadata": {},
   "outputs": [],
   "source": [
    "df_waiting_time, df_gender = get_summary_tables(results_p1_no, ethcat_mapping, real_ethcat_df, real_gender_df)"
   ]
  },
  {
   "cell_type": "code",
   "execution_count": null,
   "metadata": {},
   "outputs": [
    {
     "data": {
      "text/html": [
       "<div>\n",
       "<style scoped>\n",
       "    .dataframe tbody tr th:only-of-type {\n",
       "        vertical-align: middle;\n",
       "    }\n",
       "\n",
       "    .dataframe tbody tr th {\n",
       "        vertical-align: top;\n",
       "    }\n",
       "\n",
       "    .dataframe thead th {\n",
       "        text-align: right;\n",
       "    }\n",
       "</style>\n",
       "<table border=\"1\" class=\"dataframe\">\n",
       "  <thead>\n",
       "    <tr style=\"text-align: right;\">\n",
       "      <th></th>\n",
       "      <th>ethcat</th>\n",
       "      <th>wt_mean</th>\n",
       "      <th>wt_std</th>\n",
       "      <th>count_mean</th>\n",
       "      <th>count_std</th>\n",
       "      <th>st_mean</th>\n",
       "      <th>st_std</th>\n",
       "      <th>prop_simu</th>\n",
       "      <th>sample_proportion</th>\n",
       "    </tr>\n",
       "  </thead>\n",
       "  <tbody>\n",
       "    <tr>\n",
       "      <th>0</th>\n",
       "      <td>Amer Ind/Alaska Native, Non-Hispanic</td>\n",
       "      <td>343.633</td>\n",
       "      <td>NaN</td>\n",
       "      <td>12.0</td>\n",
       "      <td>NaN</td>\n",
       "      <td>2755.030</td>\n",
       "      <td>NaN</td>\n",
       "      <td>0.010</td>\n",
       "      <td>0.014</td>\n",
       "    </tr>\n",
       "    <tr>\n",
       "      <th>1</th>\n",
       "      <td>Asian, Non-Hispanic</td>\n",
       "      <td>642.339</td>\n",
       "      <td>NaN</td>\n",
       "      <td>57.0</td>\n",
       "      <td>NaN</td>\n",
       "      <td>2881.835</td>\n",
       "      <td>NaN</td>\n",
       "      <td>0.048</td>\n",
       "      <td>0.053</td>\n",
       "    </tr>\n",
       "    <tr>\n",
       "      <th>2</th>\n",
       "      <td>Black, Non-Hispanic</td>\n",
       "      <td>683.771</td>\n",
       "      <td>NaN</td>\n",
       "      <td>386.0</td>\n",
       "      <td>NaN</td>\n",
       "      <td>2885.959</td>\n",
       "      <td>NaN</td>\n",
       "      <td>0.323</td>\n",
       "      <td>0.325</td>\n",
       "    </tr>\n",
       "    <tr>\n",
       "      <th>3</th>\n",
       "      <td>Hispanic/Latino</td>\n",
       "      <td>610.488</td>\n",
       "      <td>NaN</td>\n",
       "      <td>191.0</td>\n",
       "      <td>NaN</td>\n",
       "      <td>2917.192</td>\n",
       "      <td>NaN</td>\n",
       "      <td>0.160</td>\n",
       "      <td>0.160</td>\n",
       "    </tr>\n",
       "    <tr>\n",
       "      <th>4</th>\n",
       "      <td>Multiracial, Non-Hispanic</td>\n",
       "      <td>990.214</td>\n",
       "      <td>NaN</td>\n",
       "      <td>4.0</td>\n",
       "      <td>NaN</td>\n",
       "      <td>2842.242</td>\n",
       "      <td>NaN</td>\n",
       "      <td>0.003</td>\n",
       "      <td>0.005</td>\n",
       "    </tr>\n",
       "    <tr>\n",
       "      <th>5</th>\n",
       "      <td>Native Hawaiian/Other Pacific Islander, Non-Hi...</td>\n",
       "      <td>1713.040</td>\n",
       "      <td>NaN</td>\n",
       "      <td>5.0</td>\n",
       "      <td>NaN</td>\n",
       "      <td>2912.062</td>\n",
       "      <td>NaN</td>\n",
       "      <td>0.004</td>\n",
       "      <td>0.004</td>\n",
       "    </tr>\n",
       "    <tr>\n",
       "      <th>6</th>\n",
       "      <td>White, Non-Hispanic</td>\n",
       "      <td>682.768</td>\n",
       "      <td>NaN</td>\n",
       "      <td>539.0</td>\n",
       "      <td>NaN</td>\n",
       "      <td>2902.117</td>\n",
       "      <td>NaN</td>\n",
       "      <td>0.451</td>\n",
       "      <td>0.439</td>\n",
       "    </tr>\n",
       "  </tbody>\n",
       "</table>\n",
       "</div>"
      ],
      "text/plain": [
       "                                              ethcat   wt_mean  wt_std  \\\n",
       "0               Amer Ind/Alaska Native, Non-Hispanic   343.633     NaN   \n",
       "1                                Asian, Non-Hispanic   642.339     NaN   \n",
       "2                                Black, Non-Hispanic   683.771     NaN   \n",
       "3                                    Hispanic/Latino   610.488     NaN   \n",
       "4                          Multiracial, Non-Hispanic   990.214     NaN   \n",
       "5  Native Hawaiian/Other Pacific Islander, Non-Hi...  1713.040     NaN   \n",
       "6                                White, Non-Hispanic   682.768     NaN   \n",
       "\n",
       "   count_mean  count_std   st_mean  st_std  prop_simu  sample_proportion  \n",
       "0        12.0        NaN  2755.030     NaN      0.010              0.014  \n",
       "1        57.0        NaN  2881.835     NaN      0.048              0.053  \n",
       "2       386.0        NaN  2885.959     NaN      0.323              0.325  \n",
       "3       191.0        NaN  2917.192     NaN      0.160              0.160  \n",
       "4         4.0        NaN  2842.242     NaN      0.003              0.005  \n",
       "5         5.0        NaN  2912.062     NaN      0.004              0.004  \n",
       "6       539.0        NaN  2902.117     NaN      0.451              0.439  "
      ]
     },
     "execution_count": 76,
     "metadata": {},
     "output_type": "execute_result"
    }
   ],
   "source": [
    "df_waiting_time"
   ]
  },
  {
   "cell_type": "code",
   "execution_count": null,
   "metadata": {},
   "outputs": [
    {
     "data": {
      "text/html": [
       "<div>\n",
       "<style scoped>\n",
       "    .dataframe tbody tr th:only-of-type {\n",
       "        vertical-align: middle;\n",
       "    }\n",
       "\n",
       "    .dataframe tbody tr th {\n",
       "        vertical-align: top;\n",
       "    }\n",
       "\n",
       "    .dataframe thead th {\n",
       "        text-align: right;\n",
       "    }\n",
       "</style>\n",
       "<table border=\"1\" class=\"dataframe\">\n",
       "  <thead>\n",
       "    <tr style=\"text-align: right;\">\n",
       "      <th></th>\n",
       "      <th>gender</th>\n",
       "      <th>wt_mean</th>\n",
       "      <th>wt_std</th>\n",
       "      <th>count_mean</th>\n",
       "      <th>count_std</th>\n",
       "      <th>st_mean</th>\n",
       "      <th>st_std</th>\n",
       "      <th>prop_sim</th>\n",
       "      <th>sample_proportion</th>\n",
       "    </tr>\n",
       "  </thead>\n",
       "  <tbody>\n",
       "    <tr>\n",
       "      <th>0</th>\n",
       "      <td>F</td>\n",
       "      <td>685.113964</td>\n",
       "      <td>NaN</td>\n",
       "      <td>448.0</td>\n",
       "      <td>NaN</td>\n",
       "      <td>2898.593320</td>\n",
       "      <td>NaN</td>\n",
       "      <td>0.375209</td>\n",
       "      <td>0.35173</td>\n",
       "    </tr>\n",
       "    <tr>\n",
       "      <th>1</th>\n",
       "      <td>M</td>\n",
       "      <td>663.381241</td>\n",
       "      <td>NaN</td>\n",
       "      <td>746.0</td>\n",
       "      <td>NaN</td>\n",
       "      <td>2895.562019</td>\n",
       "      <td>NaN</td>\n",
       "      <td>0.624791</td>\n",
       "      <td>0.64827</td>\n",
       "    </tr>\n",
       "  </tbody>\n",
       "</table>\n",
       "</div>"
      ],
      "text/plain": [
       "  gender     wt_mean  wt_std  count_mean  count_std      st_mean  st_std  \\\n",
       "0      F  685.113964     NaN       448.0        NaN  2898.593320     NaN   \n",
       "1      M  663.381241     NaN       746.0        NaN  2895.562019     NaN   \n",
       "\n",
       "   prop_sim  sample_proportion  \n",
       "0  0.375209            0.35173  \n",
       "1  0.624791            0.64827  "
      ]
     },
     "execution_count": 77,
     "metadata": {},
     "output_type": "execute_result"
    }
   ],
   "source": [
    "df_gender"
   ]
  },
  {
   "cell_type": "markdown",
   "metadata": {},
   "source": [
    "### patients who leave the waitlist"
   ]
  },
  {
   "cell_type": "code",
   "execution_count": null,
   "metadata": {},
   "outputs": [],
   "source": [
    "df_waiting_time, df_gender = get_summary_tables(results_p1_ll, ethcat_mapping, real_ethcat_df, real_gender_df)"
   ]
  },
  {
   "cell_type": "code",
   "execution_count": null,
   "metadata": {},
   "outputs": [
    {
     "data": {
      "text/html": [
       "<div>\n",
       "<style scoped>\n",
       "    .dataframe tbody tr th:only-of-type {\n",
       "        vertical-align: middle;\n",
       "    }\n",
       "\n",
       "    .dataframe tbody tr th {\n",
       "        vertical-align: top;\n",
       "    }\n",
       "\n",
       "    .dataframe thead th {\n",
       "        text-align: right;\n",
       "    }\n",
       "</style>\n",
       "<table border=\"1\" class=\"dataframe\">\n",
       "  <thead>\n",
       "    <tr style=\"text-align: right;\">\n",
       "      <th></th>\n",
       "      <th>ethcat</th>\n",
       "      <th>wt_mean</th>\n",
       "      <th>wt_std</th>\n",
       "      <th>count_mean</th>\n",
       "      <th>count_std</th>\n",
       "      <th>st_mean</th>\n",
       "      <th>st_std</th>\n",
       "      <th>prop_simu</th>\n",
       "      <th>sample_proportion</th>\n",
       "    </tr>\n",
       "  </thead>\n",
       "  <tbody>\n",
       "    <tr>\n",
       "      <th>0</th>\n",
       "      <td>Amer Ind/Alaska Native, Non-Hispanic</td>\n",
       "      <td>1455.095</td>\n",
       "      <td>NaN</td>\n",
       "      <td>7.0</td>\n",
       "      <td>NaN</td>\n",
       "      <td>0.0</td>\n",
       "      <td>NaN</td>\n",
       "      <td>0.018</td>\n",
       "      <td>0.014</td>\n",
       "    </tr>\n",
       "    <tr>\n",
       "      <th>1</th>\n",
       "      <td>Asian, Non-Hispanic</td>\n",
       "      <td>1242.031</td>\n",
       "      <td>NaN</td>\n",
       "      <td>23.0</td>\n",
       "      <td>NaN</td>\n",
       "      <td>0.0</td>\n",
       "      <td>NaN</td>\n",
       "      <td>0.059</td>\n",
       "      <td>0.053</td>\n",
       "    </tr>\n",
       "    <tr>\n",
       "      <th>2</th>\n",
       "      <td>Black, Non-Hispanic</td>\n",
       "      <td>1532.915</td>\n",
       "      <td>NaN</td>\n",
       "      <td>133.0</td>\n",
       "      <td>NaN</td>\n",
       "      <td>0.0</td>\n",
       "      <td>NaN</td>\n",
       "      <td>0.339</td>\n",
       "      <td>0.325</td>\n",
       "    </tr>\n",
       "    <tr>\n",
       "      <th>3</th>\n",
       "      <td>Hispanic/Latino</td>\n",
       "      <td>1420.884</td>\n",
       "      <td>NaN</td>\n",
       "      <td>87.0</td>\n",
       "      <td>NaN</td>\n",
       "      <td>0.0</td>\n",
       "      <td>NaN</td>\n",
       "      <td>0.222</td>\n",
       "      <td>0.160</td>\n",
       "    </tr>\n",
       "    <tr>\n",
       "      <th>4</th>\n",
       "      <td>Multiracial, Non-Hispanic</td>\n",
       "      <td>3399.425</td>\n",
       "      <td>NaN</td>\n",
       "      <td>1.0</td>\n",
       "      <td>NaN</td>\n",
       "      <td>0.0</td>\n",
       "      <td>NaN</td>\n",
       "      <td>0.003</td>\n",
       "      <td>0.005</td>\n",
       "    </tr>\n",
       "    <tr>\n",
       "      <th>5</th>\n",
       "      <td>Native Hawaiian/Other Pacific Islander, Non-Hi...</td>\n",
       "      <td>301.240</td>\n",
       "      <td>NaN</td>\n",
       "      <td>1.0</td>\n",
       "      <td>NaN</td>\n",
       "      <td>0.0</td>\n",
       "      <td>NaN</td>\n",
       "      <td>0.003</td>\n",
       "      <td>0.004</td>\n",
       "    </tr>\n",
       "    <tr>\n",
       "      <th>6</th>\n",
       "      <td>White, Non-Hispanic</td>\n",
       "      <td>1320.235</td>\n",
       "      <td>NaN</td>\n",
       "      <td>140.0</td>\n",
       "      <td>NaN</td>\n",
       "      <td>0.0</td>\n",
       "      <td>NaN</td>\n",
       "      <td>0.357</td>\n",
       "      <td>0.439</td>\n",
       "    </tr>\n",
       "  </tbody>\n",
       "</table>\n",
       "</div>"
      ],
      "text/plain": [
       "                                              ethcat   wt_mean  wt_std  \\\n",
       "0               Amer Ind/Alaska Native, Non-Hispanic  1455.095     NaN   \n",
       "1                                Asian, Non-Hispanic  1242.031     NaN   \n",
       "2                                Black, Non-Hispanic  1532.915     NaN   \n",
       "3                                    Hispanic/Latino  1420.884     NaN   \n",
       "4                          Multiracial, Non-Hispanic  3399.425     NaN   \n",
       "5  Native Hawaiian/Other Pacific Islander, Non-Hi...   301.240     NaN   \n",
       "6                                White, Non-Hispanic  1320.235     NaN   \n",
       "\n",
       "   count_mean  count_std  st_mean  st_std  prop_simu  sample_proportion  \n",
       "0         7.0        NaN      0.0     NaN      0.018              0.014  \n",
       "1        23.0        NaN      0.0     NaN      0.059              0.053  \n",
       "2       133.0        NaN      0.0     NaN      0.339              0.325  \n",
       "3        87.0        NaN      0.0     NaN      0.222              0.160  \n",
       "4         1.0        NaN      0.0     NaN      0.003              0.005  \n",
       "5         1.0        NaN      0.0     NaN      0.003              0.004  \n",
       "6       140.0        NaN      0.0     NaN      0.357              0.439  "
      ]
     },
     "execution_count": 79,
     "metadata": {},
     "output_type": "execute_result"
    }
   ],
   "source": [
    "df_waiting_time"
   ]
  },
  {
   "cell_type": "code",
   "execution_count": null,
   "metadata": {},
   "outputs": [
    {
     "data": {
      "text/html": [
       "<div>\n",
       "<style scoped>\n",
       "    .dataframe tbody tr th:only-of-type {\n",
       "        vertical-align: middle;\n",
       "    }\n",
       "\n",
       "    .dataframe tbody tr th {\n",
       "        vertical-align: top;\n",
       "    }\n",
       "\n",
       "    .dataframe thead th {\n",
       "        text-align: right;\n",
       "    }\n",
       "</style>\n",
       "<table border=\"1\" class=\"dataframe\">\n",
       "  <thead>\n",
       "    <tr style=\"text-align: right;\">\n",
       "      <th></th>\n",
       "      <th>gender</th>\n",
       "      <th>wt_mean</th>\n",
       "      <th>wt_std</th>\n",
       "      <th>count_mean</th>\n",
       "      <th>count_std</th>\n",
       "      <th>st_mean</th>\n",
       "      <th>st_std</th>\n",
       "      <th>prop_sim</th>\n",
       "      <th>sample_proportion</th>\n",
       "    </tr>\n",
       "  </thead>\n",
       "  <tbody>\n",
       "    <tr>\n",
       "      <th>0</th>\n",
       "      <td>F</td>\n",
       "      <td>1416.767493</td>\n",
       "      <td>NaN</td>\n",
       "      <td>136.0</td>\n",
       "      <td>NaN</td>\n",
       "      <td>0.0</td>\n",
       "      <td>NaN</td>\n",
       "      <td>0.346939</td>\n",
       "      <td>0.35173</td>\n",
       "    </tr>\n",
       "    <tr>\n",
       "      <th>1</th>\n",
       "      <td>M</td>\n",
       "      <td>1414.454026</td>\n",
       "      <td>NaN</td>\n",
       "      <td>256.0</td>\n",
       "      <td>NaN</td>\n",
       "      <td>0.0</td>\n",
       "      <td>NaN</td>\n",
       "      <td>0.653061</td>\n",
       "      <td>0.64827</td>\n",
       "    </tr>\n",
       "  </tbody>\n",
       "</table>\n",
       "</div>"
      ],
      "text/plain": [
       "  gender      wt_mean  wt_std  count_mean  count_std  st_mean  st_std  \\\n",
       "0      F  1416.767493     NaN       136.0        NaN      0.0     NaN   \n",
       "1      M  1414.454026     NaN       256.0        NaN      0.0     NaN   \n",
       "\n",
       "   prop_sim  sample_proportion  \n",
       "0  0.346939            0.35173  \n",
       "1  0.653061            0.64827  "
      ]
     },
     "execution_count": 80,
     "metadata": {},
     "output_type": "execute_result"
    }
   ],
   "source": [
    "df_gender"
   ]
  },
  {
   "cell_type": "markdown",
   "metadata": {},
   "source": [
    "### patients who stay in final list"
   ]
  },
  {
   "cell_type": "code",
   "execution_count": null,
   "metadata": {},
   "outputs": [],
   "source": [
    "df_waiting_time, df_gender = get_summary_tables(results_p1_fl, ethcat_mapping, real_ethcat_df, real_gender_df)"
   ]
  },
  {
   "cell_type": "code",
   "execution_count": null,
   "metadata": {},
   "outputs": [
    {
     "data": {
      "text/html": [
       "<div>\n",
       "<style scoped>\n",
       "    .dataframe tbody tr th:only-of-type {\n",
       "        vertical-align: middle;\n",
       "    }\n",
       "\n",
       "    .dataframe tbody tr th {\n",
       "        vertical-align: top;\n",
       "    }\n",
       "\n",
       "    .dataframe thead th {\n",
       "        text-align: right;\n",
       "    }\n",
       "</style>\n",
       "<table border=\"1\" class=\"dataframe\">\n",
       "  <thead>\n",
       "    <tr style=\"text-align: right;\">\n",
       "      <th></th>\n",
       "      <th>ethcat</th>\n",
       "      <th>wt_mean</th>\n",
       "      <th>wt_std</th>\n",
       "      <th>count_mean</th>\n",
       "      <th>count_std</th>\n",
       "      <th>st_mean</th>\n",
       "      <th>st_std</th>\n",
       "      <th>prop_simu</th>\n",
       "      <th>sample_proportion</th>\n",
       "    </tr>\n",
       "  </thead>\n",
       "  <tbody>\n",
       "    <tr>\n",
       "      <th>0</th>\n",
       "      <td>Amer Ind/Alaska Native, Non-Hispanic</td>\n",
       "      <td>375.696</td>\n",
       "      <td>NaN</td>\n",
       "      <td>2.0</td>\n",
       "      <td>NaN</td>\n",
       "      <td>0.0</td>\n",
       "      <td>NaN</td>\n",
       "      <td>0.010</td>\n",
       "      <td>0.014</td>\n",
       "    </tr>\n",
       "    <tr>\n",
       "      <th>1</th>\n",
       "      <td>Asian, Non-Hispanic</td>\n",
       "      <td>2254.631</td>\n",
       "      <td>NaN</td>\n",
       "      <td>9.0</td>\n",
       "      <td>NaN</td>\n",
       "      <td>0.0</td>\n",
       "      <td>NaN</td>\n",
       "      <td>0.045</td>\n",
       "      <td>0.053</td>\n",
       "    </tr>\n",
       "    <tr>\n",
       "      <th>2</th>\n",
       "      <td>Black, Non-Hispanic</td>\n",
       "      <td>1727.915</td>\n",
       "      <td>NaN</td>\n",
       "      <td>68.0</td>\n",
       "      <td>NaN</td>\n",
       "      <td>0.0</td>\n",
       "      <td>NaN</td>\n",
       "      <td>0.343</td>\n",
       "      <td>0.325</td>\n",
       "    </tr>\n",
       "    <tr>\n",
       "      <th>3</th>\n",
       "      <td>Hispanic/Latino</td>\n",
       "      <td>1514.356</td>\n",
       "      <td>NaN</td>\n",
       "      <td>46.0</td>\n",
       "      <td>NaN</td>\n",
       "      <td>0.0</td>\n",
       "      <td>NaN</td>\n",
       "      <td>0.232</td>\n",
       "      <td>0.160</td>\n",
       "    </tr>\n",
       "    <tr>\n",
       "      <th>4</th>\n",
       "      <td>Multiracial, Non-Hispanic</td>\n",
       "      <td>963.104</td>\n",
       "      <td>NaN</td>\n",
       "      <td>4.0</td>\n",
       "      <td>NaN</td>\n",
       "      <td>0.0</td>\n",
       "      <td>NaN</td>\n",
       "      <td>0.020</td>\n",
       "      <td>0.005</td>\n",
       "    </tr>\n",
       "    <tr>\n",
       "      <th>5</th>\n",
       "      <td>Native Hawaiian/Other Pacific Islander, Non-Hi...</td>\n",
       "      <td>897.885</td>\n",
       "      <td>NaN</td>\n",
       "      <td>1.0</td>\n",
       "      <td>NaN</td>\n",
       "      <td>0.0</td>\n",
       "      <td>NaN</td>\n",
       "      <td>0.005</td>\n",
       "      <td>0.004</td>\n",
       "    </tr>\n",
       "    <tr>\n",
       "      <th>6</th>\n",
       "      <td>White, Non-Hispanic</td>\n",
       "      <td>1412.202</td>\n",
       "      <td>NaN</td>\n",
       "      <td>68.0</td>\n",
       "      <td>NaN</td>\n",
       "      <td>0.0</td>\n",
       "      <td>NaN</td>\n",
       "      <td>0.343</td>\n",
       "      <td>0.439</td>\n",
       "    </tr>\n",
       "  </tbody>\n",
       "</table>\n",
       "</div>"
      ],
      "text/plain": [
       "                                              ethcat   wt_mean  wt_std  \\\n",
       "0               Amer Ind/Alaska Native, Non-Hispanic   375.696     NaN   \n",
       "1                                Asian, Non-Hispanic  2254.631     NaN   \n",
       "2                                Black, Non-Hispanic  1727.915     NaN   \n",
       "3                                    Hispanic/Latino  1514.356     NaN   \n",
       "4                          Multiracial, Non-Hispanic   963.104     NaN   \n",
       "5  Native Hawaiian/Other Pacific Islander, Non-Hi...   897.885     NaN   \n",
       "6                                White, Non-Hispanic  1412.202     NaN   \n",
       "\n",
       "   count_mean  count_std  st_mean  st_std  prop_simu  sample_proportion  \n",
       "0         2.0        NaN      0.0     NaN      0.010              0.014  \n",
       "1         9.0        NaN      0.0     NaN      0.045              0.053  \n",
       "2        68.0        NaN      0.0     NaN      0.343              0.325  \n",
       "3        46.0        NaN      0.0     NaN      0.232              0.160  \n",
       "4         4.0        NaN      0.0     NaN      0.020              0.005  \n",
       "5         1.0        NaN      0.0     NaN      0.005              0.004  \n",
       "6        68.0        NaN      0.0     NaN      0.343              0.439  "
      ]
     },
     "execution_count": 82,
     "metadata": {},
     "output_type": "execute_result"
    }
   ],
   "source": [
    "df_waiting_time"
   ]
  },
  {
   "cell_type": "code",
   "execution_count": null,
   "metadata": {},
   "outputs": [
    {
     "data": {
      "text/html": [
       "<div>\n",
       "<style scoped>\n",
       "    .dataframe tbody tr th:only-of-type {\n",
       "        vertical-align: middle;\n",
       "    }\n",
       "\n",
       "    .dataframe tbody tr th {\n",
       "        vertical-align: top;\n",
       "    }\n",
       "\n",
       "    .dataframe thead th {\n",
       "        text-align: right;\n",
       "    }\n",
       "</style>\n",
       "<table border=\"1\" class=\"dataframe\">\n",
       "  <thead>\n",
       "    <tr style=\"text-align: right;\">\n",
       "      <th></th>\n",
       "      <th>gender</th>\n",
       "      <th>wt_mean</th>\n",
       "      <th>wt_std</th>\n",
       "      <th>count_mean</th>\n",
       "      <th>count_std</th>\n",
       "      <th>st_mean</th>\n",
       "      <th>st_std</th>\n",
       "      <th>prop_sim</th>\n",
       "      <th>sample_proportion</th>\n",
       "    </tr>\n",
       "  </thead>\n",
       "  <tbody>\n",
       "    <tr>\n",
       "      <th>0</th>\n",
       "      <td>F</td>\n",
       "      <td>1757.008566</td>\n",
       "      <td>NaN</td>\n",
       "      <td>63.0</td>\n",
       "      <td>NaN</td>\n",
       "      <td>0.0</td>\n",
       "      <td>NaN</td>\n",
       "      <td>0.318182</td>\n",
       "      <td>0.35173</td>\n",
       "    </tr>\n",
       "    <tr>\n",
       "      <th>1</th>\n",
       "      <td>M</td>\n",
       "      <td>1468.816202</td>\n",
       "      <td>NaN</td>\n",
       "      <td>135.0</td>\n",
       "      <td>NaN</td>\n",
       "      <td>0.0</td>\n",
       "      <td>NaN</td>\n",
       "      <td>0.681818</td>\n",
       "      <td>0.64827</td>\n",
       "    </tr>\n",
       "  </tbody>\n",
       "</table>\n",
       "</div>"
      ],
      "text/plain": [
       "  gender      wt_mean  wt_std  count_mean  count_std  st_mean  st_std  \\\n",
       "0      F  1757.008566     NaN        63.0        NaN      0.0     NaN   \n",
       "1      M  1468.816202     NaN       135.0        NaN      0.0     NaN   \n",
       "\n",
       "   prop_sim  sample_proportion  \n",
       "0  0.318182            0.35173  \n",
       "1  0.681818            0.64827  "
      ]
     },
     "execution_count": 83,
     "metadata": {},
     "output_type": "execute_result"
    }
   ],
   "source": [
    "df_gender"
   ]
  },
  {
   "cell_type": "markdown",
   "metadata": {},
   "source": [
    "## Policy 2"
   ]
  },
  {
   "cell_type": "code",
   "execution_count": null,
   "metadata": {},
   "outputs": [
    {
     "name": "stdout",
     "output_type": "stream",
     "text": [
      "Replicate # 0\n"
     ]
    },
    {
     "name": "stderr",
     "output_type": "stream",
     "text": [
      "Progress replication 0: 100%|█████████▉| 10950.697406058636/10957.5 [00:59<00:00, 128.09time unit/s]c:\\Users\\HP\\miniconda3\\Lib\\site-packages\\tqdm\\std.py:524: TqdmWarning: clamping frac to range [0, 1]\n",
      "  full_bar = Bar(frac,\n",
      "Progress replication 0: 100%|██████████| 10957.930089747902/10957.5 [00:59<00:00, 183.38time unit/s]\n"
     ]
    }
   ],
   "source": [
    "average_waiting_times, number_of_matches_list, results_p2_no, results_p2_ll, results_p2_fl = run_simulation(events_per_replication_p2,  replicates, random_forest, policy='p2', verbose=False)"
   ]
  },
  {
   "cell_type": "markdown",
   "metadata": {},
   "source": [
    "### recipients who receive a kidney"
   ]
  },
  {
   "cell_type": "code",
   "execution_count": null,
   "metadata": {},
   "outputs": [],
   "source": [
    "df_waiting_time, df_gender = get_summary_tables(results_p2_no, ethcat_mapping, real_ethcat_df, real_gender_df)"
   ]
  },
  {
   "cell_type": "code",
   "execution_count": null,
   "metadata": {},
   "outputs": [
    {
     "data": {
      "text/html": [
       "<div>\n",
       "<style scoped>\n",
       "    .dataframe tbody tr th:only-of-type {\n",
       "        vertical-align: middle;\n",
       "    }\n",
       "\n",
       "    .dataframe tbody tr th {\n",
       "        vertical-align: top;\n",
       "    }\n",
       "\n",
       "    .dataframe thead th {\n",
       "        text-align: right;\n",
       "    }\n",
       "</style>\n",
       "<table border=\"1\" class=\"dataframe\">\n",
       "  <thead>\n",
       "    <tr style=\"text-align: right;\">\n",
       "      <th></th>\n",
       "      <th>ethcat</th>\n",
       "      <th>wt_mean</th>\n",
       "      <th>wt_std</th>\n",
       "      <th>count_mean</th>\n",
       "      <th>count_std</th>\n",
       "      <th>st_mean</th>\n",
       "      <th>st_std</th>\n",
       "      <th>prop_simu</th>\n",
       "      <th>sample_proportion</th>\n",
       "    </tr>\n",
       "  </thead>\n",
       "  <tbody>\n",
       "    <tr>\n",
       "      <th>0</th>\n",
       "      <td>Amer Ind/Alaska Native, Non-Hispanic</td>\n",
       "      <td>840.475</td>\n",
       "      <td>NaN</td>\n",
       "      <td>13.0</td>\n",
       "      <td>NaN</td>\n",
       "      <td>2844.446</td>\n",
       "      <td>NaN</td>\n",
       "      <td>0.011</td>\n",
       "      <td>0.014</td>\n",
       "    </tr>\n",
       "    <tr>\n",
       "      <th>1</th>\n",
       "      <td>Asian, Non-Hispanic</td>\n",
       "      <td>938.248</td>\n",
       "      <td>NaN</td>\n",
       "      <td>51.0</td>\n",
       "      <td>NaN</td>\n",
       "      <td>2872.710</td>\n",
       "      <td>NaN</td>\n",
       "      <td>0.044</td>\n",
       "      <td>0.053</td>\n",
       "    </tr>\n",
       "    <tr>\n",
       "      <th>2</th>\n",
       "      <td>Black, Non-Hispanic</td>\n",
       "      <td>990.609</td>\n",
       "      <td>NaN</td>\n",
       "      <td>380.0</td>\n",
       "      <td>NaN</td>\n",
       "      <td>2883.395</td>\n",
       "      <td>NaN</td>\n",
       "      <td>0.325</td>\n",
       "      <td>0.325</td>\n",
       "    </tr>\n",
       "    <tr>\n",
       "      <th>3</th>\n",
       "      <td>Hispanic/Latino</td>\n",
       "      <td>932.886</td>\n",
       "      <td>NaN</td>\n",
       "      <td>206.0</td>\n",
       "      <td>NaN</td>\n",
       "      <td>2886.561</td>\n",
       "      <td>NaN</td>\n",
       "      <td>0.176</td>\n",
       "      <td>0.160</td>\n",
       "    </tr>\n",
       "    <tr>\n",
       "      <th>4</th>\n",
       "      <td>Multiracial, Non-Hispanic</td>\n",
       "      <td>965.060</td>\n",
       "      <td>NaN</td>\n",
       "      <td>6.0</td>\n",
       "      <td>NaN</td>\n",
       "      <td>2890.854</td>\n",
       "      <td>NaN</td>\n",
       "      <td>0.005</td>\n",
       "      <td>0.005</td>\n",
       "    </tr>\n",
       "    <tr>\n",
       "      <th>5</th>\n",
       "      <td>Native Hawaiian/Other Pacific Islander, Non-Hi...</td>\n",
       "      <td>832.604</td>\n",
       "      <td>NaN</td>\n",
       "      <td>4.0</td>\n",
       "      <td>NaN</td>\n",
       "      <td>2845.280</td>\n",
       "      <td>NaN</td>\n",
       "      <td>0.003</td>\n",
       "      <td>0.004</td>\n",
       "    </tr>\n",
       "    <tr>\n",
       "      <th>6</th>\n",
       "      <td>White, Non-Hispanic</td>\n",
       "      <td>1009.434</td>\n",
       "      <td>NaN</td>\n",
       "      <td>509.0</td>\n",
       "      <td>NaN</td>\n",
       "      <td>2894.276</td>\n",
       "      <td>NaN</td>\n",
       "      <td>0.435</td>\n",
       "      <td>0.439</td>\n",
       "    </tr>\n",
       "  </tbody>\n",
       "</table>\n",
       "</div>"
      ],
      "text/plain": [
       "                                              ethcat   wt_mean  wt_std  \\\n",
       "0               Amer Ind/Alaska Native, Non-Hispanic   840.475     NaN   \n",
       "1                                Asian, Non-Hispanic   938.248     NaN   \n",
       "2                                Black, Non-Hispanic   990.609     NaN   \n",
       "3                                    Hispanic/Latino   932.886     NaN   \n",
       "4                          Multiracial, Non-Hispanic   965.060     NaN   \n",
       "5  Native Hawaiian/Other Pacific Islander, Non-Hi...   832.604     NaN   \n",
       "6                                White, Non-Hispanic  1009.434     NaN   \n",
       "\n",
       "   count_mean  count_std   st_mean  st_std  prop_simu  sample_proportion  \n",
       "0        13.0        NaN  2844.446     NaN      0.011              0.014  \n",
       "1        51.0        NaN  2872.710     NaN      0.044              0.053  \n",
       "2       380.0        NaN  2883.395     NaN      0.325              0.325  \n",
       "3       206.0        NaN  2886.561     NaN      0.176              0.160  \n",
       "4         6.0        NaN  2890.854     NaN      0.005              0.005  \n",
       "5         4.0        NaN  2845.280     NaN      0.003              0.004  \n",
       "6       509.0        NaN  2894.276     NaN      0.435              0.439  "
      ]
     },
     "execution_count": 86,
     "metadata": {},
     "output_type": "execute_result"
    }
   ],
   "source": [
    "df_waiting_time"
   ]
  },
  {
   "cell_type": "code",
   "execution_count": null,
   "metadata": {},
   "outputs": [
    {
     "data": {
      "text/html": [
       "<div>\n",
       "<style scoped>\n",
       "    .dataframe tbody tr th:only-of-type {\n",
       "        vertical-align: middle;\n",
       "    }\n",
       "\n",
       "    .dataframe tbody tr th {\n",
       "        vertical-align: top;\n",
       "    }\n",
       "\n",
       "    .dataframe thead th {\n",
       "        text-align: right;\n",
       "    }\n",
       "</style>\n",
       "<table border=\"1\" class=\"dataframe\">\n",
       "  <thead>\n",
       "    <tr style=\"text-align: right;\">\n",
       "      <th></th>\n",
       "      <th>gender</th>\n",
       "      <th>wt_mean</th>\n",
       "      <th>wt_std</th>\n",
       "      <th>count_mean</th>\n",
       "      <th>count_std</th>\n",
       "      <th>st_mean</th>\n",
       "      <th>st_std</th>\n",
       "      <th>prop_sim</th>\n",
       "      <th>sample_proportion</th>\n",
       "    </tr>\n",
       "  </thead>\n",
       "  <tbody>\n",
       "    <tr>\n",
       "      <th>0</th>\n",
       "      <td>F</td>\n",
       "      <td>1003.795369</td>\n",
       "      <td>NaN</td>\n",
       "      <td>441.0</td>\n",
       "      <td>NaN</td>\n",
       "      <td>2878.232836</td>\n",
       "      <td>NaN</td>\n",
       "      <td>0.377246</td>\n",
       "      <td>0.35173</td>\n",
       "    </tr>\n",
       "    <tr>\n",
       "      <th>1</th>\n",
       "      <td>M</td>\n",
       "      <td>972.021617</td>\n",
       "      <td>NaN</td>\n",
       "      <td>728.0</td>\n",
       "      <td>NaN</td>\n",
       "      <td>2893.433289</td>\n",
       "      <td>NaN</td>\n",
       "      <td>0.622754</td>\n",
       "      <td>0.64827</td>\n",
       "    </tr>\n",
       "  </tbody>\n",
       "</table>\n",
       "</div>"
      ],
      "text/plain": [
       "  gender      wt_mean  wt_std  count_mean  count_std      st_mean  st_std  \\\n",
       "0      F  1003.795369     NaN       441.0        NaN  2878.232836     NaN   \n",
       "1      M   972.021617     NaN       728.0        NaN  2893.433289     NaN   \n",
       "\n",
       "   prop_sim  sample_proportion  \n",
       "0  0.377246            0.35173  \n",
       "1  0.622754            0.64827  "
      ]
     },
     "execution_count": 87,
     "metadata": {},
     "output_type": "execute_result"
    }
   ],
   "source": [
    "df_gender"
   ]
  },
  {
   "cell_type": "markdown",
   "metadata": {},
   "source": [
    "### patients who leave the waitlist"
   ]
  },
  {
   "cell_type": "code",
   "execution_count": null,
   "metadata": {},
   "outputs": [],
   "source": [
    "df_waiting_time, df_gender = get_summary_tables(results_p2_ll, ethcat_mapping, real_ethcat_df, real_gender_df)"
   ]
  },
  {
   "cell_type": "code",
   "execution_count": null,
   "metadata": {},
   "outputs": [
    {
     "data": {
      "text/html": [
       "<div>\n",
       "<style scoped>\n",
       "    .dataframe tbody tr th:only-of-type {\n",
       "        vertical-align: middle;\n",
       "    }\n",
       "\n",
       "    .dataframe tbody tr th {\n",
       "        vertical-align: top;\n",
       "    }\n",
       "\n",
       "    .dataframe thead th {\n",
       "        text-align: right;\n",
       "    }\n",
       "</style>\n",
       "<table border=\"1\" class=\"dataframe\">\n",
       "  <thead>\n",
       "    <tr style=\"text-align: right;\">\n",
       "      <th></th>\n",
       "      <th>ethcat</th>\n",
       "      <th>wt_mean</th>\n",
       "      <th>wt_std</th>\n",
       "      <th>count_mean</th>\n",
       "      <th>count_std</th>\n",
       "      <th>st_mean</th>\n",
       "      <th>st_std</th>\n",
       "      <th>prop_simu</th>\n",
       "      <th>sample_proportion</th>\n",
       "    </tr>\n",
       "  </thead>\n",
       "  <tbody>\n",
       "    <tr>\n",
       "      <th>0</th>\n",
       "      <td>Amer Ind/Alaska Native, Non-Hispanic</td>\n",
       "      <td>468.791</td>\n",
       "      <td>NaN</td>\n",
       "      <td>4.0</td>\n",
       "      <td>NaN</td>\n",
       "      <td>0.0</td>\n",
       "      <td>NaN</td>\n",
       "      <td>0.010</td>\n",
       "      <td>0.014</td>\n",
       "    </tr>\n",
       "    <tr>\n",
       "      <th>1</th>\n",
       "      <td>Asian, Non-Hispanic</td>\n",
       "      <td>654.592</td>\n",
       "      <td>NaN</td>\n",
       "      <td>24.0</td>\n",
       "      <td>NaN</td>\n",
       "      <td>0.0</td>\n",
       "      <td>NaN</td>\n",
       "      <td>0.060</td>\n",
       "      <td>0.053</td>\n",
       "    </tr>\n",
       "    <tr>\n",
       "      <th>2</th>\n",
       "      <td>Black, Non-Hispanic</td>\n",
       "      <td>517.367</td>\n",
       "      <td>NaN</td>\n",
       "      <td>136.0</td>\n",
       "      <td>NaN</td>\n",
       "      <td>0.0</td>\n",
       "      <td>NaN</td>\n",
       "      <td>0.338</td>\n",
       "      <td>0.325</td>\n",
       "    </tr>\n",
       "    <tr>\n",
       "      <th>3</th>\n",
       "      <td>Hispanic/Latino</td>\n",
       "      <td>563.719</td>\n",
       "      <td>NaN</td>\n",
       "      <td>73.0</td>\n",
       "      <td>NaN</td>\n",
       "      <td>0.0</td>\n",
       "      <td>NaN</td>\n",
       "      <td>0.182</td>\n",
       "      <td>0.160</td>\n",
       "    </tr>\n",
       "    <tr>\n",
       "      <th>4</th>\n",
       "      <td>Native Hawaiian/Other Pacific Islander, Non-Hi...</td>\n",
       "      <td>301.240</td>\n",
       "      <td>NaN</td>\n",
       "      <td>1.0</td>\n",
       "      <td>NaN</td>\n",
       "      <td>0.0</td>\n",
       "      <td>NaN</td>\n",
       "      <td>0.002</td>\n",
       "      <td>0.004</td>\n",
       "    </tr>\n",
       "    <tr>\n",
       "      <th>5</th>\n",
       "      <td>White, Non-Hispanic</td>\n",
       "      <td>512.124</td>\n",
       "      <td>NaN</td>\n",
       "      <td>164.0</td>\n",
       "      <td>NaN</td>\n",
       "      <td>0.0</td>\n",
       "      <td>NaN</td>\n",
       "      <td>0.408</td>\n",
       "      <td>0.439</td>\n",
       "    </tr>\n",
       "  </tbody>\n",
       "</table>\n",
       "</div>"
      ],
      "text/plain": [
       "                                              ethcat  wt_mean  wt_std  \\\n",
       "0               Amer Ind/Alaska Native, Non-Hispanic  468.791     NaN   \n",
       "1                                Asian, Non-Hispanic  654.592     NaN   \n",
       "2                                Black, Non-Hispanic  517.367     NaN   \n",
       "3                                    Hispanic/Latino  563.719     NaN   \n",
       "4  Native Hawaiian/Other Pacific Islander, Non-Hi...  301.240     NaN   \n",
       "5                                White, Non-Hispanic  512.124     NaN   \n",
       "\n",
       "   count_mean  count_std  st_mean  st_std  prop_simu  sample_proportion  \n",
       "0         4.0        NaN      0.0     NaN      0.010              0.014  \n",
       "1        24.0        NaN      0.0     NaN      0.060              0.053  \n",
       "2       136.0        NaN      0.0     NaN      0.338              0.325  \n",
       "3        73.0        NaN      0.0     NaN      0.182              0.160  \n",
       "4         1.0        NaN      0.0     NaN      0.002              0.004  \n",
       "5       164.0        NaN      0.0     NaN      0.408              0.439  "
      ]
     },
     "execution_count": 89,
     "metadata": {},
     "output_type": "execute_result"
    }
   ],
   "source": [
    "df_waiting_time"
   ]
  },
  {
   "cell_type": "code",
   "execution_count": null,
   "metadata": {},
   "outputs": [
    {
     "data": {
      "text/html": [
       "<div>\n",
       "<style scoped>\n",
       "    .dataframe tbody tr th:only-of-type {\n",
       "        vertical-align: middle;\n",
       "    }\n",
       "\n",
       "    .dataframe tbody tr th {\n",
       "        vertical-align: top;\n",
       "    }\n",
       "\n",
       "    .dataframe thead th {\n",
       "        text-align: right;\n",
       "    }\n",
       "</style>\n",
       "<table border=\"1\" class=\"dataframe\">\n",
       "  <thead>\n",
       "    <tr style=\"text-align: right;\">\n",
       "      <th></th>\n",
       "      <th>gender</th>\n",
       "      <th>wt_mean</th>\n",
       "      <th>wt_std</th>\n",
       "      <th>count_mean</th>\n",
       "      <th>count_std</th>\n",
       "      <th>st_mean</th>\n",
       "      <th>st_std</th>\n",
       "      <th>prop_sim</th>\n",
       "      <th>sample_proportion</th>\n",
       "    </tr>\n",
       "  </thead>\n",
       "  <tbody>\n",
       "    <tr>\n",
       "      <th>0</th>\n",
       "      <td>F</td>\n",
       "      <td>508.855658</td>\n",
       "      <td>NaN</td>\n",
       "      <td>134.0</td>\n",
       "      <td>NaN</td>\n",
       "      <td>0.0</td>\n",
       "      <td>NaN</td>\n",
       "      <td>0.333333</td>\n",
       "      <td>0.35173</td>\n",
       "    </tr>\n",
       "    <tr>\n",
       "      <th>1</th>\n",
       "      <td>M</td>\n",
       "      <td>541.797277</td>\n",
       "      <td>NaN</td>\n",
       "      <td>268.0</td>\n",
       "      <td>NaN</td>\n",
       "      <td>0.0</td>\n",
       "      <td>NaN</td>\n",
       "      <td>0.666667</td>\n",
       "      <td>0.64827</td>\n",
       "    </tr>\n",
       "  </tbody>\n",
       "</table>\n",
       "</div>"
      ],
      "text/plain": [
       "  gender     wt_mean  wt_std  count_mean  count_std  st_mean  st_std  \\\n",
       "0      F  508.855658     NaN       134.0        NaN      0.0     NaN   \n",
       "1      M  541.797277     NaN       268.0        NaN      0.0     NaN   \n",
       "\n",
       "   prop_sim  sample_proportion  \n",
       "0  0.333333            0.35173  \n",
       "1  0.666667            0.64827  "
      ]
     },
     "execution_count": 90,
     "metadata": {},
     "output_type": "execute_result"
    }
   ],
   "source": [
    "df_gender"
   ]
  },
  {
   "cell_type": "markdown",
   "metadata": {},
   "source": [
    "### patients who stay in final list"
   ]
  },
  {
   "cell_type": "code",
   "execution_count": null,
   "metadata": {},
   "outputs": [],
   "source": [
    "df_waiting_time, df_gender = get_summary_tables(results_p2_fl, ethcat_mapping, real_ethcat_df, real_gender_df)"
   ]
  },
  {
   "cell_type": "code",
   "execution_count": null,
   "metadata": {},
   "outputs": [
    {
     "data": {
      "text/html": [
       "<div>\n",
       "<style scoped>\n",
       "    .dataframe tbody tr th:only-of-type {\n",
       "        vertical-align: middle;\n",
       "    }\n",
       "\n",
       "    .dataframe tbody tr th {\n",
       "        vertical-align: top;\n",
       "    }\n",
       "\n",
       "    .dataframe thead th {\n",
       "        text-align: right;\n",
       "    }\n",
       "</style>\n",
       "<table border=\"1\" class=\"dataframe\">\n",
       "  <thead>\n",
       "    <tr style=\"text-align: right;\">\n",
       "      <th></th>\n",
       "      <th>ethcat</th>\n",
       "      <th>wt_mean</th>\n",
       "      <th>wt_std</th>\n",
       "      <th>count_mean</th>\n",
       "      <th>count_std</th>\n",
       "      <th>st_mean</th>\n",
       "      <th>st_std</th>\n",
       "      <th>prop_simu</th>\n",
       "      <th>sample_proportion</th>\n",
       "    </tr>\n",
       "  </thead>\n",
       "  <tbody>\n",
       "    <tr>\n",
       "      <th>0</th>\n",
       "      <td>Amer Ind/Alaska Native, Non-Hispanic</td>\n",
       "      <td>469.996</td>\n",
       "      <td>NaN</td>\n",
       "      <td>3.0</td>\n",
       "      <td>NaN</td>\n",
       "      <td>0.0</td>\n",
       "      <td>NaN</td>\n",
       "      <td>0.016</td>\n",
       "      <td>0.014</td>\n",
       "    </tr>\n",
       "    <tr>\n",
       "      <th>1</th>\n",
       "      <td>Asian, Non-Hispanic</td>\n",
       "      <td>405.238</td>\n",
       "      <td>NaN</td>\n",
       "      <td>10.0</td>\n",
       "      <td>NaN</td>\n",
       "      <td>0.0</td>\n",
       "      <td>NaN</td>\n",
       "      <td>0.053</td>\n",
       "      <td>0.053</td>\n",
       "    </tr>\n",
       "    <tr>\n",
       "      <th>2</th>\n",
       "      <td>Black, Non-Hispanic</td>\n",
       "      <td>671.238</td>\n",
       "      <td>NaN</td>\n",
       "      <td>64.0</td>\n",
       "      <td>NaN</td>\n",
       "      <td>0.0</td>\n",
       "      <td>NaN</td>\n",
       "      <td>0.340</td>\n",
       "      <td>0.325</td>\n",
       "    </tr>\n",
       "    <tr>\n",
       "      <th>3</th>\n",
       "      <td>Hispanic/Latino</td>\n",
       "      <td>427.271</td>\n",
       "      <td>NaN</td>\n",
       "      <td>39.0</td>\n",
       "      <td>NaN</td>\n",
       "      <td>0.0</td>\n",
       "      <td>NaN</td>\n",
       "      <td>0.207</td>\n",
       "      <td>0.160</td>\n",
       "    </tr>\n",
       "    <tr>\n",
       "      <th>4</th>\n",
       "      <td>Multiracial, Non-Hispanic</td>\n",
       "      <td>390.758</td>\n",
       "      <td>NaN</td>\n",
       "      <td>2.0</td>\n",
       "      <td>NaN</td>\n",
       "      <td>0.0</td>\n",
       "      <td>NaN</td>\n",
       "      <td>0.011</td>\n",
       "      <td>0.005</td>\n",
       "    </tr>\n",
       "    <tr>\n",
       "      <th>5</th>\n",
       "      <td>Native Hawaiian/Other Pacific Islander, Non-Hi...</td>\n",
       "      <td>828.814</td>\n",
       "      <td>NaN</td>\n",
       "      <td>1.0</td>\n",
       "      <td>NaN</td>\n",
       "      <td>0.0</td>\n",
       "      <td>NaN</td>\n",
       "      <td>0.005</td>\n",
       "      <td>0.004</td>\n",
       "    </tr>\n",
       "    <tr>\n",
       "      <th>6</th>\n",
       "      <td>White, Non-Hispanic</td>\n",
       "      <td>536.863</td>\n",
       "      <td>NaN</td>\n",
       "      <td>69.0</td>\n",
       "      <td>NaN</td>\n",
       "      <td>0.0</td>\n",
       "      <td>NaN</td>\n",
       "      <td>0.367</td>\n",
       "      <td>0.439</td>\n",
       "    </tr>\n",
       "  </tbody>\n",
       "</table>\n",
       "</div>"
      ],
      "text/plain": [
       "                                              ethcat  wt_mean  wt_std  \\\n",
       "0               Amer Ind/Alaska Native, Non-Hispanic  469.996     NaN   \n",
       "1                                Asian, Non-Hispanic  405.238     NaN   \n",
       "2                                Black, Non-Hispanic  671.238     NaN   \n",
       "3                                    Hispanic/Latino  427.271     NaN   \n",
       "4                          Multiracial, Non-Hispanic  390.758     NaN   \n",
       "5  Native Hawaiian/Other Pacific Islander, Non-Hi...  828.814     NaN   \n",
       "6                                White, Non-Hispanic  536.863     NaN   \n",
       "\n",
       "   count_mean  count_std  st_mean  st_std  prop_simu  sample_proportion  \n",
       "0         3.0        NaN      0.0     NaN      0.016              0.014  \n",
       "1        10.0        NaN      0.0     NaN      0.053              0.053  \n",
       "2        64.0        NaN      0.0     NaN      0.340              0.325  \n",
       "3        39.0        NaN      0.0     NaN      0.207              0.160  \n",
       "4         2.0        NaN      0.0     NaN      0.011              0.005  \n",
       "5         1.0        NaN      0.0     NaN      0.005              0.004  \n",
       "6        69.0        NaN      0.0     NaN      0.367              0.439  "
      ]
     },
     "execution_count": 92,
     "metadata": {},
     "output_type": "execute_result"
    }
   ],
   "source": [
    "df_waiting_time"
   ]
  },
  {
   "cell_type": "code",
   "execution_count": null,
   "metadata": {},
   "outputs": [
    {
     "data": {
      "text/html": [
       "<div>\n",
       "<style scoped>\n",
       "    .dataframe tbody tr th:only-of-type {\n",
       "        vertical-align: middle;\n",
       "    }\n",
       "\n",
       "    .dataframe tbody tr th {\n",
       "        vertical-align: top;\n",
       "    }\n",
       "\n",
       "    .dataframe thead th {\n",
       "        text-align: right;\n",
       "    }\n",
       "</style>\n",
       "<table border=\"1\" class=\"dataframe\">\n",
       "  <thead>\n",
       "    <tr style=\"text-align: right;\">\n",
       "      <th></th>\n",
       "      <th>gender</th>\n",
       "      <th>wt_mean</th>\n",
       "      <th>wt_std</th>\n",
       "      <th>count_mean</th>\n",
       "      <th>count_std</th>\n",
       "      <th>st_mean</th>\n",
       "      <th>st_std</th>\n",
       "      <th>prop_sim</th>\n",
       "      <th>sample_proportion</th>\n",
       "    </tr>\n",
       "  </thead>\n",
       "  <tbody>\n",
       "    <tr>\n",
       "      <th>0</th>\n",
       "      <td>F</td>\n",
       "      <td>541.995719</td>\n",
       "      <td>NaN</td>\n",
       "      <td>65.0</td>\n",
       "      <td>NaN</td>\n",
       "      <td>0.0</td>\n",
       "      <td>NaN</td>\n",
       "      <td>0.345745</td>\n",
       "      <td>0.35173</td>\n",
       "    </tr>\n",
       "    <tr>\n",
       "      <th>1</th>\n",
       "      <td>M</td>\n",
       "      <td>556.986504</td>\n",
       "      <td>NaN</td>\n",
       "      <td>123.0</td>\n",
       "      <td>NaN</td>\n",
       "      <td>0.0</td>\n",
       "      <td>NaN</td>\n",
       "      <td>0.654255</td>\n",
       "      <td>0.64827</td>\n",
       "    </tr>\n",
       "  </tbody>\n",
       "</table>\n",
       "</div>"
      ],
      "text/plain": [
       "  gender     wt_mean  wt_std  count_mean  count_std  st_mean  st_std  \\\n",
       "0      F  541.995719     NaN        65.0        NaN      0.0     NaN   \n",
       "1      M  556.986504     NaN       123.0        NaN      0.0     NaN   \n",
       "\n",
       "   prop_sim  sample_proportion  \n",
       "0  0.345745            0.35173  \n",
       "1  0.654255            0.64827  "
      ]
     },
     "execution_count": 93,
     "metadata": {},
     "output_type": "execute_result"
    }
   ],
   "source": [
    "df_gender"
   ]
  },
  {
   "cell_type": "markdown",
   "metadata": {},
   "source": [
    "## Policy 3"
   ]
  },
  {
   "cell_type": "markdown",
   "metadata": {},
   "source": [
    "### recipients who receive a kidney"
   ]
  },
  {
   "cell_type": "code",
   "execution_count": null,
   "metadata": {},
   "outputs": [
    {
     "name": "stdout",
     "output_type": "stream",
     "text": [
      "Replicate # 0\n"
     ]
    },
    {
     "name": "stderr",
     "output_type": "stream",
     "text": [
      "Progress replication 0: 10961.989130414195time unit [12:05, 15.12time unit/s]                      \n"
     ]
    }
   ],
   "source": [
    "average_waiting_times, number_of_matches_list, results_p3_no, results_p3_ll, results_p3_fl = run_simulation(events_per_replication_p3,  replicates, random_forest, policy='p3', verbose=False)"
   ]
  },
  {
   "cell_type": "code",
   "execution_count": null,
   "metadata": {},
   "outputs": [],
   "source": [
    "df_waiting_time, df_gender = get_summary_tables(results_p3_no, ethcat_mapping, real_ethcat_df, real_gender_df)"
   ]
  },
  {
   "cell_type": "code",
   "execution_count": null,
   "metadata": {},
   "outputs": [
    {
     "data": {
      "text/html": [
       "<div>\n",
       "<style scoped>\n",
       "    .dataframe tbody tr th:only-of-type {\n",
       "        vertical-align: middle;\n",
       "    }\n",
       "\n",
       "    .dataframe tbody tr th {\n",
       "        vertical-align: top;\n",
       "    }\n",
       "\n",
       "    .dataframe thead th {\n",
       "        text-align: right;\n",
       "    }\n",
       "</style>\n",
       "<table border=\"1\" class=\"dataframe\">\n",
       "  <thead>\n",
       "    <tr style=\"text-align: right;\">\n",
       "      <th></th>\n",
       "      <th>ethcat</th>\n",
       "      <th>wt_mean</th>\n",
       "      <th>wt_std</th>\n",
       "      <th>count_mean</th>\n",
       "      <th>count_std</th>\n",
       "      <th>st_mean</th>\n",
       "      <th>st_std</th>\n",
       "      <th>prop_simu</th>\n",
       "      <th>sample_proportion</th>\n",
       "    </tr>\n",
       "  </thead>\n",
       "  <tbody>\n",
       "    <tr>\n",
       "      <th>0</th>\n",
       "      <td>Amer Ind/Alaska Native, Non-Hispanic</td>\n",
       "      <td>845.822</td>\n",
       "      <td>NaN</td>\n",
       "      <td>12.0</td>\n",
       "      <td>NaN</td>\n",
       "      <td>2955.612</td>\n",
       "      <td>NaN</td>\n",
       "      <td>0.010</td>\n",
       "      <td>0.014</td>\n",
       "    </tr>\n",
       "    <tr>\n",
       "      <th>1</th>\n",
       "      <td>Asian, Non-Hispanic</td>\n",
       "      <td>960.717</td>\n",
       "      <td>NaN</td>\n",
       "      <td>53.0</td>\n",
       "      <td>NaN</td>\n",
       "      <td>2905.420</td>\n",
       "      <td>NaN</td>\n",
       "      <td>0.046</td>\n",
       "      <td>0.053</td>\n",
       "    </tr>\n",
       "    <tr>\n",
       "      <th>2</th>\n",
       "      <td>Black, Non-Hispanic</td>\n",
       "      <td>993.715</td>\n",
       "      <td>NaN</td>\n",
       "      <td>377.0</td>\n",
       "      <td>NaN</td>\n",
       "      <td>2895.676</td>\n",
       "      <td>NaN</td>\n",
       "      <td>0.324</td>\n",
       "      <td>0.325</td>\n",
       "    </tr>\n",
       "    <tr>\n",
       "      <th>3</th>\n",
       "      <td>Hispanic/Latino</td>\n",
       "      <td>938.351</td>\n",
       "      <td>NaN</td>\n",
       "      <td>202.0</td>\n",
       "      <td>NaN</td>\n",
       "      <td>2885.954</td>\n",
       "      <td>NaN</td>\n",
       "      <td>0.174</td>\n",
       "      <td>0.160</td>\n",
       "    </tr>\n",
       "    <tr>\n",
       "      <th>4</th>\n",
       "      <td>Multiracial, Non-Hispanic</td>\n",
       "      <td>940.781</td>\n",
       "      <td>NaN</td>\n",
       "      <td>6.0</td>\n",
       "      <td>NaN</td>\n",
       "      <td>2712.192</td>\n",
       "      <td>NaN</td>\n",
       "      <td>0.005</td>\n",
       "      <td>0.005</td>\n",
       "    </tr>\n",
       "    <tr>\n",
       "      <th>5</th>\n",
       "      <td>Native Hawaiian/Other Pacific Islander, Non-Hi...</td>\n",
       "      <td>824.355</td>\n",
       "      <td>NaN</td>\n",
       "      <td>4.0</td>\n",
       "      <td>NaN</td>\n",
       "      <td>2864.132</td>\n",
       "      <td>NaN</td>\n",
       "      <td>0.003</td>\n",
       "      <td>0.004</td>\n",
       "    </tr>\n",
       "    <tr>\n",
       "      <th>6</th>\n",
       "      <td>White, Non-Hispanic</td>\n",
       "      <td>981.518</td>\n",
       "      <td>NaN</td>\n",
       "      <td>509.0</td>\n",
       "      <td>NaN</td>\n",
       "      <td>2896.880</td>\n",
       "      <td>NaN</td>\n",
       "      <td>0.438</td>\n",
       "      <td>0.439</td>\n",
       "    </tr>\n",
       "  </tbody>\n",
       "</table>\n",
       "</div>"
      ],
      "text/plain": [
       "                                              ethcat  wt_mean  wt_std  \\\n",
       "0               Amer Ind/Alaska Native, Non-Hispanic  845.822     NaN   \n",
       "1                                Asian, Non-Hispanic  960.717     NaN   \n",
       "2                                Black, Non-Hispanic  993.715     NaN   \n",
       "3                                    Hispanic/Latino  938.351     NaN   \n",
       "4                          Multiracial, Non-Hispanic  940.781     NaN   \n",
       "5  Native Hawaiian/Other Pacific Islander, Non-Hi...  824.355     NaN   \n",
       "6                                White, Non-Hispanic  981.518     NaN   \n",
       "\n",
       "   count_mean  count_std   st_mean  st_std  prop_simu  sample_proportion  \n",
       "0        12.0        NaN  2955.612     NaN      0.010              0.014  \n",
       "1        53.0        NaN  2905.420     NaN      0.046              0.053  \n",
       "2       377.0        NaN  2895.676     NaN      0.324              0.325  \n",
       "3       202.0        NaN  2885.954     NaN      0.174              0.160  \n",
       "4         6.0        NaN  2712.192     NaN      0.005              0.005  \n",
       "5         4.0        NaN  2864.132     NaN      0.003              0.004  \n",
       "6       509.0        NaN  2896.880     NaN      0.438              0.439  "
      ]
     },
     "execution_count": 96,
     "metadata": {},
     "output_type": "execute_result"
    }
   ],
   "source": [
    "df_waiting_time"
   ]
  },
  {
   "cell_type": "code",
   "execution_count": null,
   "metadata": {},
   "outputs": [
    {
     "data": {
      "text/html": [
       "<div>\n",
       "<style scoped>\n",
       "    .dataframe tbody tr th:only-of-type {\n",
       "        vertical-align: middle;\n",
       "    }\n",
       "\n",
       "    .dataframe tbody tr th {\n",
       "        vertical-align: top;\n",
       "    }\n",
       "\n",
       "    .dataframe thead th {\n",
       "        text-align: right;\n",
       "    }\n",
       "</style>\n",
       "<table border=\"1\" class=\"dataframe\">\n",
       "  <thead>\n",
       "    <tr style=\"text-align: right;\">\n",
       "      <th></th>\n",
       "      <th>gender</th>\n",
       "      <th>wt_mean</th>\n",
       "      <th>wt_std</th>\n",
       "      <th>count_mean</th>\n",
       "      <th>count_std</th>\n",
       "      <th>st_mean</th>\n",
       "      <th>st_std</th>\n",
       "      <th>prop_sim</th>\n",
       "      <th>sample_proportion</th>\n",
       "    </tr>\n",
       "  </thead>\n",
       "  <tbody>\n",
       "    <tr>\n",
       "      <th>0</th>\n",
       "      <td>F</td>\n",
       "      <td>986.703629</td>\n",
       "      <td>NaN</td>\n",
       "      <td>438.0</td>\n",
       "      <td>NaN</td>\n",
       "      <td>2894.190222</td>\n",
       "      <td>NaN</td>\n",
       "      <td>0.376612</td>\n",
       "      <td>0.35173</td>\n",
       "    </tr>\n",
       "    <tr>\n",
       "      <th>1</th>\n",
       "      <td>M</td>\n",
       "      <td>967.729475</td>\n",
       "      <td>NaN</td>\n",
       "      <td>725.0</td>\n",
       "      <td>NaN</td>\n",
       "      <td>2894.722053</td>\n",
       "      <td>NaN</td>\n",
       "      <td>0.623388</td>\n",
       "      <td>0.64827</td>\n",
       "    </tr>\n",
       "  </tbody>\n",
       "</table>\n",
       "</div>"
      ],
      "text/plain": [
       "  gender     wt_mean  wt_std  count_mean  count_std      st_mean  st_std  \\\n",
       "0      F  986.703629     NaN       438.0        NaN  2894.190222     NaN   \n",
       "1      M  967.729475     NaN       725.0        NaN  2894.722053     NaN   \n",
       "\n",
       "   prop_sim  sample_proportion  \n",
       "0  0.376612            0.35173  \n",
       "1  0.623388            0.64827  "
      ]
     },
     "execution_count": 97,
     "metadata": {},
     "output_type": "execute_result"
    }
   ],
   "source": [
    "df_gender"
   ]
  },
  {
   "cell_type": "markdown",
   "metadata": {},
   "source": [
    "### patients who leave the waitlist"
   ]
  },
  {
   "cell_type": "code",
   "execution_count": null,
   "metadata": {},
   "outputs": [],
   "source": [
    "df_waiting_time, df_gender = get_summary_tables(results_p3_ll, ethcat_mapping, real_ethcat_df, real_gender_df)"
   ]
  },
  {
   "cell_type": "code",
   "execution_count": null,
   "metadata": {},
   "outputs": [
    {
     "data": {
      "text/html": [
       "<div>\n",
       "<style scoped>\n",
       "    .dataframe tbody tr th:only-of-type {\n",
       "        vertical-align: middle;\n",
       "    }\n",
       "\n",
       "    .dataframe tbody tr th {\n",
       "        vertical-align: top;\n",
       "    }\n",
       "\n",
       "    .dataframe thead th {\n",
       "        text-align: right;\n",
       "    }\n",
       "</style>\n",
       "<table border=\"1\" class=\"dataframe\">\n",
       "  <thead>\n",
       "    <tr style=\"text-align: right;\">\n",
       "      <th></th>\n",
       "      <th>ethcat</th>\n",
       "      <th>wt_mean</th>\n",
       "      <th>wt_std</th>\n",
       "      <th>count_mean</th>\n",
       "      <th>count_std</th>\n",
       "      <th>st_mean</th>\n",
       "      <th>st_std</th>\n",
       "      <th>prop_simu</th>\n",
       "      <th>sample_proportion</th>\n",
       "    </tr>\n",
       "  </thead>\n",
       "  <tbody>\n",
       "    <tr>\n",
       "      <th>0</th>\n",
       "      <td>Amer Ind/Alaska Native, Non-Hispanic</td>\n",
       "      <td>615.953</td>\n",
       "      <td>NaN</td>\n",
       "      <td>3.0</td>\n",
       "      <td>NaN</td>\n",
       "      <td>0.0</td>\n",
       "      <td>NaN</td>\n",
       "      <td>0.008</td>\n",
       "      <td>0.014</td>\n",
       "    </tr>\n",
       "    <tr>\n",
       "      <th>1</th>\n",
       "      <td>Asian, Non-Hispanic</td>\n",
       "      <td>598.874</td>\n",
       "      <td>NaN</td>\n",
       "      <td>21.0</td>\n",
       "      <td>NaN</td>\n",
       "      <td>0.0</td>\n",
       "      <td>NaN</td>\n",
       "      <td>0.053</td>\n",
       "      <td>0.053</td>\n",
       "    </tr>\n",
       "    <tr>\n",
       "      <th>2</th>\n",
       "      <td>Black, Non-Hispanic</td>\n",
       "      <td>489.337</td>\n",
       "      <td>NaN</td>\n",
       "      <td>134.0</td>\n",
       "      <td>NaN</td>\n",
       "      <td>0.0</td>\n",
       "      <td>NaN</td>\n",
       "      <td>0.340</td>\n",
       "      <td>0.325</td>\n",
       "    </tr>\n",
       "    <tr>\n",
       "      <th>3</th>\n",
       "      <td>Hispanic/Latino</td>\n",
       "      <td>566.691</td>\n",
       "      <td>NaN</td>\n",
       "      <td>70.0</td>\n",
       "      <td>NaN</td>\n",
       "      <td>0.0</td>\n",
       "      <td>NaN</td>\n",
       "      <td>0.178</td>\n",
       "      <td>0.160</td>\n",
       "    </tr>\n",
       "    <tr>\n",
       "      <th>4</th>\n",
       "      <td>Native Hawaiian/Other Pacific Islander, Non-Hi...</td>\n",
       "      <td>301.240</td>\n",
       "      <td>NaN</td>\n",
       "      <td>1.0</td>\n",
       "      <td>NaN</td>\n",
       "      <td>0.0</td>\n",
       "      <td>NaN</td>\n",
       "      <td>0.003</td>\n",
       "      <td>0.004</td>\n",
       "    </tr>\n",
       "    <tr>\n",
       "      <th>5</th>\n",
       "      <td>White, Non-Hispanic</td>\n",
       "      <td>514.869</td>\n",
       "      <td>NaN</td>\n",
       "      <td>165.0</td>\n",
       "      <td>NaN</td>\n",
       "      <td>0.0</td>\n",
       "      <td>NaN</td>\n",
       "      <td>0.419</td>\n",
       "      <td>0.439</td>\n",
       "    </tr>\n",
       "  </tbody>\n",
       "</table>\n",
       "</div>"
      ],
      "text/plain": [
       "                                              ethcat  wt_mean  wt_std  \\\n",
       "0               Amer Ind/Alaska Native, Non-Hispanic  615.953     NaN   \n",
       "1                                Asian, Non-Hispanic  598.874     NaN   \n",
       "2                                Black, Non-Hispanic  489.337     NaN   \n",
       "3                                    Hispanic/Latino  566.691     NaN   \n",
       "4  Native Hawaiian/Other Pacific Islander, Non-Hi...  301.240     NaN   \n",
       "5                                White, Non-Hispanic  514.869     NaN   \n",
       "\n",
       "   count_mean  count_std  st_mean  st_std  prop_simu  sample_proportion  \n",
       "0         3.0        NaN      0.0     NaN      0.008              0.014  \n",
       "1        21.0        NaN      0.0     NaN      0.053              0.053  \n",
       "2       134.0        NaN      0.0     NaN      0.340              0.325  \n",
       "3        70.0        NaN      0.0     NaN      0.178              0.160  \n",
       "4         1.0        NaN      0.0     NaN      0.003              0.004  \n",
       "5       165.0        NaN      0.0     NaN      0.419              0.439  "
      ]
     },
     "execution_count": 99,
     "metadata": {},
     "output_type": "execute_result"
    }
   ],
   "source": [
    "df_waiting_time"
   ]
  },
  {
   "cell_type": "code",
   "execution_count": null,
   "metadata": {},
   "outputs": [
    {
     "data": {
      "text/html": [
       "<div>\n",
       "<style scoped>\n",
       "    .dataframe tbody tr th:only-of-type {\n",
       "        vertical-align: middle;\n",
       "    }\n",
       "\n",
       "    .dataframe tbody tr th {\n",
       "        vertical-align: top;\n",
       "    }\n",
       "\n",
       "    .dataframe thead th {\n",
       "        text-align: right;\n",
       "    }\n",
       "</style>\n",
       "<table border=\"1\" class=\"dataframe\">\n",
       "  <thead>\n",
       "    <tr style=\"text-align: right;\">\n",
       "      <th></th>\n",
       "      <th>gender</th>\n",
       "      <th>wt_mean</th>\n",
       "      <th>wt_std</th>\n",
       "      <th>count_mean</th>\n",
       "      <th>count_std</th>\n",
       "      <th>st_mean</th>\n",
       "      <th>st_std</th>\n",
       "      <th>prop_sim</th>\n",
       "      <th>sample_proportion</th>\n",
       "    </tr>\n",
       "  </thead>\n",
       "  <tbody>\n",
       "    <tr>\n",
       "      <th>0</th>\n",
       "      <td>F</td>\n",
       "      <td>505.249600</td>\n",
       "      <td>NaN</td>\n",
       "      <td>135.0</td>\n",
       "      <td>NaN</td>\n",
       "      <td>0.0</td>\n",
       "      <td>NaN</td>\n",
       "      <td>0.34264</td>\n",
       "      <td>0.35173</td>\n",
       "    </tr>\n",
       "    <tr>\n",
       "      <th>1</th>\n",
       "      <td>M</td>\n",
       "      <td>527.836494</td>\n",
       "      <td>NaN</td>\n",
       "      <td>259.0</td>\n",
       "      <td>NaN</td>\n",
       "      <td>0.0</td>\n",
       "      <td>NaN</td>\n",
       "      <td>0.65736</td>\n",
       "      <td>0.64827</td>\n",
       "    </tr>\n",
       "  </tbody>\n",
       "</table>\n",
       "</div>"
      ],
      "text/plain": [
       "  gender     wt_mean  wt_std  count_mean  count_std  st_mean  st_std  \\\n",
       "0      F  505.249600     NaN       135.0        NaN      0.0     NaN   \n",
       "1      M  527.836494     NaN       259.0        NaN      0.0     NaN   \n",
       "\n",
       "   prop_sim  sample_proportion  \n",
       "0   0.34264            0.35173  \n",
       "1   0.65736            0.64827  "
      ]
     },
     "execution_count": 100,
     "metadata": {},
     "output_type": "execute_result"
    }
   ],
   "source": [
    "df_gender"
   ]
  },
  {
   "cell_type": "markdown",
   "metadata": {},
   "source": [
    "### patients who stay in final list"
   ]
  },
  {
   "cell_type": "code",
   "execution_count": null,
   "metadata": {},
   "outputs": [],
   "source": [
    "df_waiting_time, df_gender = get_summary_tables(results_p3_fl, ethcat_mapping, real_ethcat_df, real_gender_df)"
   ]
  },
  {
   "cell_type": "code",
   "execution_count": null,
   "metadata": {},
   "outputs": [
    {
     "data": {
      "text/html": [
       "<div>\n",
       "<style scoped>\n",
       "    .dataframe tbody tr th:only-of-type {\n",
       "        vertical-align: middle;\n",
       "    }\n",
       "\n",
       "    .dataframe tbody tr th {\n",
       "        vertical-align: top;\n",
       "    }\n",
       "\n",
       "    .dataframe thead th {\n",
       "        text-align: right;\n",
       "    }\n",
       "</style>\n",
       "<table border=\"1\" class=\"dataframe\">\n",
       "  <thead>\n",
       "    <tr style=\"text-align: right;\">\n",
       "      <th></th>\n",
       "      <th>ethcat</th>\n",
       "      <th>wt_mean</th>\n",
       "      <th>wt_std</th>\n",
       "      <th>count_mean</th>\n",
       "      <th>count_std</th>\n",
       "      <th>st_mean</th>\n",
       "      <th>st_std</th>\n",
       "      <th>prop_simu</th>\n",
       "      <th>sample_proportion</th>\n",
       "    </tr>\n",
       "  </thead>\n",
       "  <tbody>\n",
       "    <tr>\n",
       "      <th>0</th>\n",
       "      <td>Amer Ind/Alaska Native, Non-Hispanic</td>\n",
       "      <td>472.406</td>\n",
       "      <td>NaN</td>\n",
       "      <td>4.0</td>\n",
       "      <td>NaN</td>\n",
       "      <td>0.0</td>\n",
       "      <td>NaN</td>\n",
       "      <td>0.021</td>\n",
       "      <td>0.014</td>\n",
       "    </tr>\n",
       "    <tr>\n",
       "      <th>1</th>\n",
       "      <td>Asian, Non-Hispanic</td>\n",
       "      <td>503.992</td>\n",
       "      <td>NaN</td>\n",
       "      <td>8.0</td>\n",
       "      <td>NaN</td>\n",
       "      <td>0.0</td>\n",
       "      <td>NaN</td>\n",
       "      <td>0.042</td>\n",
       "      <td>0.053</td>\n",
       "    </tr>\n",
       "    <tr>\n",
       "      <th>2</th>\n",
       "      <td>Black, Non-Hispanic</td>\n",
       "      <td>634.070</td>\n",
       "      <td>NaN</td>\n",
       "      <td>65.0</td>\n",
       "      <td>NaN</td>\n",
       "      <td>0.0</td>\n",
       "      <td>NaN</td>\n",
       "      <td>0.339</td>\n",
       "      <td>0.325</td>\n",
       "    </tr>\n",
       "    <tr>\n",
       "      <th>3</th>\n",
       "      <td>Hispanic/Latino</td>\n",
       "      <td>481.117</td>\n",
       "      <td>NaN</td>\n",
       "      <td>43.0</td>\n",
       "      <td>NaN</td>\n",
       "      <td>0.0</td>\n",
       "      <td>NaN</td>\n",
       "      <td>0.224</td>\n",
       "      <td>0.160</td>\n",
       "    </tr>\n",
       "    <tr>\n",
       "      <th>4</th>\n",
       "      <td>Multiracial, Non-Hispanic</td>\n",
       "      <td>632.698</td>\n",
       "      <td>NaN</td>\n",
       "      <td>1.0</td>\n",
       "      <td>NaN</td>\n",
       "      <td>0.0</td>\n",
       "      <td>NaN</td>\n",
       "      <td>0.005</td>\n",
       "      <td>0.005</td>\n",
       "    </tr>\n",
       "    <tr>\n",
       "      <th>5</th>\n",
       "      <td>Native Hawaiian/Other Pacific Islander, Non-Hi...</td>\n",
       "      <td>754.330</td>\n",
       "      <td>NaN</td>\n",
       "      <td>1.0</td>\n",
       "      <td>NaN</td>\n",
       "      <td>0.0</td>\n",
       "      <td>NaN</td>\n",
       "      <td>0.005</td>\n",
       "      <td>0.004</td>\n",
       "    </tr>\n",
       "    <tr>\n",
       "      <th>6</th>\n",
       "      <td>White, Non-Hispanic</td>\n",
       "      <td>554.049</td>\n",
       "      <td>NaN</td>\n",
       "      <td>70.0</td>\n",
       "      <td>NaN</td>\n",
       "      <td>0.0</td>\n",
       "      <td>NaN</td>\n",
       "      <td>0.365</td>\n",
       "      <td>0.439</td>\n",
       "    </tr>\n",
       "  </tbody>\n",
       "</table>\n",
       "</div>"
      ],
      "text/plain": [
       "                                              ethcat  wt_mean  wt_std  \\\n",
       "0               Amer Ind/Alaska Native, Non-Hispanic  472.406     NaN   \n",
       "1                                Asian, Non-Hispanic  503.992     NaN   \n",
       "2                                Black, Non-Hispanic  634.070     NaN   \n",
       "3                                    Hispanic/Latino  481.117     NaN   \n",
       "4                          Multiracial, Non-Hispanic  632.698     NaN   \n",
       "5  Native Hawaiian/Other Pacific Islander, Non-Hi...  754.330     NaN   \n",
       "6                                White, Non-Hispanic  554.049     NaN   \n",
       "\n",
       "   count_mean  count_std  st_mean  st_std  prop_simu  sample_proportion  \n",
       "0         4.0        NaN      0.0     NaN      0.021              0.014  \n",
       "1         8.0        NaN      0.0     NaN      0.042              0.053  \n",
       "2        65.0        NaN      0.0     NaN      0.339              0.325  \n",
       "3        43.0        NaN      0.0     NaN      0.224              0.160  \n",
       "4         1.0        NaN      0.0     NaN      0.005              0.005  \n",
       "5         1.0        NaN      0.0     NaN      0.005              0.004  \n",
       "6        70.0        NaN      0.0     NaN      0.365              0.439  "
      ]
     },
     "execution_count": 102,
     "metadata": {},
     "output_type": "execute_result"
    }
   ],
   "source": [
    "df_waiting_time"
   ]
  },
  {
   "cell_type": "code",
   "execution_count": null,
   "metadata": {},
   "outputs": [
    {
     "data": {
      "text/html": [
       "<div>\n",
       "<style scoped>\n",
       "    .dataframe tbody tr th:only-of-type {\n",
       "        vertical-align: middle;\n",
       "    }\n",
       "\n",
       "    .dataframe tbody tr th {\n",
       "        vertical-align: top;\n",
       "    }\n",
       "\n",
       "    .dataframe thead th {\n",
       "        text-align: right;\n",
       "    }\n",
       "</style>\n",
       "<table border=\"1\" class=\"dataframe\">\n",
       "  <thead>\n",
       "    <tr style=\"text-align: right;\">\n",
       "      <th></th>\n",
       "      <th>gender</th>\n",
       "      <th>wt_mean</th>\n",
       "      <th>wt_std</th>\n",
       "      <th>count_mean</th>\n",
       "      <th>count_std</th>\n",
       "      <th>st_mean</th>\n",
       "      <th>st_std</th>\n",
       "      <th>prop_sim</th>\n",
       "      <th>sample_proportion</th>\n",
       "    </tr>\n",
       "  </thead>\n",
       "  <tbody>\n",
       "    <tr>\n",
       "      <th>0</th>\n",
       "      <td>F</td>\n",
       "      <td>559.097806</td>\n",
       "      <td>NaN</td>\n",
       "      <td>63.0</td>\n",
       "      <td>NaN</td>\n",
       "      <td>0.0</td>\n",
       "      <td>NaN</td>\n",
       "      <td>0.328125</td>\n",
       "      <td>0.35173</td>\n",
       "    </tr>\n",
       "    <tr>\n",
       "      <th>1</th>\n",
       "      <td>M</td>\n",
       "      <td>564.119319</td>\n",
       "      <td>NaN</td>\n",
       "      <td>129.0</td>\n",
       "      <td>NaN</td>\n",
       "      <td>0.0</td>\n",
       "      <td>NaN</td>\n",
       "      <td>0.671875</td>\n",
       "      <td>0.64827</td>\n",
       "    </tr>\n",
       "  </tbody>\n",
       "</table>\n",
       "</div>"
      ],
      "text/plain": [
       "  gender     wt_mean  wt_std  count_mean  count_std  st_mean  st_std  \\\n",
       "0      F  559.097806     NaN        63.0        NaN      0.0     NaN   \n",
       "1      M  564.119319     NaN       129.0        NaN      0.0     NaN   \n",
       "\n",
       "   prop_sim  sample_proportion  \n",
       "0  0.328125            0.35173  \n",
       "1  0.671875            0.64827  "
      ]
     },
     "execution_count": 103,
     "metadata": {},
     "output_type": "execute_result"
    }
   ],
   "source": [
    "df_gender"
   ]
  },
  {
   "cell_type": "markdown",
   "metadata": {},
   "source": [
    "# Cox proportional hazard models"
   ]
  },
  {
   "cell_type": "code",
   "execution_count": null,
   "metadata": {},
   "outputs": [],
   "source": [
    "events_per_replication_p1 = copy.deepcopy(events_per_replication)\n",
    "events_per_replication_p2 = copy.deepcopy(events_per_replication)\n",
    "events_per_replication_p3 = copy.deepcopy(events_per_replication)"
   ]
  },
  {
   "cell_type": "markdown",
   "metadata": {},
   "source": [
    "## Policy 1"
   ]
  },
  {
   "cell_type": "code",
   "execution_count": null,
   "metadata": {},
   "outputs": [
    {
     "name": "stdout",
     "output_type": "stream",
     "text": [
      "Replicate # 0\n"
     ]
    },
    {
     "name": "stderr",
     "output_type": "stream",
     "text": [
      "Progress replication 0: 10958.955726922059time unit [06:27, 28.28time unit/s]                       \n"
     ]
    }
   ],
   "source": [
    "average_waiting_times, number_of_matches_list, results_p1_no, results_p1_ll, results_p1_fl = run_simulation(events_per_replication_p1,  \n",
    "                                                                                                            replicates, cox_prop, \n",
    "                                                                                                            policy='p1', verbose=False)"
   ]
  },
  {
   "cell_type": "markdown",
   "metadata": {},
   "source": [
    "### recipients who receive a kidney"
   ]
  },
  {
   "cell_type": "code",
   "execution_count": null,
   "metadata": {},
   "outputs": [],
   "source": [
    "df_waiting_time, df_gender = get_summary_tables(results_p1_no, ethcat_mapping, real_ethcat_df, real_gender_df)"
   ]
  },
  {
   "cell_type": "code",
   "execution_count": null,
   "metadata": {},
   "outputs": [
    {
     "data": {
      "text/html": [
       "<div>\n",
       "<style scoped>\n",
       "    .dataframe tbody tr th:only-of-type {\n",
       "        vertical-align: middle;\n",
       "    }\n",
       "\n",
       "    .dataframe tbody tr th {\n",
       "        vertical-align: top;\n",
       "    }\n",
       "\n",
       "    .dataframe thead th {\n",
       "        text-align: right;\n",
       "    }\n",
       "</style>\n",
       "<table border=\"1\" class=\"dataframe\">\n",
       "  <thead>\n",
       "    <tr style=\"text-align: right;\">\n",
       "      <th></th>\n",
       "      <th>ethcat</th>\n",
       "      <th>wt_mean</th>\n",
       "      <th>wt_std</th>\n",
       "      <th>count_mean</th>\n",
       "      <th>count_std</th>\n",
       "      <th>st_mean</th>\n",
       "      <th>st_std</th>\n",
       "      <th>prop_simu</th>\n",
       "      <th>sample_proportion</th>\n",
       "    </tr>\n",
       "  </thead>\n",
       "  <tbody>\n",
       "    <tr>\n",
       "      <th>0</th>\n",
       "      <td>Amer Ind/Alaska Native, Non-Hispanic</td>\n",
       "      <td>343.633</td>\n",
       "      <td>NaN</td>\n",
       "      <td>12.0</td>\n",
       "      <td>NaN</td>\n",
       "      <td>2755.030</td>\n",
       "      <td>NaN</td>\n",
       "      <td>0.010</td>\n",
       "      <td>0.014</td>\n",
       "    </tr>\n",
       "    <tr>\n",
       "      <th>1</th>\n",
       "      <td>Asian, Non-Hispanic</td>\n",
       "      <td>642.339</td>\n",
       "      <td>NaN</td>\n",
       "      <td>57.0</td>\n",
       "      <td>NaN</td>\n",
       "      <td>2881.835</td>\n",
       "      <td>NaN</td>\n",
       "      <td>0.048</td>\n",
       "      <td>0.053</td>\n",
       "    </tr>\n",
       "    <tr>\n",
       "      <th>2</th>\n",
       "      <td>Black, Non-Hispanic</td>\n",
       "      <td>683.771</td>\n",
       "      <td>NaN</td>\n",
       "      <td>386.0</td>\n",
       "      <td>NaN</td>\n",
       "      <td>2885.959</td>\n",
       "      <td>NaN</td>\n",
       "      <td>0.323</td>\n",
       "      <td>0.325</td>\n",
       "    </tr>\n",
       "    <tr>\n",
       "      <th>3</th>\n",
       "      <td>Hispanic/Latino</td>\n",
       "      <td>610.488</td>\n",
       "      <td>NaN</td>\n",
       "      <td>191.0</td>\n",
       "      <td>NaN</td>\n",
       "      <td>2917.192</td>\n",
       "      <td>NaN</td>\n",
       "      <td>0.160</td>\n",
       "      <td>0.160</td>\n",
       "    </tr>\n",
       "    <tr>\n",
       "      <th>4</th>\n",
       "      <td>Multiracial, Non-Hispanic</td>\n",
       "      <td>990.214</td>\n",
       "      <td>NaN</td>\n",
       "      <td>4.0</td>\n",
       "      <td>NaN</td>\n",
       "      <td>2842.242</td>\n",
       "      <td>NaN</td>\n",
       "      <td>0.003</td>\n",
       "      <td>0.005</td>\n",
       "    </tr>\n",
       "    <tr>\n",
       "      <th>5</th>\n",
       "      <td>Native Hawaiian/Other Pacific Islander, Non-Hi...</td>\n",
       "      <td>1713.040</td>\n",
       "      <td>NaN</td>\n",
       "      <td>5.0</td>\n",
       "      <td>NaN</td>\n",
       "      <td>2912.062</td>\n",
       "      <td>NaN</td>\n",
       "      <td>0.004</td>\n",
       "      <td>0.004</td>\n",
       "    </tr>\n",
       "    <tr>\n",
       "      <th>6</th>\n",
       "      <td>White, Non-Hispanic</td>\n",
       "      <td>682.768</td>\n",
       "      <td>NaN</td>\n",
       "      <td>539.0</td>\n",
       "      <td>NaN</td>\n",
       "      <td>2902.117</td>\n",
       "      <td>NaN</td>\n",
       "      <td>0.451</td>\n",
       "      <td>0.439</td>\n",
       "    </tr>\n",
       "  </tbody>\n",
       "</table>\n",
       "</div>"
      ],
      "text/plain": [
       "                                              ethcat   wt_mean  wt_std  \\\n",
       "0               Amer Ind/Alaska Native, Non-Hispanic   343.633     NaN   \n",
       "1                                Asian, Non-Hispanic   642.339     NaN   \n",
       "2                                Black, Non-Hispanic   683.771     NaN   \n",
       "3                                    Hispanic/Latino   610.488     NaN   \n",
       "4                          Multiracial, Non-Hispanic   990.214     NaN   \n",
       "5  Native Hawaiian/Other Pacific Islander, Non-Hi...  1713.040     NaN   \n",
       "6                                White, Non-Hispanic   682.768     NaN   \n",
       "\n",
       "   count_mean  count_std   st_mean  st_std  prop_simu  sample_proportion  \n",
       "0        12.0        NaN  2755.030     NaN      0.010              0.014  \n",
       "1        57.0        NaN  2881.835     NaN      0.048              0.053  \n",
       "2       386.0        NaN  2885.959     NaN      0.323              0.325  \n",
       "3       191.0        NaN  2917.192     NaN      0.160              0.160  \n",
       "4         4.0        NaN  2842.242     NaN      0.003              0.005  \n",
       "5         5.0        NaN  2912.062     NaN      0.004              0.004  \n",
       "6       539.0        NaN  2902.117     NaN      0.451              0.439  "
      ]
     },
     "execution_count": 107,
     "metadata": {},
     "output_type": "execute_result"
    }
   ],
   "source": [
    "df_waiting_time"
   ]
  },
  {
   "cell_type": "code",
   "execution_count": null,
   "metadata": {},
   "outputs": [
    {
     "data": {
      "text/html": [
       "<div>\n",
       "<style scoped>\n",
       "    .dataframe tbody tr th:only-of-type {\n",
       "        vertical-align: middle;\n",
       "    }\n",
       "\n",
       "    .dataframe tbody tr th {\n",
       "        vertical-align: top;\n",
       "    }\n",
       "\n",
       "    .dataframe thead th {\n",
       "        text-align: right;\n",
       "    }\n",
       "</style>\n",
       "<table border=\"1\" class=\"dataframe\">\n",
       "  <thead>\n",
       "    <tr style=\"text-align: right;\">\n",
       "      <th></th>\n",
       "      <th>gender</th>\n",
       "      <th>wt_mean</th>\n",
       "      <th>wt_std</th>\n",
       "      <th>count_mean</th>\n",
       "      <th>count_std</th>\n",
       "      <th>st_mean</th>\n",
       "      <th>st_std</th>\n",
       "      <th>prop_sim</th>\n",
       "      <th>sample_proportion</th>\n",
       "    </tr>\n",
       "  </thead>\n",
       "  <tbody>\n",
       "    <tr>\n",
       "      <th>0</th>\n",
       "      <td>F</td>\n",
       "      <td>685.113964</td>\n",
       "      <td>NaN</td>\n",
       "      <td>448.0</td>\n",
       "      <td>NaN</td>\n",
       "      <td>2898.593320</td>\n",
       "      <td>NaN</td>\n",
       "      <td>0.375209</td>\n",
       "      <td>0.35173</td>\n",
       "    </tr>\n",
       "    <tr>\n",
       "      <th>1</th>\n",
       "      <td>M</td>\n",
       "      <td>663.381241</td>\n",
       "      <td>NaN</td>\n",
       "      <td>746.0</td>\n",
       "      <td>NaN</td>\n",
       "      <td>2895.562019</td>\n",
       "      <td>NaN</td>\n",
       "      <td>0.624791</td>\n",
       "      <td>0.64827</td>\n",
       "    </tr>\n",
       "  </tbody>\n",
       "</table>\n",
       "</div>"
      ],
      "text/plain": [
       "  gender     wt_mean  wt_std  count_mean  count_std      st_mean  st_std  \\\n",
       "0      F  685.113964     NaN       448.0        NaN  2898.593320     NaN   \n",
       "1      M  663.381241     NaN       746.0        NaN  2895.562019     NaN   \n",
       "\n",
       "   prop_sim  sample_proportion  \n",
       "0  0.375209            0.35173  \n",
       "1  0.624791            0.64827  "
      ]
     },
     "execution_count": 108,
     "metadata": {},
     "output_type": "execute_result"
    }
   ],
   "source": [
    "df_gender"
   ]
  },
  {
   "cell_type": "markdown",
   "metadata": {},
   "source": [
    "### patients who leave the waitlist"
   ]
  },
  {
   "cell_type": "code",
   "execution_count": null,
   "metadata": {},
   "outputs": [],
   "source": [
    "df_waiting_time, df_gender = get_summary_tables(results_p1_ll, ethcat_mapping, real_ethcat_df, real_gender_df)"
   ]
  },
  {
   "cell_type": "code",
   "execution_count": null,
   "metadata": {},
   "outputs": [
    {
     "data": {
      "text/html": [
       "<div>\n",
       "<style scoped>\n",
       "    .dataframe tbody tr th:only-of-type {\n",
       "        vertical-align: middle;\n",
       "    }\n",
       "\n",
       "    .dataframe tbody tr th {\n",
       "        vertical-align: top;\n",
       "    }\n",
       "\n",
       "    .dataframe thead th {\n",
       "        text-align: right;\n",
       "    }\n",
       "</style>\n",
       "<table border=\"1\" class=\"dataframe\">\n",
       "  <thead>\n",
       "    <tr style=\"text-align: right;\">\n",
       "      <th></th>\n",
       "      <th>ethcat</th>\n",
       "      <th>wt_mean</th>\n",
       "      <th>wt_std</th>\n",
       "      <th>count_mean</th>\n",
       "      <th>count_std</th>\n",
       "      <th>st_mean</th>\n",
       "      <th>st_std</th>\n",
       "      <th>prop_simu</th>\n",
       "      <th>sample_proportion</th>\n",
       "    </tr>\n",
       "  </thead>\n",
       "  <tbody>\n",
       "    <tr>\n",
       "      <th>0</th>\n",
       "      <td>Amer Ind/Alaska Native, Non-Hispanic</td>\n",
       "      <td>1455.095</td>\n",
       "      <td>NaN</td>\n",
       "      <td>7.0</td>\n",
       "      <td>NaN</td>\n",
       "      <td>0.0</td>\n",
       "      <td>NaN</td>\n",
       "      <td>0.018</td>\n",
       "      <td>0.014</td>\n",
       "    </tr>\n",
       "    <tr>\n",
       "      <th>1</th>\n",
       "      <td>Asian, Non-Hispanic</td>\n",
       "      <td>1242.031</td>\n",
       "      <td>NaN</td>\n",
       "      <td>23.0</td>\n",
       "      <td>NaN</td>\n",
       "      <td>0.0</td>\n",
       "      <td>NaN</td>\n",
       "      <td>0.059</td>\n",
       "      <td>0.053</td>\n",
       "    </tr>\n",
       "    <tr>\n",
       "      <th>2</th>\n",
       "      <td>Black, Non-Hispanic</td>\n",
       "      <td>1532.915</td>\n",
       "      <td>NaN</td>\n",
       "      <td>133.0</td>\n",
       "      <td>NaN</td>\n",
       "      <td>0.0</td>\n",
       "      <td>NaN</td>\n",
       "      <td>0.339</td>\n",
       "      <td>0.325</td>\n",
       "    </tr>\n",
       "    <tr>\n",
       "      <th>3</th>\n",
       "      <td>Hispanic/Latino</td>\n",
       "      <td>1420.884</td>\n",
       "      <td>NaN</td>\n",
       "      <td>87.0</td>\n",
       "      <td>NaN</td>\n",
       "      <td>0.0</td>\n",
       "      <td>NaN</td>\n",
       "      <td>0.222</td>\n",
       "      <td>0.160</td>\n",
       "    </tr>\n",
       "    <tr>\n",
       "      <th>4</th>\n",
       "      <td>Multiracial, Non-Hispanic</td>\n",
       "      <td>3399.425</td>\n",
       "      <td>NaN</td>\n",
       "      <td>1.0</td>\n",
       "      <td>NaN</td>\n",
       "      <td>0.0</td>\n",
       "      <td>NaN</td>\n",
       "      <td>0.003</td>\n",
       "      <td>0.005</td>\n",
       "    </tr>\n",
       "    <tr>\n",
       "      <th>5</th>\n",
       "      <td>Native Hawaiian/Other Pacific Islander, Non-Hi...</td>\n",
       "      <td>301.240</td>\n",
       "      <td>NaN</td>\n",
       "      <td>1.0</td>\n",
       "      <td>NaN</td>\n",
       "      <td>0.0</td>\n",
       "      <td>NaN</td>\n",
       "      <td>0.003</td>\n",
       "      <td>0.004</td>\n",
       "    </tr>\n",
       "    <tr>\n",
       "      <th>6</th>\n",
       "      <td>White, Non-Hispanic</td>\n",
       "      <td>1320.235</td>\n",
       "      <td>NaN</td>\n",
       "      <td>140.0</td>\n",
       "      <td>NaN</td>\n",
       "      <td>0.0</td>\n",
       "      <td>NaN</td>\n",
       "      <td>0.357</td>\n",
       "      <td>0.439</td>\n",
       "    </tr>\n",
       "  </tbody>\n",
       "</table>\n",
       "</div>"
      ],
      "text/plain": [
       "                                              ethcat   wt_mean  wt_std  \\\n",
       "0               Amer Ind/Alaska Native, Non-Hispanic  1455.095     NaN   \n",
       "1                                Asian, Non-Hispanic  1242.031     NaN   \n",
       "2                                Black, Non-Hispanic  1532.915     NaN   \n",
       "3                                    Hispanic/Latino  1420.884     NaN   \n",
       "4                          Multiracial, Non-Hispanic  3399.425     NaN   \n",
       "5  Native Hawaiian/Other Pacific Islander, Non-Hi...   301.240     NaN   \n",
       "6                                White, Non-Hispanic  1320.235     NaN   \n",
       "\n",
       "   count_mean  count_std  st_mean  st_std  prop_simu  sample_proportion  \n",
       "0         7.0        NaN      0.0     NaN      0.018              0.014  \n",
       "1        23.0        NaN      0.0     NaN      0.059              0.053  \n",
       "2       133.0        NaN      0.0     NaN      0.339              0.325  \n",
       "3        87.0        NaN      0.0     NaN      0.222              0.160  \n",
       "4         1.0        NaN      0.0     NaN      0.003              0.005  \n",
       "5         1.0        NaN      0.0     NaN      0.003              0.004  \n",
       "6       140.0        NaN      0.0     NaN      0.357              0.439  "
      ]
     },
     "execution_count": 110,
     "metadata": {},
     "output_type": "execute_result"
    }
   ],
   "source": [
    "df_waiting_time"
   ]
  },
  {
   "cell_type": "code",
   "execution_count": null,
   "metadata": {},
   "outputs": [
    {
     "data": {
      "text/html": [
       "<div>\n",
       "<style scoped>\n",
       "    .dataframe tbody tr th:only-of-type {\n",
       "        vertical-align: middle;\n",
       "    }\n",
       "\n",
       "    .dataframe tbody tr th {\n",
       "        vertical-align: top;\n",
       "    }\n",
       "\n",
       "    .dataframe thead th {\n",
       "        text-align: right;\n",
       "    }\n",
       "</style>\n",
       "<table border=\"1\" class=\"dataframe\">\n",
       "  <thead>\n",
       "    <tr style=\"text-align: right;\">\n",
       "      <th></th>\n",
       "      <th>gender</th>\n",
       "      <th>wt_mean</th>\n",
       "      <th>wt_std</th>\n",
       "      <th>count_mean</th>\n",
       "      <th>count_std</th>\n",
       "      <th>st_mean</th>\n",
       "      <th>st_std</th>\n",
       "      <th>prop_sim</th>\n",
       "      <th>sample_proportion</th>\n",
       "    </tr>\n",
       "  </thead>\n",
       "  <tbody>\n",
       "    <tr>\n",
       "      <th>0</th>\n",
       "      <td>F</td>\n",
       "      <td>1416.767493</td>\n",
       "      <td>NaN</td>\n",
       "      <td>136.0</td>\n",
       "      <td>NaN</td>\n",
       "      <td>0.0</td>\n",
       "      <td>NaN</td>\n",
       "      <td>0.346939</td>\n",
       "      <td>0.35173</td>\n",
       "    </tr>\n",
       "    <tr>\n",
       "      <th>1</th>\n",
       "      <td>M</td>\n",
       "      <td>1414.454026</td>\n",
       "      <td>NaN</td>\n",
       "      <td>256.0</td>\n",
       "      <td>NaN</td>\n",
       "      <td>0.0</td>\n",
       "      <td>NaN</td>\n",
       "      <td>0.653061</td>\n",
       "      <td>0.64827</td>\n",
       "    </tr>\n",
       "  </tbody>\n",
       "</table>\n",
       "</div>"
      ],
      "text/plain": [
       "  gender      wt_mean  wt_std  count_mean  count_std  st_mean  st_std  \\\n",
       "0      F  1416.767493     NaN       136.0        NaN      0.0     NaN   \n",
       "1      M  1414.454026     NaN       256.0        NaN      0.0     NaN   \n",
       "\n",
       "   prop_sim  sample_proportion  \n",
       "0  0.346939            0.35173  \n",
       "1  0.653061            0.64827  "
      ]
     },
     "execution_count": 111,
     "metadata": {},
     "output_type": "execute_result"
    }
   ],
   "source": [
    "df_gender"
   ]
  },
  {
   "cell_type": "markdown",
   "metadata": {},
   "source": [
    "### patients who stay in final list"
   ]
  },
  {
   "cell_type": "code",
   "execution_count": null,
   "metadata": {},
   "outputs": [],
   "source": [
    "df_waiting_time, df_gender = get_summary_tables(results_p1_fl, ethcat_mapping, real_ethcat_df, real_gender_df)"
   ]
  },
  {
   "cell_type": "code",
   "execution_count": null,
   "metadata": {},
   "outputs": [
    {
     "data": {
      "text/html": [
       "<div>\n",
       "<style scoped>\n",
       "    .dataframe tbody tr th:only-of-type {\n",
       "        vertical-align: middle;\n",
       "    }\n",
       "\n",
       "    .dataframe tbody tr th {\n",
       "        vertical-align: top;\n",
       "    }\n",
       "\n",
       "    .dataframe thead th {\n",
       "        text-align: right;\n",
       "    }\n",
       "</style>\n",
       "<table border=\"1\" class=\"dataframe\">\n",
       "  <thead>\n",
       "    <tr style=\"text-align: right;\">\n",
       "      <th></th>\n",
       "      <th>ethcat</th>\n",
       "      <th>wt_mean</th>\n",
       "      <th>wt_std</th>\n",
       "      <th>count_mean</th>\n",
       "      <th>count_std</th>\n",
       "      <th>st_mean</th>\n",
       "      <th>st_std</th>\n",
       "      <th>prop_simu</th>\n",
       "      <th>sample_proportion</th>\n",
       "    </tr>\n",
       "  </thead>\n",
       "  <tbody>\n",
       "    <tr>\n",
       "      <th>0</th>\n",
       "      <td>Amer Ind/Alaska Native, Non-Hispanic</td>\n",
       "      <td>375.696</td>\n",
       "      <td>NaN</td>\n",
       "      <td>2.0</td>\n",
       "      <td>NaN</td>\n",
       "      <td>0.0</td>\n",
       "      <td>NaN</td>\n",
       "      <td>0.010</td>\n",
       "      <td>0.014</td>\n",
       "    </tr>\n",
       "    <tr>\n",
       "      <th>1</th>\n",
       "      <td>Asian, Non-Hispanic</td>\n",
       "      <td>2254.631</td>\n",
       "      <td>NaN</td>\n",
       "      <td>9.0</td>\n",
       "      <td>NaN</td>\n",
       "      <td>0.0</td>\n",
       "      <td>NaN</td>\n",
       "      <td>0.045</td>\n",
       "      <td>0.053</td>\n",
       "    </tr>\n",
       "    <tr>\n",
       "      <th>2</th>\n",
       "      <td>Black, Non-Hispanic</td>\n",
       "      <td>1727.915</td>\n",
       "      <td>NaN</td>\n",
       "      <td>68.0</td>\n",
       "      <td>NaN</td>\n",
       "      <td>0.0</td>\n",
       "      <td>NaN</td>\n",
       "      <td>0.343</td>\n",
       "      <td>0.325</td>\n",
       "    </tr>\n",
       "    <tr>\n",
       "      <th>3</th>\n",
       "      <td>Hispanic/Latino</td>\n",
       "      <td>1514.356</td>\n",
       "      <td>NaN</td>\n",
       "      <td>46.0</td>\n",
       "      <td>NaN</td>\n",
       "      <td>0.0</td>\n",
       "      <td>NaN</td>\n",
       "      <td>0.232</td>\n",
       "      <td>0.160</td>\n",
       "    </tr>\n",
       "    <tr>\n",
       "      <th>4</th>\n",
       "      <td>Multiracial, Non-Hispanic</td>\n",
       "      <td>963.104</td>\n",
       "      <td>NaN</td>\n",
       "      <td>4.0</td>\n",
       "      <td>NaN</td>\n",
       "      <td>0.0</td>\n",
       "      <td>NaN</td>\n",
       "      <td>0.020</td>\n",
       "      <td>0.005</td>\n",
       "    </tr>\n",
       "    <tr>\n",
       "      <th>5</th>\n",
       "      <td>Native Hawaiian/Other Pacific Islander, Non-Hi...</td>\n",
       "      <td>897.885</td>\n",
       "      <td>NaN</td>\n",
       "      <td>1.0</td>\n",
       "      <td>NaN</td>\n",
       "      <td>0.0</td>\n",
       "      <td>NaN</td>\n",
       "      <td>0.005</td>\n",
       "      <td>0.004</td>\n",
       "    </tr>\n",
       "    <tr>\n",
       "      <th>6</th>\n",
       "      <td>White, Non-Hispanic</td>\n",
       "      <td>1412.202</td>\n",
       "      <td>NaN</td>\n",
       "      <td>68.0</td>\n",
       "      <td>NaN</td>\n",
       "      <td>0.0</td>\n",
       "      <td>NaN</td>\n",
       "      <td>0.343</td>\n",
       "      <td>0.439</td>\n",
       "    </tr>\n",
       "  </tbody>\n",
       "</table>\n",
       "</div>"
      ],
      "text/plain": [
       "                                              ethcat   wt_mean  wt_std  \\\n",
       "0               Amer Ind/Alaska Native, Non-Hispanic   375.696     NaN   \n",
       "1                                Asian, Non-Hispanic  2254.631     NaN   \n",
       "2                                Black, Non-Hispanic  1727.915     NaN   \n",
       "3                                    Hispanic/Latino  1514.356     NaN   \n",
       "4                          Multiracial, Non-Hispanic   963.104     NaN   \n",
       "5  Native Hawaiian/Other Pacific Islander, Non-Hi...   897.885     NaN   \n",
       "6                                White, Non-Hispanic  1412.202     NaN   \n",
       "\n",
       "   count_mean  count_std  st_mean  st_std  prop_simu  sample_proportion  \n",
       "0         2.0        NaN      0.0     NaN      0.010              0.014  \n",
       "1         9.0        NaN      0.0     NaN      0.045              0.053  \n",
       "2        68.0        NaN      0.0     NaN      0.343              0.325  \n",
       "3        46.0        NaN      0.0     NaN      0.232              0.160  \n",
       "4         4.0        NaN      0.0     NaN      0.020              0.005  \n",
       "5         1.0        NaN      0.0     NaN      0.005              0.004  \n",
       "6        68.0        NaN      0.0     NaN      0.343              0.439  "
      ]
     },
     "execution_count": 113,
     "metadata": {},
     "output_type": "execute_result"
    }
   ],
   "source": [
    "df_waiting_time"
   ]
  },
  {
   "cell_type": "code",
   "execution_count": null,
   "metadata": {},
   "outputs": [
    {
     "data": {
      "text/html": [
       "<div>\n",
       "<style scoped>\n",
       "    .dataframe tbody tr th:only-of-type {\n",
       "        vertical-align: middle;\n",
       "    }\n",
       "\n",
       "    .dataframe tbody tr th {\n",
       "        vertical-align: top;\n",
       "    }\n",
       "\n",
       "    .dataframe thead th {\n",
       "        text-align: right;\n",
       "    }\n",
       "</style>\n",
       "<table border=\"1\" class=\"dataframe\">\n",
       "  <thead>\n",
       "    <tr style=\"text-align: right;\">\n",
       "      <th></th>\n",
       "      <th>gender</th>\n",
       "      <th>wt_mean</th>\n",
       "      <th>wt_std</th>\n",
       "      <th>count_mean</th>\n",
       "      <th>count_std</th>\n",
       "      <th>st_mean</th>\n",
       "      <th>st_std</th>\n",
       "      <th>prop_sim</th>\n",
       "      <th>sample_proportion</th>\n",
       "    </tr>\n",
       "  </thead>\n",
       "  <tbody>\n",
       "    <tr>\n",
       "      <th>0</th>\n",
       "      <td>F</td>\n",
       "      <td>1757.008566</td>\n",
       "      <td>NaN</td>\n",
       "      <td>63.0</td>\n",
       "      <td>NaN</td>\n",
       "      <td>0.0</td>\n",
       "      <td>NaN</td>\n",
       "      <td>0.318182</td>\n",
       "      <td>0.35173</td>\n",
       "    </tr>\n",
       "    <tr>\n",
       "      <th>1</th>\n",
       "      <td>M</td>\n",
       "      <td>1468.816202</td>\n",
       "      <td>NaN</td>\n",
       "      <td>135.0</td>\n",
       "      <td>NaN</td>\n",
       "      <td>0.0</td>\n",
       "      <td>NaN</td>\n",
       "      <td>0.681818</td>\n",
       "      <td>0.64827</td>\n",
       "    </tr>\n",
       "  </tbody>\n",
       "</table>\n",
       "</div>"
      ],
      "text/plain": [
       "  gender      wt_mean  wt_std  count_mean  count_std  st_mean  st_std  \\\n",
       "0      F  1757.008566     NaN        63.0        NaN      0.0     NaN   \n",
       "1      M  1468.816202     NaN       135.0        NaN      0.0     NaN   \n",
       "\n",
       "   prop_sim  sample_proportion  \n",
       "0  0.318182            0.35173  \n",
       "1  0.681818            0.64827  "
      ]
     },
     "execution_count": 114,
     "metadata": {},
     "output_type": "execute_result"
    }
   ],
   "source": [
    "df_gender"
   ]
  },
  {
   "cell_type": "markdown",
   "metadata": {},
   "source": [
    "## Policy 2"
   ]
  },
  {
   "cell_type": "code",
   "execution_count": null,
   "metadata": {},
   "outputs": [
    {
     "name": "stdout",
     "output_type": "stream",
     "text": [
      "Replicate # 0\n"
     ]
    },
    {
     "name": "stderr",
     "output_type": "stream",
     "text": [
      "Progress replication 0: 100%|█████████▉| 10950.697406058636/10957.5 [00:59<00:00, 126.43time unit/s]c:\\Users\\HP\\miniconda3\\Lib\\site-packages\\tqdm\\std.py:524: TqdmWarning: clamping frac to range [0, 1]\n",
      "  full_bar = Bar(frac,\n",
      "Progress replication 0: 100%|██████████| 10957.930089747902/10957.5 [00:59<00:00, 183.99time unit/s]\n"
     ]
    }
   ],
   "source": [
    "average_waiting_times, number_of_matches_list, results_p2_no, results_p2_ll, results_p2_fl = run_simulation(events_per_replication_p2,  \n",
    "                                                                                                            replicates, cox_prop, \n",
    "                                                                                                            policy='p2', verbose=False)"
   ]
  },
  {
   "cell_type": "markdown",
   "metadata": {},
   "source": [
    "### recipients who receive a kidney"
   ]
  },
  {
   "cell_type": "code",
   "execution_count": null,
   "metadata": {},
   "outputs": [],
   "source": [
    "df_waiting_time, df_gender = get_summary_tables(results_p2_no, ethcat_mapping, real_ethcat_df, real_gender_df)"
   ]
  },
  {
   "cell_type": "code",
   "execution_count": null,
   "metadata": {},
   "outputs": [
    {
     "data": {
      "text/html": [
       "<div>\n",
       "<style scoped>\n",
       "    .dataframe tbody tr th:only-of-type {\n",
       "        vertical-align: middle;\n",
       "    }\n",
       "\n",
       "    .dataframe tbody tr th {\n",
       "        vertical-align: top;\n",
       "    }\n",
       "\n",
       "    .dataframe thead th {\n",
       "        text-align: right;\n",
       "    }\n",
       "</style>\n",
       "<table border=\"1\" class=\"dataframe\">\n",
       "  <thead>\n",
       "    <tr style=\"text-align: right;\">\n",
       "      <th></th>\n",
       "      <th>ethcat</th>\n",
       "      <th>wt_mean</th>\n",
       "      <th>wt_std</th>\n",
       "      <th>count_mean</th>\n",
       "      <th>count_std</th>\n",
       "      <th>st_mean</th>\n",
       "      <th>st_std</th>\n",
       "      <th>prop_simu</th>\n",
       "      <th>sample_proportion</th>\n",
       "    </tr>\n",
       "  </thead>\n",
       "  <tbody>\n",
       "    <tr>\n",
       "      <th>0</th>\n",
       "      <td>Amer Ind/Alaska Native, Non-Hispanic</td>\n",
       "      <td>840.475</td>\n",
       "      <td>NaN</td>\n",
       "      <td>13.0</td>\n",
       "      <td>NaN</td>\n",
       "      <td>2844.446</td>\n",
       "      <td>NaN</td>\n",
       "      <td>0.011</td>\n",
       "      <td>0.014</td>\n",
       "    </tr>\n",
       "    <tr>\n",
       "      <th>1</th>\n",
       "      <td>Asian, Non-Hispanic</td>\n",
       "      <td>938.248</td>\n",
       "      <td>NaN</td>\n",
       "      <td>51.0</td>\n",
       "      <td>NaN</td>\n",
       "      <td>2872.710</td>\n",
       "      <td>NaN</td>\n",
       "      <td>0.044</td>\n",
       "      <td>0.053</td>\n",
       "    </tr>\n",
       "    <tr>\n",
       "      <th>2</th>\n",
       "      <td>Black, Non-Hispanic</td>\n",
       "      <td>990.609</td>\n",
       "      <td>NaN</td>\n",
       "      <td>380.0</td>\n",
       "      <td>NaN</td>\n",
       "      <td>2883.395</td>\n",
       "      <td>NaN</td>\n",
       "      <td>0.325</td>\n",
       "      <td>0.325</td>\n",
       "    </tr>\n",
       "    <tr>\n",
       "      <th>3</th>\n",
       "      <td>Hispanic/Latino</td>\n",
       "      <td>932.886</td>\n",
       "      <td>NaN</td>\n",
       "      <td>206.0</td>\n",
       "      <td>NaN</td>\n",
       "      <td>2886.561</td>\n",
       "      <td>NaN</td>\n",
       "      <td>0.176</td>\n",
       "      <td>0.160</td>\n",
       "    </tr>\n",
       "    <tr>\n",
       "      <th>4</th>\n",
       "      <td>Multiracial, Non-Hispanic</td>\n",
       "      <td>965.060</td>\n",
       "      <td>NaN</td>\n",
       "      <td>6.0</td>\n",
       "      <td>NaN</td>\n",
       "      <td>2890.854</td>\n",
       "      <td>NaN</td>\n",
       "      <td>0.005</td>\n",
       "      <td>0.005</td>\n",
       "    </tr>\n",
       "    <tr>\n",
       "      <th>5</th>\n",
       "      <td>Native Hawaiian/Other Pacific Islander, Non-Hi...</td>\n",
       "      <td>832.604</td>\n",
       "      <td>NaN</td>\n",
       "      <td>4.0</td>\n",
       "      <td>NaN</td>\n",
       "      <td>2845.280</td>\n",
       "      <td>NaN</td>\n",
       "      <td>0.003</td>\n",
       "      <td>0.004</td>\n",
       "    </tr>\n",
       "    <tr>\n",
       "      <th>6</th>\n",
       "      <td>White, Non-Hispanic</td>\n",
       "      <td>1009.434</td>\n",
       "      <td>NaN</td>\n",
       "      <td>509.0</td>\n",
       "      <td>NaN</td>\n",
       "      <td>2894.276</td>\n",
       "      <td>NaN</td>\n",
       "      <td>0.435</td>\n",
       "      <td>0.439</td>\n",
       "    </tr>\n",
       "  </tbody>\n",
       "</table>\n",
       "</div>"
      ],
      "text/plain": [
       "                                              ethcat   wt_mean  wt_std  \\\n",
       "0               Amer Ind/Alaska Native, Non-Hispanic   840.475     NaN   \n",
       "1                                Asian, Non-Hispanic   938.248     NaN   \n",
       "2                                Black, Non-Hispanic   990.609     NaN   \n",
       "3                                    Hispanic/Latino   932.886     NaN   \n",
       "4                          Multiracial, Non-Hispanic   965.060     NaN   \n",
       "5  Native Hawaiian/Other Pacific Islander, Non-Hi...   832.604     NaN   \n",
       "6                                White, Non-Hispanic  1009.434     NaN   \n",
       "\n",
       "   count_mean  count_std   st_mean  st_std  prop_simu  sample_proportion  \n",
       "0        13.0        NaN  2844.446     NaN      0.011              0.014  \n",
       "1        51.0        NaN  2872.710     NaN      0.044              0.053  \n",
       "2       380.0        NaN  2883.395     NaN      0.325              0.325  \n",
       "3       206.0        NaN  2886.561     NaN      0.176              0.160  \n",
       "4         6.0        NaN  2890.854     NaN      0.005              0.005  \n",
       "5         4.0        NaN  2845.280     NaN      0.003              0.004  \n",
       "6       509.0        NaN  2894.276     NaN      0.435              0.439  "
      ]
     },
     "execution_count": 117,
     "metadata": {},
     "output_type": "execute_result"
    }
   ],
   "source": [
    "df_waiting_time"
   ]
  },
  {
   "cell_type": "code",
   "execution_count": null,
   "metadata": {},
   "outputs": [
    {
     "data": {
      "text/html": [
       "<div>\n",
       "<style scoped>\n",
       "    .dataframe tbody tr th:only-of-type {\n",
       "        vertical-align: middle;\n",
       "    }\n",
       "\n",
       "    .dataframe tbody tr th {\n",
       "        vertical-align: top;\n",
       "    }\n",
       "\n",
       "    .dataframe thead th {\n",
       "        text-align: right;\n",
       "    }\n",
       "</style>\n",
       "<table border=\"1\" class=\"dataframe\">\n",
       "  <thead>\n",
       "    <tr style=\"text-align: right;\">\n",
       "      <th></th>\n",
       "      <th>gender</th>\n",
       "      <th>wt_mean</th>\n",
       "      <th>wt_std</th>\n",
       "      <th>count_mean</th>\n",
       "      <th>count_std</th>\n",
       "      <th>st_mean</th>\n",
       "      <th>st_std</th>\n",
       "      <th>prop_sim</th>\n",
       "      <th>sample_proportion</th>\n",
       "    </tr>\n",
       "  </thead>\n",
       "  <tbody>\n",
       "    <tr>\n",
       "      <th>0</th>\n",
       "      <td>F</td>\n",
       "      <td>1003.795369</td>\n",
       "      <td>NaN</td>\n",
       "      <td>441.0</td>\n",
       "      <td>NaN</td>\n",
       "      <td>2878.232836</td>\n",
       "      <td>NaN</td>\n",
       "      <td>0.377246</td>\n",
       "      <td>0.35173</td>\n",
       "    </tr>\n",
       "    <tr>\n",
       "      <th>1</th>\n",
       "      <td>M</td>\n",
       "      <td>972.021617</td>\n",
       "      <td>NaN</td>\n",
       "      <td>728.0</td>\n",
       "      <td>NaN</td>\n",
       "      <td>2893.433289</td>\n",
       "      <td>NaN</td>\n",
       "      <td>0.622754</td>\n",
       "      <td>0.64827</td>\n",
       "    </tr>\n",
       "  </tbody>\n",
       "</table>\n",
       "</div>"
      ],
      "text/plain": [
       "  gender      wt_mean  wt_std  count_mean  count_std      st_mean  st_std  \\\n",
       "0      F  1003.795369     NaN       441.0        NaN  2878.232836     NaN   \n",
       "1      M   972.021617     NaN       728.0        NaN  2893.433289     NaN   \n",
       "\n",
       "   prop_sim  sample_proportion  \n",
       "0  0.377246            0.35173  \n",
       "1  0.622754            0.64827  "
      ]
     },
     "execution_count": 118,
     "metadata": {},
     "output_type": "execute_result"
    }
   ],
   "source": [
    "df_gender"
   ]
  },
  {
   "cell_type": "markdown",
   "metadata": {},
   "source": [
    "### patients who leave the waitlist"
   ]
  },
  {
   "cell_type": "code",
   "execution_count": null,
   "metadata": {},
   "outputs": [],
   "source": [
    "df_waiting_time, df_gender = get_summary_tables(results_p2_ll, ethcat_mapping, real_ethcat_df, real_gender_df)"
   ]
  },
  {
   "cell_type": "code",
   "execution_count": null,
   "metadata": {},
   "outputs": [
    {
     "data": {
      "text/html": [
       "<div>\n",
       "<style scoped>\n",
       "    .dataframe tbody tr th:only-of-type {\n",
       "        vertical-align: middle;\n",
       "    }\n",
       "\n",
       "    .dataframe tbody tr th {\n",
       "        vertical-align: top;\n",
       "    }\n",
       "\n",
       "    .dataframe thead th {\n",
       "        text-align: right;\n",
       "    }\n",
       "</style>\n",
       "<table border=\"1\" class=\"dataframe\">\n",
       "  <thead>\n",
       "    <tr style=\"text-align: right;\">\n",
       "      <th></th>\n",
       "      <th>ethcat</th>\n",
       "      <th>wt_mean</th>\n",
       "      <th>wt_std</th>\n",
       "      <th>count_mean</th>\n",
       "      <th>count_std</th>\n",
       "      <th>st_mean</th>\n",
       "      <th>st_std</th>\n",
       "      <th>prop_simu</th>\n",
       "      <th>sample_proportion</th>\n",
       "    </tr>\n",
       "  </thead>\n",
       "  <tbody>\n",
       "    <tr>\n",
       "      <th>0</th>\n",
       "      <td>Amer Ind/Alaska Native, Non-Hispanic</td>\n",
       "      <td>468.791</td>\n",
       "      <td>NaN</td>\n",
       "      <td>4.0</td>\n",
       "      <td>NaN</td>\n",
       "      <td>0.0</td>\n",
       "      <td>NaN</td>\n",
       "      <td>0.010</td>\n",
       "      <td>0.014</td>\n",
       "    </tr>\n",
       "    <tr>\n",
       "      <th>1</th>\n",
       "      <td>Asian, Non-Hispanic</td>\n",
       "      <td>654.592</td>\n",
       "      <td>NaN</td>\n",
       "      <td>24.0</td>\n",
       "      <td>NaN</td>\n",
       "      <td>0.0</td>\n",
       "      <td>NaN</td>\n",
       "      <td>0.060</td>\n",
       "      <td>0.053</td>\n",
       "    </tr>\n",
       "    <tr>\n",
       "      <th>2</th>\n",
       "      <td>Black, Non-Hispanic</td>\n",
       "      <td>517.367</td>\n",
       "      <td>NaN</td>\n",
       "      <td>136.0</td>\n",
       "      <td>NaN</td>\n",
       "      <td>0.0</td>\n",
       "      <td>NaN</td>\n",
       "      <td>0.338</td>\n",
       "      <td>0.325</td>\n",
       "    </tr>\n",
       "    <tr>\n",
       "      <th>3</th>\n",
       "      <td>Hispanic/Latino</td>\n",
       "      <td>563.719</td>\n",
       "      <td>NaN</td>\n",
       "      <td>73.0</td>\n",
       "      <td>NaN</td>\n",
       "      <td>0.0</td>\n",
       "      <td>NaN</td>\n",
       "      <td>0.182</td>\n",
       "      <td>0.160</td>\n",
       "    </tr>\n",
       "    <tr>\n",
       "      <th>4</th>\n",
       "      <td>Native Hawaiian/Other Pacific Islander, Non-Hi...</td>\n",
       "      <td>301.240</td>\n",
       "      <td>NaN</td>\n",
       "      <td>1.0</td>\n",
       "      <td>NaN</td>\n",
       "      <td>0.0</td>\n",
       "      <td>NaN</td>\n",
       "      <td>0.002</td>\n",
       "      <td>0.004</td>\n",
       "    </tr>\n",
       "    <tr>\n",
       "      <th>5</th>\n",
       "      <td>White, Non-Hispanic</td>\n",
       "      <td>512.124</td>\n",
       "      <td>NaN</td>\n",
       "      <td>164.0</td>\n",
       "      <td>NaN</td>\n",
       "      <td>0.0</td>\n",
       "      <td>NaN</td>\n",
       "      <td>0.408</td>\n",
       "      <td>0.439</td>\n",
       "    </tr>\n",
       "  </tbody>\n",
       "</table>\n",
       "</div>"
      ],
      "text/plain": [
       "                                              ethcat  wt_mean  wt_std  \\\n",
       "0               Amer Ind/Alaska Native, Non-Hispanic  468.791     NaN   \n",
       "1                                Asian, Non-Hispanic  654.592     NaN   \n",
       "2                                Black, Non-Hispanic  517.367     NaN   \n",
       "3                                    Hispanic/Latino  563.719     NaN   \n",
       "4  Native Hawaiian/Other Pacific Islander, Non-Hi...  301.240     NaN   \n",
       "5                                White, Non-Hispanic  512.124     NaN   \n",
       "\n",
       "   count_mean  count_std  st_mean  st_std  prop_simu  sample_proportion  \n",
       "0         4.0        NaN      0.0     NaN      0.010              0.014  \n",
       "1        24.0        NaN      0.0     NaN      0.060              0.053  \n",
       "2       136.0        NaN      0.0     NaN      0.338              0.325  \n",
       "3        73.0        NaN      0.0     NaN      0.182              0.160  \n",
       "4         1.0        NaN      0.0     NaN      0.002              0.004  \n",
       "5       164.0        NaN      0.0     NaN      0.408              0.439  "
      ]
     },
     "execution_count": 120,
     "metadata": {},
     "output_type": "execute_result"
    }
   ],
   "source": [
    "df_waiting_time"
   ]
  },
  {
   "cell_type": "code",
   "execution_count": null,
   "metadata": {},
   "outputs": [
    {
     "data": {
      "text/html": [
       "<div>\n",
       "<style scoped>\n",
       "    .dataframe tbody tr th:only-of-type {\n",
       "        vertical-align: middle;\n",
       "    }\n",
       "\n",
       "    .dataframe tbody tr th {\n",
       "        vertical-align: top;\n",
       "    }\n",
       "\n",
       "    .dataframe thead th {\n",
       "        text-align: right;\n",
       "    }\n",
       "</style>\n",
       "<table border=\"1\" class=\"dataframe\">\n",
       "  <thead>\n",
       "    <tr style=\"text-align: right;\">\n",
       "      <th></th>\n",
       "      <th>gender</th>\n",
       "      <th>wt_mean</th>\n",
       "      <th>wt_std</th>\n",
       "      <th>count_mean</th>\n",
       "      <th>count_std</th>\n",
       "      <th>st_mean</th>\n",
       "      <th>st_std</th>\n",
       "      <th>prop_sim</th>\n",
       "      <th>sample_proportion</th>\n",
       "    </tr>\n",
       "  </thead>\n",
       "  <tbody>\n",
       "    <tr>\n",
       "      <th>0</th>\n",
       "      <td>F</td>\n",
       "      <td>508.855658</td>\n",
       "      <td>NaN</td>\n",
       "      <td>134.0</td>\n",
       "      <td>NaN</td>\n",
       "      <td>0.0</td>\n",
       "      <td>NaN</td>\n",
       "      <td>0.333333</td>\n",
       "      <td>0.35173</td>\n",
       "    </tr>\n",
       "    <tr>\n",
       "      <th>1</th>\n",
       "      <td>M</td>\n",
       "      <td>541.797277</td>\n",
       "      <td>NaN</td>\n",
       "      <td>268.0</td>\n",
       "      <td>NaN</td>\n",
       "      <td>0.0</td>\n",
       "      <td>NaN</td>\n",
       "      <td>0.666667</td>\n",
       "      <td>0.64827</td>\n",
       "    </tr>\n",
       "  </tbody>\n",
       "</table>\n",
       "</div>"
      ],
      "text/plain": [
       "  gender     wt_mean  wt_std  count_mean  count_std  st_mean  st_std  \\\n",
       "0      F  508.855658     NaN       134.0        NaN      0.0     NaN   \n",
       "1      M  541.797277     NaN       268.0        NaN      0.0     NaN   \n",
       "\n",
       "   prop_sim  sample_proportion  \n",
       "0  0.333333            0.35173  \n",
       "1  0.666667            0.64827  "
      ]
     },
     "execution_count": 121,
     "metadata": {},
     "output_type": "execute_result"
    }
   ],
   "source": [
    "df_gender"
   ]
  },
  {
   "cell_type": "markdown",
   "metadata": {},
   "source": [
    "### patients who stay in final list"
   ]
  },
  {
   "cell_type": "code",
   "execution_count": null,
   "metadata": {},
   "outputs": [],
   "source": [
    "df_waiting_time, df_gender = get_summary_tables(results_p2_fl, ethcat_mapping, real_ethcat_df, real_gender_df)"
   ]
  },
  {
   "cell_type": "code",
   "execution_count": null,
   "metadata": {},
   "outputs": [
    {
     "data": {
      "text/html": [
       "<div>\n",
       "<style scoped>\n",
       "    .dataframe tbody tr th:only-of-type {\n",
       "        vertical-align: middle;\n",
       "    }\n",
       "\n",
       "    .dataframe tbody tr th {\n",
       "        vertical-align: top;\n",
       "    }\n",
       "\n",
       "    .dataframe thead th {\n",
       "        text-align: right;\n",
       "    }\n",
       "</style>\n",
       "<table border=\"1\" class=\"dataframe\">\n",
       "  <thead>\n",
       "    <tr style=\"text-align: right;\">\n",
       "      <th></th>\n",
       "      <th>ethcat</th>\n",
       "      <th>wt_mean</th>\n",
       "      <th>wt_std</th>\n",
       "      <th>count_mean</th>\n",
       "      <th>count_std</th>\n",
       "      <th>st_mean</th>\n",
       "      <th>st_std</th>\n",
       "      <th>prop_simu</th>\n",
       "      <th>sample_proportion</th>\n",
       "    </tr>\n",
       "  </thead>\n",
       "  <tbody>\n",
       "    <tr>\n",
       "      <th>0</th>\n",
       "      <td>Amer Ind/Alaska Native, Non-Hispanic</td>\n",
       "      <td>469.996</td>\n",
       "      <td>NaN</td>\n",
       "      <td>3.0</td>\n",
       "      <td>NaN</td>\n",
       "      <td>0.0</td>\n",
       "      <td>NaN</td>\n",
       "      <td>0.016</td>\n",
       "      <td>0.014</td>\n",
       "    </tr>\n",
       "    <tr>\n",
       "      <th>1</th>\n",
       "      <td>Asian, Non-Hispanic</td>\n",
       "      <td>405.238</td>\n",
       "      <td>NaN</td>\n",
       "      <td>10.0</td>\n",
       "      <td>NaN</td>\n",
       "      <td>0.0</td>\n",
       "      <td>NaN</td>\n",
       "      <td>0.053</td>\n",
       "      <td>0.053</td>\n",
       "    </tr>\n",
       "    <tr>\n",
       "      <th>2</th>\n",
       "      <td>Black, Non-Hispanic</td>\n",
       "      <td>671.238</td>\n",
       "      <td>NaN</td>\n",
       "      <td>64.0</td>\n",
       "      <td>NaN</td>\n",
       "      <td>0.0</td>\n",
       "      <td>NaN</td>\n",
       "      <td>0.340</td>\n",
       "      <td>0.325</td>\n",
       "    </tr>\n",
       "    <tr>\n",
       "      <th>3</th>\n",
       "      <td>Hispanic/Latino</td>\n",
       "      <td>427.271</td>\n",
       "      <td>NaN</td>\n",
       "      <td>39.0</td>\n",
       "      <td>NaN</td>\n",
       "      <td>0.0</td>\n",
       "      <td>NaN</td>\n",
       "      <td>0.207</td>\n",
       "      <td>0.160</td>\n",
       "    </tr>\n",
       "    <tr>\n",
       "      <th>4</th>\n",
       "      <td>Multiracial, Non-Hispanic</td>\n",
       "      <td>390.758</td>\n",
       "      <td>NaN</td>\n",
       "      <td>2.0</td>\n",
       "      <td>NaN</td>\n",
       "      <td>0.0</td>\n",
       "      <td>NaN</td>\n",
       "      <td>0.011</td>\n",
       "      <td>0.005</td>\n",
       "    </tr>\n",
       "    <tr>\n",
       "      <th>5</th>\n",
       "      <td>Native Hawaiian/Other Pacific Islander, Non-Hi...</td>\n",
       "      <td>828.814</td>\n",
       "      <td>NaN</td>\n",
       "      <td>1.0</td>\n",
       "      <td>NaN</td>\n",
       "      <td>0.0</td>\n",
       "      <td>NaN</td>\n",
       "      <td>0.005</td>\n",
       "      <td>0.004</td>\n",
       "    </tr>\n",
       "    <tr>\n",
       "      <th>6</th>\n",
       "      <td>White, Non-Hispanic</td>\n",
       "      <td>536.863</td>\n",
       "      <td>NaN</td>\n",
       "      <td>69.0</td>\n",
       "      <td>NaN</td>\n",
       "      <td>0.0</td>\n",
       "      <td>NaN</td>\n",
       "      <td>0.367</td>\n",
       "      <td>0.439</td>\n",
       "    </tr>\n",
       "  </tbody>\n",
       "</table>\n",
       "</div>"
      ],
      "text/plain": [
       "                                              ethcat  wt_mean  wt_std  \\\n",
       "0               Amer Ind/Alaska Native, Non-Hispanic  469.996     NaN   \n",
       "1                                Asian, Non-Hispanic  405.238     NaN   \n",
       "2                                Black, Non-Hispanic  671.238     NaN   \n",
       "3                                    Hispanic/Latino  427.271     NaN   \n",
       "4                          Multiracial, Non-Hispanic  390.758     NaN   \n",
       "5  Native Hawaiian/Other Pacific Islander, Non-Hi...  828.814     NaN   \n",
       "6                                White, Non-Hispanic  536.863     NaN   \n",
       "\n",
       "   count_mean  count_std  st_mean  st_std  prop_simu  sample_proportion  \n",
       "0         3.0        NaN      0.0     NaN      0.016              0.014  \n",
       "1        10.0        NaN      0.0     NaN      0.053              0.053  \n",
       "2        64.0        NaN      0.0     NaN      0.340              0.325  \n",
       "3        39.0        NaN      0.0     NaN      0.207              0.160  \n",
       "4         2.0        NaN      0.0     NaN      0.011              0.005  \n",
       "5         1.0        NaN      0.0     NaN      0.005              0.004  \n",
       "6        69.0        NaN      0.0     NaN      0.367              0.439  "
      ]
     },
     "execution_count": 123,
     "metadata": {},
     "output_type": "execute_result"
    }
   ],
   "source": [
    "df_waiting_time"
   ]
  },
  {
   "cell_type": "code",
   "execution_count": null,
   "metadata": {},
   "outputs": [
    {
     "data": {
      "text/html": [
       "<div>\n",
       "<style scoped>\n",
       "    .dataframe tbody tr th:only-of-type {\n",
       "        vertical-align: middle;\n",
       "    }\n",
       "\n",
       "    .dataframe tbody tr th {\n",
       "        vertical-align: top;\n",
       "    }\n",
       "\n",
       "    .dataframe thead th {\n",
       "        text-align: right;\n",
       "    }\n",
       "</style>\n",
       "<table border=\"1\" class=\"dataframe\">\n",
       "  <thead>\n",
       "    <tr style=\"text-align: right;\">\n",
       "      <th></th>\n",
       "      <th>gender</th>\n",
       "      <th>wt_mean</th>\n",
       "      <th>wt_std</th>\n",
       "      <th>count_mean</th>\n",
       "      <th>count_std</th>\n",
       "      <th>st_mean</th>\n",
       "      <th>st_std</th>\n",
       "      <th>prop_sim</th>\n",
       "      <th>sample_proportion</th>\n",
       "    </tr>\n",
       "  </thead>\n",
       "  <tbody>\n",
       "    <tr>\n",
       "      <th>0</th>\n",
       "      <td>F</td>\n",
       "      <td>541.995719</td>\n",
       "      <td>NaN</td>\n",
       "      <td>65.0</td>\n",
       "      <td>NaN</td>\n",
       "      <td>0.0</td>\n",
       "      <td>NaN</td>\n",
       "      <td>0.345745</td>\n",
       "      <td>0.35173</td>\n",
       "    </tr>\n",
       "    <tr>\n",
       "      <th>1</th>\n",
       "      <td>M</td>\n",
       "      <td>556.986504</td>\n",
       "      <td>NaN</td>\n",
       "      <td>123.0</td>\n",
       "      <td>NaN</td>\n",
       "      <td>0.0</td>\n",
       "      <td>NaN</td>\n",
       "      <td>0.654255</td>\n",
       "      <td>0.64827</td>\n",
       "    </tr>\n",
       "  </tbody>\n",
       "</table>\n",
       "</div>"
      ],
      "text/plain": [
       "  gender     wt_mean  wt_std  count_mean  count_std  st_mean  st_std  \\\n",
       "0      F  541.995719     NaN        65.0        NaN      0.0     NaN   \n",
       "1      M  556.986504     NaN       123.0        NaN      0.0     NaN   \n",
       "\n",
       "   prop_sim  sample_proportion  \n",
       "0  0.345745            0.35173  \n",
       "1  0.654255            0.64827  "
      ]
     },
     "execution_count": 124,
     "metadata": {},
     "output_type": "execute_result"
    }
   ],
   "source": [
    "df_gender"
   ]
  },
  {
   "cell_type": "markdown",
   "metadata": {},
   "source": [
    "## Policy 3"
   ]
  },
  {
   "cell_type": "code",
   "execution_count": null,
   "metadata": {},
   "outputs": [
    {
     "name": "stdout",
     "output_type": "stream",
     "text": [
      "Replicate # 0\n"
     ]
    },
    {
     "name": "stderr",
     "output_type": "stream",
     "text": [
      "Progress replication 0: 10961.989130414195time unit [12:08, 15.05time unit/s]                      \n"
     ]
    }
   ],
   "source": [
    "average_waiting_times, number_of_matches_list, results_p3_no, results_p3_ll, results_p3_fl = run_simulation(events_per_replication_p3,  \n",
    "                                                                                                            replicates, cox_prop, \n",
    "                                                                                                            policy='p3', verbose=False)"
   ]
  },
  {
   "cell_type": "markdown",
   "metadata": {},
   "source": [
    "### recipients who receive a kidney"
   ]
  },
  {
   "cell_type": "code",
   "execution_count": null,
   "metadata": {},
   "outputs": [],
   "source": [
    "df_waiting_time, df_gender = get_summary_tables(results_p3_no, ethcat_mapping, real_ethcat_df, real_gender_df)"
   ]
  },
  {
   "cell_type": "code",
   "execution_count": null,
   "metadata": {},
   "outputs": [
    {
     "data": {
      "text/html": [
       "<div>\n",
       "<style scoped>\n",
       "    .dataframe tbody tr th:only-of-type {\n",
       "        vertical-align: middle;\n",
       "    }\n",
       "\n",
       "    .dataframe tbody tr th {\n",
       "        vertical-align: top;\n",
       "    }\n",
       "\n",
       "    .dataframe thead th {\n",
       "        text-align: right;\n",
       "    }\n",
       "</style>\n",
       "<table border=\"1\" class=\"dataframe\">\n",
       "  <thead>\n",
       "    <tr style=\"text-align: right;\">\n",
       "      <th></th>\n",
       "      <th>ethcat</th>\n",
       "      <th>wt_mean</th>\n",
       "      <th>wt_std</th>\n",
       "      <th>count_mean</th>\n",
       "      <th>count_std</th>\n",
       "      <th>st_mean</th>\n",
       "      <th>st_std</th>\n",
       "      <th>prop_simu</th>\n",
       "      <th>sample_proportion</th>\n",
       "    </tr>\n",
       "  </thead>\n",
       "  <tbody>\n",
       "    <tr>\n",
       "      <th>0</th>\n",
       "      <td>Amer Ind/Alaska Native, Non-Hispanic</td>\n",
       "      <td>845.822</td>\n",
       "      <td>NaN</td>\n",
       "      <td>12.0</td>\n",
       "      <td>NaN</td>\n",
       "      <td>2955.612</td>\n",
       "      <td>NaN</td>\n",
       "      <td>0.010</td>\n",
       "      <td>0.014</td>\n",
       "    </tr>\n",
       "    <tr>\n",
       "      <th>1</th>\n",
       "      <td>Asian, Non-Hispanic</td>\n",
       "      <td>960.717</td>\n",
       "      <td>NaN</td>\n",
       "      <td>53.0</td>\n",
       "      <td>NaN</td>\n",
       "      <td>2905.420</td>\n",
       "      <td>NaN</td>\n",
       "      <td>0.046</td>\n",
       "      <td>0.053</td>\n",
       "    </tr>\n",
       "    <tr>\n",
       "      <th>2</th>\n",
       "      <td>Black, Non-Hispanic</td>\n",
       "      <td>993.715</td>\n",
       "      <td>NaN</td>\n",
       "      <td>377.0</td>\n",
       "      <td>NaN</td>\n",
       "      <td>2895.676</td>\n",
       "      <td>NaN</td>\n",
       "      <td>0.324</td>\n",
       "      <td>0.325</td>\n",
       "    </tr>\n",
       "    <tr>\n",
       "      <th>3</th>\n",
       "      <td>Hispanic/Latino</td>\n",
       "      <td>938.351</td>\n",
       "      <td>NaN</td>\n",
       "      <td>202.0</td>\n",
       "      <td>NaN</td>\n",
       "      <td>2885.954</td>\n",
       "      <td>NaN</td>\n",
       "      <td>0.174</td>\n",
       "      <td>0.160</td>\n",
       "    </tr>\n",
       "    <tr>\n",
       "      <th>4</th>\n",
       "      <td>Multiracial, Non-Hispanic</td>\n",
       "      <td>940.781</td>\n",
       "      <td>NaN</td>\n",
       "      <td>6.0</td>\n",
       "      <td>NaN</td>\n",
       "      <td>2712.192</td>\n",
       "      <td>NaN</td>\n",
       "      <td>0.005</td>\n",
       "      <td>0.005</td>\n",
       "    </tr>\n",
       "    <tr>\n",
       "      <th>5</th>\n",
       "      <td>Native Hawaiian/Other Pacific Islander, Non-Hi...</td>\n",
       "      <td>824.355</td>\n",
       "      <td>NaN</td>\n",
       "      <td>4.0</td>\n",
       "      <td>NaN</td>\n",
       "      <td>2864.132</td>\n",
       "      <td>NaN</td>\n",
       "      <td>0.003</td>\n",
       "      <td>0.004</td>\n",
       "    </tr>\n",
       "    <tr>\n",
       "      <th>6</th>\n",
       "      <td>White, Non-Hispanic</td>\n",
       "      <td>981.518</td>\n",
       "      <td>NaN</td>\n",
       "      <td>509.0</td>\n",
       "      <td>NaN</td>\n",
       "      <td>2896.880</td>\n",
       "      <td>NaN</td>\n",
       "      <td>0.438</td>\n",
       "      <td>0.439</td>\n",
       "    </tr>\n",
       "  </tbody>\n",
       "</table>\n",
       "</div>"
      ],
      "text/plain": [
       "                                              ethcat  wt_mean  wt_std  \\\n",
       "0               Amer Ind/Alaska Native, Non-Hispanic  845.822     NaN   \n",
       "1                                Asian, Non-Hispanic  960.717     NaN   \n",
       "2                                Black, Non-Hispanic  993.715     NaN   \n",
       "3                                    Hispanic/Latino  938.351     NaN   \n",
       "4                          Multiracial, Non-Hispanic  940.781     NaN   \n",
       "5  Native Hawaiian/Other Pacific Islander, Non-Hi...  824.355     NaN   \n",
       "6                                White, Non-Hispanic  981.518     NaN   \n",
       "\n",
       "   count_mean  count_std   st_mean  st_std  prop_simu  sample_proportion  \n",
       "0        12.0        NaN  2955.612     NaN      0.010              0.014  \n",
       "1        53.0        NaN  2905.420     NaN      0.046              0.053  \n",
       "2       377.0        NaN  2895.676     NaN      0.324              0.325  \n",
       "3       202.0        NaN  2885.954     NaN      0.174              0.160  \n",
       "4         6.0        NaN  2712.192     NaN      0.005              0.005  \n",
       "5         4.0        NaN  2864.132     NaN      0.003              0.004  \n",
       "6       509.0        NaN  2896.880     NaN      0.438              0.439  "
      ]
     },
     "execution_count": 127,
     "metadata": {},
     "output_type": "execute_result"
    }
   ],
   "source": [
    "df_waiting_time"
   ]
  },
  {
   "cell_type": "code",
   "execution_count": null,
   "metadata": {},
   "outputs": [
    {
     "data": {
      "text/html": [
       "<div>\n",
       "<style scoped>\n",
       "    .dataframe tbody tr th:only-of-type {\n",
       "        vertical-align: middle;\n",
       "    }\n",
       "\n",
       "    .dataframe tbody tr th {\n",
       "        vertical-align: top;\n",
       "    }\n",
       "\n",
       "    .dataframe thead th {\n",
       "        text-align: right;\n",
       "    }\n",
       "</style>\n",
       "<table border=\"1\" class=\"dataframe\">\n",
       "  <thead>\n",
       "    <tr style=\"text-align: right;\">\n",
       "      <th></th>\n",
       "      <th>gender</th>\n",
       "      <th>wt_mean</th>\n",
       "      <th>wt_std</th>\n",
       "      <th>count_mean</th>\n",
       "      <th>count_std</th>\n",
       "      <th>st_mean</th>\n",
       "      <th>st_std</th>\n",
       "      <th>prop_sim</th>\n",
       "      <th>sample_proportion</th>\n",
       "    </tr>\n",
       "  </thead>\n",
       "  <tbody>\n",
       "    <tr>\n",
       "      <th>0</th>\n",
       "      <td>F</td>\n",
       "      <td>986.703629</td>\n",
       "      <td>NaN</td>\n",
       "      <td>438.0</td>\n",
       "      <td>NaN</td>\n",
       "      <td>2894.190222</td>\n",
       "      <td>NaN</td>\n",
       "      <td>0.376612</td>\n",
       "      <td>0.35173</td>\n",
       "    </tr>\n",
       "    <tr>\n",
       "      <th>1</th>\n",
       "      <td>M</td>\n",
       "      <td>967.729475</td>\n",
       "      <td>NaN</td>\n",
       "      <td>725.0</td>\n",
       "      <td>NaN</td>\n",
       "      <td>2894.722053</td>\n",
       "      <td>NaN</td>\n",
       "      <td>0.623388</td>\n",
       "      <td>0.64827</td>\n",
       "    </tr>\n",
       "  </tbody>\n",
       "</table>\n",
       "</div>"
      ],
      "text/plain": [
       "  gender     wt_mean  wt_std  count_mean  count_std      st_mean  st_std  \\\n",
       "0      F  986.703629     NaN       438.0        NaN  2894.190222     NaN   \n",
       "1      M  967.729475     NaN       725.0        NaN  2894.722053     NaN   \n",
       "\n",
       "   prop_sim  sample_proportion  \n",
       "0  0.376612            0.35173  \n",
       "1  0.623388            0.64827  "
      ]
     },
     "execution_count": 128,
     "metadata": {},
     "output_type": "execute_result"
    }
   ],
   "source": [
    "df_gender"
   ]
  },
  {
   "cell_type": "markdown",
   "metadata": {},
   "source": [
    "### patients who leave the waitlist"
   ]
  },
  {
   "cell_type": "code",
   "execution_count": null,
   "metadata": {},
   "outputs": [],
   "source": [
    "df_waiting_time, df_gender = get_summary_tables(results_p3_ll, ethcat_mapping, real_ethcat_df, real_gender_df)"
   ]
  },
  {
   "cell_type": "code",
   "execution_count": null,
   "metadata": {},
   "outputs": [
    {
     "data": {
      "text/html": [
       "<div>\n",
       "<style scoped>\n",
       "    .dataframe tbody tr th:only-of-type {\n",
       "        vertical-align: middle;\n",
       "    }\n",
       "\n",
       "    .dataframe tbody tr th {\n",
       "        vertical-align: top;\n",
       "    }\n",
       "\n",
       "    .dataframe thead th {\n",
       "        text-align: right;\n",
       "    }\n",
       "</style>\n",
       "<table border=\"1\" class=\"dataframe\">\n",
       "  <thead>\n",
       "    <tr style=\"text-align: right;\">\n",
       "      <th></th>\n",
       "      <th>ethcat</th>\n",
       "      <th>wt_mean</th>\n",
       "      <th>wt_std</th>\n",
       "      <th>count_mean</th>\n",
       "      <th>count_std</th>\n",
       "      <th>st_mean</th>\n",
       "      <th>st_std</th>\n",
       "      <th>prop_simu</th>\n",
       "      <th>sample_proportion</th>\n",
       "    </tr>\n",
       "  </thead>\n",
       "  <tbody>\n",
       "    <tr>\n",
       "      <th>0</th>\n",
       "      <td>Amer Ind/Alaska Native, Non-Hispanic</td>\n",
       "      <td>615.953</td>\n",
       "      <td>NaN</td>\n",
       "      <td>3.0</td>\n",
       "      <td>NaN</td>\n",
       "      <td>0.0</td>\n",
       "      <td>NaN</td>\n",
       "      <td>0.008</td>\n",
       "      <td>0.014</td>\n",
       "    </tr>\n",
       "    <tr>\n",
       "      <th>1</th>\n",
       "      <td>Asian, Non-Hispanic</td>\n",
       "      <td>598.874</td>\n",
       "      <td>NaN</td>\n",
       "      <td>21.0</td>\n",
       "      <td>NaN</td>\n",
       "      <td>0.0</td>\n",
       "      <td>NaN</td>\n",
       "      <td>0.053</td>\n",
       "      <td>0.053</td>\n",
       "    </tr>\n",
       "    <tr>\n",
       "      <th>2</th>\n",
       "      <td>Black, Non-Hispanic</td>\n",
       "      <td>489.337</td>\n",
       "      <td>NaN</td>\n",
       "      <td>134.0</td>\n",
       "      <td>NaN</td>\n",
       "      <td>0.0</td>\n",
       "      <td>NaN</td>\n",
       "      <td>0.340</td>\n",
       "      <td>0.325</td>\n",
       "    </tr>\n",
       "    <tr>\n",
       "      <th>3</th>\n",
       "      <td>Hispanic/Latino</td>\n",
       "      <td>566.691</td>\n",
       "      <td>NaN</td>\n",
       "      <td>70.0</td>\n",
       "      <td>NaN</td>\n",
       "      <td>0.0</td>\n",
       "      <td>NaN</td>\n",
       "      <td>0.178</td>\n",
       "      <td>0.160</td>\n",
       "    </tr>\n",
       "    <tr>\n",
       "      <th>4</th>\n",
       "      <td>Native Hawaiian/Other Pacific Islander, Non-Hi...</td>\n",
       "      <td>301.240</td>\n",
       "      <td>NaN</td>\n",
       "      <td>1.0</td>\n",
       "      <td>NaN</td>\n",
       "      <td>0.0</td>\n",
       "      <td>NaN</td>\n",
       "      <td>0.003</td>\n",
       "      <td>0.004</td>\n",
       "    </tr>\n",
       "    <tr>\n",
       "      <th>5</th>\n",
       "      <td>White, Non-Hispanic</td>\n",
       "      <td>514.869</td>\n",
       "      <td>NaN</td>\n",
       "      <td>165.0</td>\n",
       "      <td>NaN</td>\n",
       "      <td>0.0</td>\n",
       "      <td>NaN</td>\n",
       "      <td>0.419</td>\n",
       "      <td>0.439</td>\n",
       "    </tr>\n",
       "  </tbody>\n",
       "</table>\n",
       "</div>"
      ],
      "text/plain": [
       "                                              ethcat  wt_mean  wt_std  \\\n",
       "0               Amer Ind/Alaska Native, Non-Hispanic  615.953     NaN   \n",
       "1                                Asian, Non-Hispanic  598.874     NaN   \n",
       "2                                Black, Non-Hispanic  489.337     NaN   \n",
       "3                                    Hispanic/Latino  566.691     NaN   \n",
       "4  Native Hawaiian/Other Pacific Islander, Non-Hi...  301.240     NaN   \n",
       "5                                White, Non-Hispanic  514.869     NaN   \n",
       "\n",
       "   count_mean  count_std  st_mean  st_std  prop_simu  sample_proportion  \n",
       "0         3.0        NaN      0.0     NaN      0.008              0.014  \n",
       "1        21.0        NaN      0.0     NaN      0.053              0.053  \n",
       "2       134.0        NaN      0.0     NaN      0.340              0.325  \n",
       "3        70.0        NaN      0.0     NaN      0.178              0.160  \n",
       "4         1.0        NaN      0.0     NaN      0.003              0.004  \n",
       "5       165.0        NaN      0.0     NaN      0.419              0.439  "
      ]
     },
     "execution_count": 130,
     "metadata": {},
     "output_type": "execute_result"
    }
   ],
   "source": [
    "df_waiting_time"
   ]
  },
  {
   "cell_type": "code",
   "execution_count": null,
   "metadata": {},
   "outputs": [
    {
     "data": {
      "text/html": [
       "<div>\n",
       "<style scoped>\n",
       "    .dataframe tbody tr th:only-of-type {\n",
       "        vertical-align: middle;\n",
       "    }\n",
       "\n",
       "    .dataframe tbody tr th {\n",
       "        vertical-align: top;\n",
       "    }\n",
       "\n",
       "    .dataframe thead th {\n",
       "        text-align: right;\n",
       "    }\n",
       "</style>\n",
       "<table border=\"1\" class=\"dataframe\">\n",
       "  <thead>\n",
       "    <tr style=\"text-align: right;\">\n",
       "      <th></th>\n",
       "      <th>gender</th>\n",
       "      <th>wt_mean</th>\n",
       "      <th>wt_std</th>\n",
       "      <th>count_mean</th>\n",
       "      <th>count_std</th>\n",
       "      <th>st_mean</th>\n",
       "      <th>st_std</th>\n",
       "      <th>prop_sim</th>\n",
       "      <th>sample_proportion</th>\n",
       "    </tr>\n",
       "  </thead>\n",
       "  <tbody>\n",
       "    <tr>\n",
       "      <th>0</th>\n",
       "      <td>F</td>\n",
       "      <td>505.249600</td>\n",
       "      <td>NaN</td>\n",
       "      <td>135.0</td>\n",
       "      <td>NaN</td>\n",
       "      <td>0.0</td>\n",
       "      <td>NaN</td>\n",
       "      <td>0.34264</td>\n",
       "      <td>0.35173</td>\n",
       "    </tr>\n",
       "    <tr>\n",
       "      <th>1</th>\n",
       "      <td>M</td>\n",
       "      <td>527.836494</td>\n",
       "      <td>NaN</td>\n",
       "      <td>259.0</td>\n",
       "      <td>NaN</td>\n",
       "      <td>0.0</td>\n",
       "      <td>NaN</td>\n",
       "      <td>0.65736</td>\n",
       "      <td>0.64827</td>\n",
       "    </tr>\n",
       "  </tbody>\n",
       "</table>\n",
       "</div>"
      ],
      "text/plain": [
       "  gender     wt_mean  wt_std  count_mean  count_std  st_mean  st_std  \\\n",
       "0      F  505.249600     NaN       135.0        NaN      0.0     NaN   \n",
       "1      M  527.836494     NaN       259.0        NaN      0.0     NaN   \n",
       "\n",
       "   prop_sim  sample_proportion  \n",
       "0   0.34264            0.35173  \n",
       "1   0.65736            0.64827  "
      ]
     },
     "execution_count": 131,
     "metadata": {},
     "output_type": "execute_result"
    }
   ],
   "source": [
    "df_gender"
   ]
  },
  {
   "cell_type": "markdown",
   "metadata": {},
   "source": [
    "### patients who stay in final list"
   ]
  },
  {
   "cell_type": "code",
   "execution_count": null,
   "metadata": {},
   "outputs": [],
   "source": [
    "df_waiting_time, df_gender = get_summary_tables(results_p3_fl, ethcat_mapping, real_ethcat_df, real_gender_df)"
   ]
  },
  {
   "cell_type": "code",
   "execution_count": null,
   "metadata": {},
   "outputs": [
    {
     "data": {
      "text/html": [
       "<div>\n",
       "<style scoped>\n",
       "    .dataframe tbody tr th:only-of-type {\n",
       "        vertical-align: middle;\n",
       "    }\n",
       "\n",
       "    .dataframe tbody tr th {\n",
       "        vertical-align: top;\n",
       "    }\n",
       "\n",
       "    .dataframe thead th {\n",
       "        text-align: right;\n",
       "    }\n",
       "</style>\n",
       "<table border=\"1\" class=\"dataframe\">\n",
       "  <thead>\n",
       "    <tr style=\"text-align: right;\">\n",
       "      <th></th>\n",
       "      <th>ethcat</th>\n",
       "      <th>wt_mean</th>\n",
       "      <th>wt_std</th>\n",
       "      <th>count_mean</th>\n",
       "      <th>count_std</th>\n",
       "      <th>st_mean</th>\n",
       "      <th>st_std</th>\n",
       "      <th>prop_simu</th>\n",
       "      <th>sample_proportion</th>\n",
       "    </tr>\n",
       "  </thead>\n",
       "  <tbody>\n",
       "    <tr>\n",
       "      <th>0</th>\n",
       "      <td>Amer Ind/Alaska Native, Non-Hispanic</td>\n",
       "      <td>472.406</td>\n",
       "      <td>NaN</td>\n",
       "      <td>4.0</td>\n",
       "      <td>NaN</td>\n",
       "      <td>0.0</td>\n",
       "      <td>NaN</td>\n",
       "      <td>0.021</td>\n",
       "      <td>0.014</td>\n",
       "    </tr>\n",
       "    <tr>\n",
       "      <th>1</th>\n",
       "      <td>Asian, Non-Hispanic</td>\n",
       "      <td>503.992</td>\n",
       "      <td>NaN</td>\n",
       "      <td>8.0</td>\n",
       "      <td>NaN</td>\n",
       "      <td>0.0</td>\n",
       "      <td>NaN</td>\n",
       "      <td>0.042</td>\n",
       "      <td>0.053</td>\n",
       "    </tr>\n",
       "    <tr>\n",
       "      <th>2</th>\n",
       "      <td>Black, Non-Hispanic</td>\n",
       "      <td>634.070</td>\n",
       "      <td>NaN</td>\n",
       "      <td>65.0</td>\n",
       "      <td>NaN</td>\n",
       "      <td>0.0</td>\n",
       "      <td>NaN</td>\n",
       "      <td>0.339</td>\n",
       "      <td>0.325</td>\n",
       "    </tr>\n",
       "    <tr>\n",
       "      <th>3</th>\n",
       "      <td>Hispanic/Latino</td>\n",
       "      <td>481.117</td>\n",
       "      <td>NaN</td>\n",
       "      <td>43.0</td>\n",
       "      <td>NaN</td>\n",
       "      <td>0.0</td>\n",
       "      <td>NaN</td>\n",
       "      <td>0.224</td>\n",
       "      <td>0.160</td>\n",
       "    </tr>\n",
       "    <tr>\n",
       "      <th>4</th>\n",
       "      <td>Multiracial, Non-Hispanic</td>\n",
       "      <td>632.698</td>\n",
       "      <td>NaN</td>\n",
       "      <td>1.0</td>\n",
       "      <td>NaN</td>\n",
       "      <td>0.0</td>\n",
       "      <td>NaN</td>\n",
       "      <td>0.005</td>\n",
       "      <td>0.005</td>\n",
       "    </tr>\n",
       "    <tr>\n",
       "      <th>5</th>\n",
       "      <td>Native Hawaiian/Other Pacific Islander, Non-Hi...</td>\n",
       "      <td>754.330</td>\n",
       "      <td>NaN</td>\n",
       "      <td>1.0</td>\n",
       "      <td>NaN</td>\n",
       "      <td>0.0</td>\n",
       "      <td>NaN</td>\n",
       "      <td>0.005</td>\n",
       "      <td>0.004</td>\n",
       "    </tr>\n",
       "    <tr>\n",
       "      <th>6</th>\n",
       "      <td>White, Non-Hispanic</td>\n",
       "      <td>554.049</td>\n",
       "      <td>NaN</td>\n",
       "      <td>70.0</td>\n",
       "      <td>NaN</td>\n",
       "      <td>0.0</td>\n",
       "      <td>NaN</td>\n",
       "      <td>0.365</td>\n",
       "      <td>0.439</td>\n",
       "    </tr>\n",
       "  </tbody>\n",
       "</table>\n",
       "</div>"
      ],
      "text/plain": [
       "                                              ethcat  wt_mean  wt_std  \\\n",
       "0               Amer Ind/Alaska Native, Non-Hispanic  472.406     NaN   \n",
       "1                                Asian, Non-Hispanic  503.992     NaN   \n",
       "2                                Black, Non-Hispanic  634.070     NaN   \n",
       "3                                    Hispanic/Latino  481.117     NaN   \n",
       "4                          Multiracial, Non-Hispanic  632.698     NaN   \n",
       "5  Native Hawaiian/Other Pacific Islander, Non-Hi...  754.330     NaN   \n",
       "6                                White, Non-Hispanic  554.049     NaN   \n",
       "\n",
       "   count_mean  count_std  st_mean  st_std  prop_simu  sample_proportion  \n",
       "0         4.0        NaN      0.0     NaN      0.021              0.014  \n",
       "1         8.0        NaN      0.0     NaN      0.042              0.053  \n",
       "2        65.0        NaN      0.0     NaN      0.339              0.325  \n",
       "3        43.0        NaN      0.0     NaN      0.224              0.160  \n",
       "4         1.0        NaN      0.0     NaN      0.005              0.005  \n",
       "5         1.0        NaN      0.0     NaN      0.005              0.004  \n",
       "6        70.0        NaN      0.0     NaN      0.365              0.439  "
      ]
     },
     "execution_count": 133,
     "metadata": {},
     "output_type": "execute_result"
    }
   ],
   "source": [
    "df_waiting_time"
   ]
  },
  {
   "cell_type": "code",
   "execution_count": null,
   "metadata": {},
   "outputs": [
    {
     "data": {
      "text/html": [
       "<div>\n",
       "<style scoped>\n",
       "    .dataframe tbody tr th:only-of-type {\n",
       "        vertical-align: middle;\n",
       "    }\n",
       "\n",
       "    .dataframe tbody tr th {\n",
       "        vertical-align: top;\n",
       "    }\n",
       "\n",
       "    .dataframe thead th {\n",
       "        text-align: right;\n",
       "    }\n",
       "</style>\n",
       "<table border=\"1\" class=\"dataframe\">\n",
       "  <thead>\n",
       "    <tr style=\"text-align: right;\">\n",
       "      <th></th>\n",
       "      <th>gender</th>\n",
       "      <th>wt_mean</th>\n",
       "      <th>wt_std</th>\n",
       "      <th>count_mean</th>\n",
       "      <th>count_std</th>\n",
       "      <th>st_mean</th>\n",
       "      <th>st_std</th>\n",
       "      <th>prop_sim</th>\n",
       "      <th>sample_proportion</th>\n",
       "    </tr>\n",
       "  </thead>\n",
       "  <tbody>\n",
       "    <tr>\n",
       "      <th>0</th>\n",
       "      <td>F</td>\n",
       "      <td>559.097806</td>\n",
       "      <td>NaN</td>\n",
       "      <td>63.0</td>\n",
       "      <td>NaN</td>\n",
       "      <td>0.0</td>\n",
       "      <td>NaN</td>\n",
       "      <td>0.328125</td>\n",
       "      <td>0.35173</td>\n",
       "    </tr>\n",
       "    <tr>\n",
       "      <th>1</th>\n",
       "      <td>M</td>\n",
       "      <td>564.119319</td>\n",
       "      <td>NaN</td>\n",
       "      <td>129.0</td>\n",
       "      <td>NaN</td>\n",
       "      <td>0.0</td>\n",
       "      <td>NaN</td>\n",
       "      <td>0.671875</td>\n",
       "      <td>0.64827</td>\n",
       "    </tr>\n",
       "  </tbody>\n",
       "</table>\n",
       "</div>"
      ],
      "text/plain": [
       "  gender     wt_mean  wt_std  count_mean  count_std  st_mean  st_std  \\\n",
       "0      F  559.097806     NaN        63.0        NaN      0.0     NaN   \n",
       "1      M  564.119319     NaN       129.0        NaN      0.0     NaN   \n",
       "\n",
       "   prop_sim  sample_proportion  \n",
       "0  0.328125            0.35173  \n",
       "1  0.671875            0.64827  "
      ]
     },
     "execution_count": 134,
     "metadata": {},
     "output_type": "execute_result"
    }
   ],
   "source": [
    "df_gender"
   ]
  }
 ],
 "metadata": {
  "kernelspec": {
   "display_name": "base",
   "language": "python",
   "name": "python3"
  },
  "language_info": {
   "codemirror_mode": {
    "name": "ipython",
    "version": 3
   },
   "file_extension": ".py",
   "mimetype": "text/x-python",
   "name": "python",
   "nbconvert_exporter": "python",
   "pygments_lexer": "ipython3",
   "version": "3.12.2"
  }
 },
 "nbformat": 4,
 "nbformat_minor": 2
}
